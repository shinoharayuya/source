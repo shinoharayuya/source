{
 "cells": [
  {
   "cell_type": "code",
   "execution_count": 2,
   "id": "16a8290c",
   "metadata": {},
   "outputs": [],
   "source": [
    "import japanize_matplotlib\n",
    "import matplotlib.pyplot as plt\n",
    "import pandas as pd\n",
    "import numpy as np\n",
    "import seaborn as sns"
   ]
  },
  {
   "cell_type": "code",
   "execution_count": 3,
   "id": "d85f32fd",
   "metadata": {},
   "outputs": [],
   "source": [
    "df = pd.read_csv(\"anketo_hon.csv\")"
   ]
  },
  {
   "cell_type": "code",
   "execution_count": 4,
   "id": "571f92b8",
   "metadata": {},
   "outputs": [],
   "source": [
    "df[\"Q8\"].fillna(\"していない\",inplace=True)"
   ]
  },
  {
   "cell_type": "code",
   "execution_count": 5,
   "id": "0abdedc2",
   "metadata": {
    "scrolled": true
   },
   "outputs": [
    {
     "data": {
      "text/plain": [
       "0      3,4\n",
       "1        1\n",
       "2        1\n",
       "3        4\n",
       "4        1\n",
       "      ... \n",
       "243      1\n",
       "244      1\n",
       "245      2\n",
       "246      1\n",
       "247      2\n",
       "Name: Q9_3, Length: 248, dtype: object"
      ]
     },
     "execution_count": 5,
     "metadata": {},
     "output_type": "execute_result"
    }
   ],
   "source": [
    "df[\"Q9_3\"]"
   ]
  },
  {
   "cell_type": "code",
   "execution_count": null,
   "id": "2ebcfef0",
   "metadata": {},
   "outputs": [],
   "source": []
  },
  {
   "cell_type": "code",
   "execution_count": 6,
   "id": "418b76ca",
   "metadata": {},
   "outputs": [],
   "source": [
    "# df[\"keika_month\"] = [4 if x==-8 else 5 if x==-7 else x  for x in 4-df[\"start_month\"]]"
   ]
  },
  {
   "cell_type": "code",
   "execution_count": 7,
   "id": "786cc8fe",
   "metadata": {
    "scrolled": true
   },
   "outputs": [
    {
     "data": {
      "text/html": [
       "<div>\n",
       "<style scoped>\n",
       "    .dataframe tbody tr th:only-of-type {\n",
       "        vertical-align: middle;\n",
       "    }\n",
       "\n",
       "    .dataframe tbody tr th {\n",
       "        vertical-align: top;\n",
       "    }\n",
       "\n",
       "    .dataframe thead th {\n",
       "        text-align: right;\n",
       "    }\n",
       "</style>\n",
       "<table border=\"1\" class=\"dataframe\">\n",
       "  <thead>\n",
       "    <tr style=\"text-align: right;\">\n",
       "      <th></th>\n",
       "      <th>Q1</th>\n",
       "      <th>Q2</th>\n",
       "      <th>Q3</th>\n",
       "      <th>Q4</th>\n",
       "      <th>Q4_other</th>\n",
       "      <th>Q5</th>\n",
       "      <th>Q6</th>\n",
       "      <th>Q7</th>\n",
       "      <th>Q8</th>\n",
       "      <th>Q9_1</th>\n",
       "      <th>...</th>\n",
       "      <th>Q10</th>\n",
       "      <th>start_month</th>\n",
       "      <th>class</th>\n",
       "      <th>Unnamed: 17</th>\n",
       "      <th>age</th>\n",
       "      <th>sex</th>\n",
       "      <th>time_c</th>\n",
       "      <th>kikkake</th>\n",
       "      <th>_other</th>\n",
       "      <th>(y/m)</th>\n",
       "    </tr>\n",
       "  </thead>\n",
       "  <tbody>\n",
       "    <tr>\n",
       "      <th>2</th>\n",
       "      <td>4.0</td>\n",
       "      <td>3</td>\n",
       "      <td>3</td>\n",
       "      <td>5.0</td>\n",
       "      <td>0</td>\n",
       "      <td>1</td>\n",
       "      <td>3</td>\n",
       "      <td>4</td>\n",
       "      <td>応募先の探索</td>\n",
       "      <td>4.0</td>\n",
       "      <td>...</td>\n",
       "      <td>休日、祝日はしっかり休める、ワークライフバランス大事、安定的な給料がもらえる</td>\n",
       "      <td>2</td>\n",
       "      <td>JAVA_2月</td>\n",
       "      <td>開発</td>\n",
       "      <td>20代</td>\n",
       "      <td>女</td>\n",
       "      <td>62</td>\n",
       "      <td>ハローワーク</td>\n",
       "      <td>0</td>\n",
       "      <td>2022/12</td>\n",
       "    </tr>\n",
       "    <tr>\n",
       "      <th>2</th>\n",
       "      <td>4.0</td>\n",
       "      <td>3</td>\n",
       "      <td>3</td>\n",
       "      <td>5.0</td>\n",
       "      <td>0</td>\n",
       "      <td>1</td>\n",
       "      <td>3</td>\n",
       "      <td>4</td>\n",
       "      <td>応募先の探索</td>\n",
       "      <td>4.0</td>\n",
       "      <td>...</td>\n",
       "      <td>休日、祝日はしっかり休める、ワークライフバランス大事、安定的な給料がもらえる</td>\n",
       "      <td>2</td>\n",
       "      <td>JAVA_2月</td>\n",
       "      <td>開発</td>\n",
       "      <td>20代</td>\n",
       "      <td>女</td>\n",
       "      <td>62</td>\n",
       "      <td>ハローワーク</td>\n",
       "      <td>0</td>\n",
       "      <td>2022/12</td>\n",
       "    </tr>\n",
       "    <tr>\n",
       "      <th>2</th>\n",
       "      <td>4.0</td>\n",
       "      <td>3</td>\n",
       "      <td>3</td>\n",
       "      <td>5.0</td>\n",
       "      <td>0</td>\n",
       "      <td>1</td>\n",
       "      <td>3</td>\n",
       "      <td>4</td>\n",
       "      <td>応募先の探索</td>\n",
       "      <td>4.0</td>\n",
       "      <td>...</td>\n",
       "      <td>休日、祝日はしっかり休める、ワークライフバランス大事、安定的な給料がもらえる</td>\n",
       "      <td>2</td>\n",
       "      <td>JAVA_2月</td>\n",
       "      <td>開発</td>\n",
       "      <td>20代</td>\n",
       "      <td>女</td>\n",
       "      <td>62</td>\n",
       "      <td>ハローワーク</td>\n",
       "      <td>0</td>\n",
       "      <td>2022/12</td>\n",
       "    </tr>\n",
       "    <tr>\n",
       "      <th>2</th>\n",
       "      <td>4.0</td>\n",
       "      <td>3</td>\n",
       "      <td>3</td>\n",
       "      <td>5.0</td>\n",
       "      <td>0</td>\n",
       "      <td>1</td>\n",
       "      <td>3</td>\n",
       "      <td>4</td>\n",
       "      <td>応募先の探索</td>\n",
       "      <td>4.0</td>\n",
       "      <td>...</td>\n",
       "      <td>休日、祝日はしっかり休める、ワークライフバランス大事、安定的な給料がもらえる</td>\n",
       "      <td>2</td>\n",
       "      <td>JAVA_2月</td>\n",
       "      <td>開発</td>\n",
       "      <td>20代</td>\n",
       "      <td>女</td>\n",
       "      <td>62</td>\n",
       "      <td>ハローワーク</td>\n",
       "      <td>0</td>\n",
       "      <td>2022/12</td>\n",
       "    </tr>\n",
       "    <tr>\n",
       "      <th>2</th>\n",
       "      <td>4.0</td>\n",
       "      <td>3</td>\n",
       "      <td>3</td>\n",
       "      <td>5.0</td>\n",
       "      <td>0</td>\n",
       "      <td>1</td>\n",
       "      <td>3</td>\n",
       "      <td>4</td>\n",
       "      <td>応募先の探索</td>\n",
       "      <td>4.0</td>\n",
       "      <td>...</td>\n",
       "      <td>休日、祝日はしっかり休める、ワークライフバランス大事、安定的な給料がもらえる</td>\n",
       "      <td>2</td>\n",
       "      <td>JAVA_2月</td>\n",
       "      <td>開発</td>\n",
       "      <td>20代</td>\n",
       "      <td>女</td>\n",
       "      <td>62</td>\n",
       "      <td>ハローワーク</td>\n",
       "      <td>0</td>\n",
       "      <td>2022/12</td>\n",
       "    </tr>\n",
       "    <tr>\n",
       "      <th>...</th>\n",
       "      <td>...</td>\n",
       "      <td>...</td>\n",
       "      <td>...</td>\n",
       "      <td>...</td>\n",
       "      <td>...</td>\n",
       "      <td>...</td>\n",
       "      <td>...</td>\n",
       "      <td>...</td>\n",
       "      <td>...</td>\n",
       "      <td>...</td>\n",
       "      <td>...</td>\n",
       "      <td>...</td>\n",
       "      <td>...</td>\n",
       "      <td>...</td>\n",
       "      <td>...</td>\n",
       "      <td>...</td>\n",
       "      <td>...</td>\n",
       "      <td>...</td>\n",
       "      <td>...</td>\n",
       "      <td>...</td>\n",
       "      <td>...</td>\n",
       "    </tr>\n",
       "    <tr>\n",
       "      <th>4</th>\n",
       "      <td>3.0</td>\n",
       "      <td>3</td>\n",
       "      <td>3</td>\n",
       "      <td>5.0</td>\n",
       "      <td>0</td>\n",
       "      <td>3</td>\n",
       "      <td>4</td>\n",
       "      <td>4</td>\n",
       "      <td>応募先の探索</td>\n",
       "      <td>3.0</td>\n",
       "      <td>...</td>\n",
       "      <td>知らないことを知ること</td>\n",
       "      <td>2</td>\n",
       "      <td>JAVA_2月</td>\n",
       "      <td>開発</td>\n",
       "      <td>40代</td>\n",
       "      <td>男</td>\n",
       "      <td>15</td>\n",
       "      <td>ハローワーク</td>\n",
       "      <td>0</td>\n",
       "      <td>2023/3</td>\n",
       "    </tr>\n",
       "    <tr>\n",
       "      <th>4</th>\n",
       "      <td>3.0</td>\n",
       "      <td>3</td>\n",
       "      <td>3</td>\n",
       "      <td>5.0</td>\n",
       "      <td>0</td>\n",
       "      <td>3</td>\n",
       "      <td>4</td>\n",
       "      <td>4</td>\n",
       "      <td>応募先の探索</td>\n",
       "      <td>3.0</td>\n",
       "      <td>...</td>\n",
       "      <td>知らないことを知ること</td>\n",
       "      <td>2</td>\n",
       "      <td>JAVA_2月</td>\n",
       "      <td>開発</td>\n",
       "      <td>40代</td>\n",
       "      <td>男</td>\n",
       "      <td>15</td>\n",
       "      <td>ハローワーク</td>\n",
       "      <td>0</td>\n",
       "      <td>2023/3</td>\n",
       "    </tr>\n",
       "    <tr>\n",
       "      <th>4</th>\n",
       "      <td>3.0</td>\n",
       "      <td>3</td>\n",
       "      <td>3</td>\n",
       "      <td>5.0</td>\n",
       "      <td>0</td>\n",
       "      <td>3</td>\n",
       "      <td>4</td>\n",
       "      <td>4</td>\n",
       "      <td>応募先の探索</td>\n",
       "      <td>3.0</td>\n",
       "      <td>...</td>\n",
       "      <td>知らないことを知ること</td>\n",
       "      <td>2</td>\n",
       "      <td>JAVA_2月</td>\n",
       "      <td>開発</td>\n",
       "      <td>40代</td>\n",
       "      <td>男</td>\n",
       "      <td>15</td>\n",
       "      <td>ハローワーク</td>\n",
       "      <td>0</td>\n",
       "      <td>2023/3</td>\n",
       "    </tr>\n",
       "    <tr>\n",
       "      <th>4</th>\n",
       "      <td>3.0</td>\n",
       "      <td>3</td>\n",
       "      <td>3</td>\n",
       "      <td>5.0</td>\n",
       "      <td>0</td>\n",
       "      <td>3</td>\n",
       "      <td>4</td>\n",
       "      <td>4</td>\n",
       "      <td>応募先の探索</td>\n",
       "      <td>3.0</td>\n",
       "      <td>...</td>\n",
       "      <td>知らないことを知ること</td>\n",
       "      <td>2</td>\n",
       "      <td>JAVA_2月</td>\n",
       "      <td>開発</td>\n",
       "      <td>40代</td>\n",
       "      <td>男</td>\n",
       "      <td>15</td>\n",
       "      <td>ハローワーク</td>\n",
       "      <td>0</td>\n",
       "      <td>2023/3</td>\n",
       "    </tr>\n",
       "    <tr>\n",
       "      <th>4</th>\n",
       "      <td>3.0</td>\n",
       "      <td>3</td>\n",
       "      <td>3</td>\n",
       "      <td>5.0</td>\n",
       "      <td>0</td>\n",
       "      <td>3</td>\n",
       "      <td>4</td>\n",
       "      <td>4</td>\n",
       "      <td>応募先の探索</td>\n",
       "      <td>3.0</td>\n",
       "      <td>...</td>\n",
       "      <td>知らないことを知ること</td>\n",
       "      <td>2</td>\n",
       "      <td>JAVA_2月</td>\n",
       "      <td>開発</td>\n",
       "      <td>40代</td>\n",
       "      <td>男</td>\n",
       "      <td>15</td>\n",
       "      <td>ハローワーク</td>\n",
       "      <td>0</td>\n",
       "      <td>2023/3</td>\n",
       "    </tr>\n",
       "  </tbody>\n",
       "</table>\n",
       "<p>248 rows × 24 columns</p>\n",
       "</div>"
      ],
      "text/plain": [
       "     Q1  Q2  Q3   Q4 Q4_other  Q5  Q6 Q7      Q8  Q9_1  ...  \\\n",
       "2   4.0   3   3  5.0        0   1   3  4  応募先の探索   4.0  ...   \n",
       "2   4.0   3   3  5.0        0   1   3  4  応募先の探索   4.0  ...   \n",
       "2   4.0   3   3  5.0        0   1   3  4  応募先の探索   4.0  ...   \n",
       "2   4.0   3   3  5.0        0   1   3  4  応募先の探索   4.0  ...   \n",
       "2   4.0   3   3  5.0        0   1   3  4  応募先の探索   4.0  ...   \n",
       "..  ...  ..  ..  ...      ...  ..  .. ..     ...   ...  ...   \n",
       "4   3.0   3   3  5.0        0   3   4  4  応募先の探索   3.0  ...   \n",
       "4   3.0   3   3  5.0        0   3   4  4  応募先の探索   3.0  ...   \n",
       "4   3.0   3   3  5.0        0   3   4  4  応募先の探索   3.0  ...   \n",
       "4   3.0   3   3  5.0        0   3   4  4  応募先の探索   3.0  ...   \n",
       "4   3.0   3   3  5.0        0   3   4  4  応募先の探索   3.0  ...   \n",
       "\n",
       "                                       Q10 start_month    class Unnamed: 17  \\\n",
       "2   休日、祝日はしっかり休める、ワークライフバランス大事、安定的な給料がもらえる           2  JAVA_2月          開発   \n",
       "2   休日、祝日はしっかり休める、ワークライフバランス大事、安定的な給料がもらえる           2  JAVA_2月          開発   \n",
       "2   休日、祝日はしっかり休める、ワークライフバランス大事、安定的な給料がもらえる           2  JAVA_2月          開発   \n",
       "2   休日、祝日はしっかり休める、ワークライフバランス大事、安定的な給料がもらえる           2  JAVA_2月          開発   \n",
       "2   休日、祝日はしっかり休める、ワークライフバランス大事、安定的な給料がもらえる           2  JAVA_2月          開発   \n",
       "..                                     ...         ...      ...         ...   \n",
       "4                              知らないことを知ること           2  JAVA_2月          開発   \n",
       "4                              知らないことを知ること           2  JAVA_2月          開発   \n",
       "4                              知らないことを知ること           2  JAVA_2月          開発   \n",
       "4                              知らないことを知ること           2  JAVA_2月          開発   \n",
       "4                              知らないことを知ること           2  JAVA_2月          開発   \n",
       "\n",
       "    age  sex time_c kikkake _other    (y/m)  \n",
       "2   20代    女     62  ハローワーク      0  2022/12  \n",
       "2   20代    女     62  ハローワーク      0  2022/12  \n",
       "2   20代    女     62  ハローワーク      0  2022/12  \n",
       "2   20代    女     62  ハローワーク      0  2022/12  \n",
       "2   20代    女     62  ハローワーク      0  2022/12  \n",
       "..  ...  ...    ...     ...    ...      ...  \n",
       "4   40代    男     15  ハローワーク      0   2023/3  \n",
       "4   40代    男     15  ハローワーク      0   2023/3  \n",
       "4   40代    男     15  ハローワーク      0   2023/3  \n",
       "4   40代    男     15  ハローワーク      0   2023/3  \n",
       "4   40代    男     15  ハローワーク      0   2023/3  \n",
       "\n",
       "[248 rows x 24 columns]"
      ]
     },
     "execution_count": 7,
     "metadata": {},
     "output_type": "execute_result"
    }
   ],
   "source": [
    "df.loc[df[\"start_month\"]]"
   ]
  },
  {
   "cell_type": "code",
   "execution_count": 8,
   "id": "955e15c8",
   "metadata": {},
   "outputs": [],
   "source": [
    "# df[\"seizon\"] = [\"1\" if x==\"応募先の探索\"or x==\"エントリー\"or x==\"面接\"or x==\"内定\" else \"0\" for x in df[\"Q8\"]]"
   ]
  },
  {
   "cell_type": "code",
   "execution_count": 9,
   "id": "f726f3f9",
   "metadata": {},
   "outputs": [],
   "source": [
    "#応募先の探求を１とした生存列を追加"
   ]
  },
  {
   "cell_type": "code",
   "execution_count": 10,
   "id": "4369c2d1",
   "metadata": {},
   "outputs": [
    {
     "data": {
      "text/html": [
       "<div>\n",
       "<style scoped>\n",
       "    .dataframe tbody tr th:only-of-type {\n",
       "        vertical-align: middle;\n",
       "    }\n",
       "\n",
       "    .dataframe tbody tr th {\n",
       "        vertical-align: top;\n",
       "    }\n",
       "\n",
       "    .dataframe thead th {\n",
       "        text-align: right;\n",
       "    }\n",
       "</style>\n",
       "<table border=\"1\" class=\"dataframe\">\n",
       "  <thead>\n",
       "    <tr style=\"text-align: right;\">\n",
       "      <th></th>\n",
       "      <th>Q1</th>\n",
       "      <th>Q2</th>\n",
       "      <th>Q3</th>\n",
       "      <th>Q4</th>\n",
       "      <th>Q4_other</th>\n",
       "      <th>Q5</th>\n",
       "      <th>Q6</th>\n",
       "      <th>Q7</th>\n",
       "      <th>Q8</th>\n",
       "      <th>Q9_1</th>\n",
       "      <th>...</th>\n",
       "      <th>Q10</th>\n",
       "      <th>start_month</th>\n",
       "      <th>class</th>\n",
       "      <th>Unnamed: 17</th>\n",
       "      <th>age</th>\n",
       "      <th>sex</th>\n",
       "      <th>time_c</th>\n",
       "      <th>kikkake</th>\n",
       "      <th>_other</th>\n",
       "      <th>(y/m)</th>\n",
       "    </tr>\n",
       "  </thead>\n",
       "  <tbody>\n",
       "    <tr>\n",
       "      <th>0</th>\n",
       "      <td>3.0</td>\n",
       "      <td>3</td>\n",
       "      <td>3</td>\n",
       "      <td>3.0</td>\n",
       "      <td>0</td>\n",
       "      <td>1</td>\n",
       "      <td>3</td>\n",
       "      <td>3</td>\n",
       "      <td>応募書類の作成</td>\n",
       "      <td>2.0</td>\n",
       "      <td>...</td>\n",
       "      <td>有休の取りやすさ、残業少なめ、リモートできる職種</td>\n",
       "      <td>2</td>\n",
       "      <td>JAVA_2月</td>\n",
       "      <td>開発</td>\n",
       "      <td>50代</td>\n",
       "      <td>女</td>\n",
       "      <td>50</td>\n",
       "      <td>ハローワーク</td>\n",
       "      <td>0</td>\n",
       "      <td>2023/4</td>\n",
       "    </tr>\n",
       "    <tr>\n",
       "      <th>1</th>\n",
       "      <td>3.0</td>\n",
       "      <td>3</td>\n",
       "      <td>3</td>\n",
       "      <td>3.0</td>\n",
       "      <td>0</td>\n",
       "      <td>1</td>\n",
       "      <td>3</td>\n",
       "      <td>3</td>\n",
       "      <td>応募先の探索</td>\n",
       "      <td>4.0</td>\n",
       "      <td>...</td>\n",
       "      <td>自身が未経験での転職の為、プログラミングのあらゆることを伸ばしつつ、活躍できる場</td>\n",
       "      <td>2</td>\n",
       "      <td>JAVA_2月</td>\n",
       "      <td>開発</td>\n",
       "      <td>30代</td>\n",
       "      <td>男</td>\n",
       "      <td>30</td>\n",
       "      <td>ハローワーク</td>\n",
       "      <td>0</td>\n",
       "      <td>2023/3</td>\n",
       "    </tr>\n",
       "    <tr>\n",
       "      <th>2</th>\n",
       "      <td>4.0</td>\n",
       "      <td>3</td>\n",
       "      <td>3</td>\n",
       "      <td>5.0</td>\n",
       "      <td>0</td>\n",
       "      <td>1</td>\n",
       "      <td>3</td>\n",
       "      <td>4</td>\n",
       "      <td>応募先の探索</td>\n",
       "      <td>4.0</td>\n",
       "      <td>...</td>\n",
       "      <td>休日、祝日はしっかり休める、ワークライフバランス大事、安定的な給料がもらえる</td>\n",
       "      <td>2</td>\n",
       "      <td>JAVA_2月</td>\n",
       "      <td>開発</td>\n",
       "      <td>20代</td>\n",
       "      <td>女</td>\n",
       "      <td>62</td>\n",
       "      <td>ハローワーク</td>\n",
       "      <td>0</td>\n",
       "      <td>2022/12</td>\n",
       "    </tr>\n",
       "    <tr>\n",
       "      <th>3</th>\n",
       "      <td>3.0</td>\n",
       "      <td>3</td>\n",
       "      <td>3</td>\n",
       "      <td>3.0</td>\n",
       "      <td>0</td>\n",
       "      <td>1</td>\n",
       "      <td>3</td>\n",
       "      <td>3</td>\n",
       "      <td>エントリー</td>\n",
       "      <td>4.0</td>\n",
       "      <td>...</td>\n",
       "      <td>休日数、勤務地、業務内容</td>\n",
       "      <td>2</td>\n",
       "      <td>JAVA_2月</td>\n",
       "      <td>開発</td>\n",
       "      <td>20代</td>\n",
       "      <td>男</td>\n",
       "      <td>70</td>\n",
       "      <td>知人</td>\n",
       "      <td>0</td>\n",
       "      <td>2023/3</td>\n",
       "    </tr>\n",
       "    <tr>\n",
       "      <th>4</th>\n",
       "      <td>3.0</td>\n",
       "      <td>3</td>\n",
       "      <td>3</td>\n",
       "      <td>5.0</td>\n",
       "      <td>0</td>\n",
       "      <td>3</td>\n",
       "      <td>4</td>\n",
       "      <td>4</td>\n",
       "      <td>応募先の探索</td>\n",
       "      <td>3.0</td>\n",
       "      <td>...</td>\n",
       "      <td>知らないことを知ること</td>\n",
       "      <td>2</td>\n",
       "      <td>JAVA_2月</td>\n",
       "      <td>開発</td>\n",
       "      <td>40代</td>\n",
       "      <td>男</td>\n",
       "      <td>15</td>\n",
       "      <td>ハローワーク</td>\n",
       "      <td>0</td>\n",
       "      <td>2023/3</td>\n",
       "    </tr>\n",
       "    <tr>\n",
       "      <th>...</th>\n",
       "      <td>...</td>\n",
       "      <td>...</td>\n",
       "      <td>...</td>\n",
       "      <td>...</td>\n",
       "      <td>...</td>\n",
       "      <td>...</td>\n",
       "      <td>...</td>\n",
       "      <td>...</td>\n",
       "      <td>...</td>\n",
       "      <td>...</td>\n",
       "      <td>...</td>\n",
       "      <td>...</td>\n",
       "      <td>...</td>\n",
       "      <td>...</td>\n",
       "      <td>...</td>\n",
       "      <td>...</td>\n",
       "      <td>...</td>\n",
       "      <td>...</td>\n",
       "      <td>...</td>\n",
       "      <td>...</td>\n",
       "      <td>...</td>\n",
       "    </tr>\n",
       "    <tr>\n",
       "      <th>243</th>\n",
       "      <td>4.0</td>\n",
       "      <td>3</td>\n",
       "      <td>1</td>\n",
       "      <td>6.0</td>\n",
       "      <td>180</td>\n",
       "      <td>3</td>\n",
       "      <td>4</td>\n",
       "      <td>4</td>\n",
       "      <td>していない</td>\n",
       "      <td>3.0</td>\n",
       "      <td>...</td>\n",
       "      <td>職務内容</td>\n",
       "      <td>4</td>\n",
       "      <td>三宮実践Java+Pythonプログラマー養成4月</td>\n",
       "      <td>開発</td>\n",
       "      <td>20代</td>\n",
       "      <td>男</td>\n",
       "      <td>60</td>\n",
       "      <td>Web</td>\n",
       "      <td>0</td>\n",
       "      <td>2023/8</td>\n",
       "    </tr>\n",
       "    <tr>\n",
       "      <th>244</th>\n",
       "      <td>3.0</td>\n",
       "      <td>3</td>\n",
       "      <td>2</td>\n",
       "      <td>1.0</td>\n",
       "      <td>0</td>\n",
       "      <td>2</td>\n",
       "      <td>4</td>\n",
       "      <td>4</td>\n",
       "      <td>応募先の探索</td>\n",
       "      <td>3.0</td>\n",
       "      <td>...</td>\n",
       "      <td>ワークライフバランス/やりがい</td>\n",
       "      <td>4</td>\n",
       "      <td>三宮実践Java+Pythonプログラマー養成4月</td>\n",
       "      <td>開発</td>\n",
       "      <td>20代</td>\n",
       "      <td>男</td>\n",
       "      <td>45</td>\n",
       "      <td>ハローワーク</td>\n",
       "      <td>知人の紹介</td>\n",
       "      <td>2023/6</td>\n",
       "    </tr>\n",
       "    <tr>\n",
       "      <th>245</th>\n",
       "      <td>2.0</td>\n",
       "      <td>2</td>\n",
       "      <td>1</td>\n",
       "      <td>3.0</td>\n",
       "      <td>0</td>\n",
       "      <td>3</td>\n",
       "      <td>4</td>\n",
       "      <td>4</td>\n",
       "      <td>応募先の探索</td>\n",
       "      <td>4.0</td>\n",
       "      <td>...</td>\n",
       "      <td>良好な人間関係</td>\n",
       "      <td>4</td>\n",
       "      <td>三宮実践Java+Pythonプログラマー養成4月</td>\n",
       "      <td>開発</td>\n",
       "      <td>30代</td>\n",
       "      <td>男</td>\n",
       "      <td>45</td>\n",
       "      <td>ハローワーク</td>\n",
       "      <td>0</td>\n",
       "      <td>2023/5</td>\n",
       "    </tr>\n",
       "    <tr>\n",
       "      <th>246</th>\n",
       "      <td>2.0</td>\n",
       "      <td>2</td>\n",
       "      <td>3</td>\n",
       "      <td>2.0</td>\n",
       "      <td>0</td>\n",
       "      <td>2</td>\n",
       "      <td>3</td>\n",
       "      <td>4</td>\n",
       "      <td>していない</td>\n",
       "      <td>3.0</td>\n",
       "      <td>...</td>\n",
       "      <td>NaN</td>\n",
       "      <td>4</td>\n",
       "      <td>三宮実践Java+Pythonプログラマー養成4月</td>\n",
       "      <td>開発</td>\n",
       "      <td>30代</td>\n",
       "      <td>男</td>\n",
       "      <td>90</td>\n",
       "      <td>ハローワーク</td>\n",
       "      <td>0</td>\n",
       "      <td>2023/07</td>\n",
       "    </tr>\n",
       "    <tr>\n",
       "      <th>247</th>\n",
       "      <td>3.0</td>\n",
       "      <td>4</td>\n",
       "      <td>2</td>\n",
       "      <td>NaN</td>\n",
       "      <td>0</td>\n",
       "      <td>1</td>\n",
       "      <td>4</td>\n",
       "      <td>3</td>\n",
       "      <td>応募先の探索</td>\n",
       "      <td>4.0</td>\n",
       "      <td>...</td>\n",
       "      <td>ステップアップできる環境/希望に近い給与/通勤負荷ができるだけ少ないこと/社内の研修制度</td>\n",
       "      <td>4</td>\n",
       "      <td>三宮実践Java+Pythonプログラマー養成4月</td>\n",
       "      <td>開発</td>\n",
       "      <td>40代</td>\n",
       "      <td>男</td>\n",
       "      <td>40</td>\n",
       "      <td>ハローワーク</td>\n",
       "      <td>NaN</td>\n",
       "      <td>2023/6</td>\n",
       "    </tr>\n",
       "  </tbody>\n",
       "</table>\n",
       "<p>248 rows × 24 columns</p>\n",
       "</div>"
      ],
      "text/plain": [
       "      Q1  Q2  Q3   Q4 Q4_other  Q5  Q6 Q7       Q8  Q9_1  ...  \\\n",
       "0    3.0   3   3  3.0        0   1   3  3  応募書類の作成   2.0  ...   \n",
       "1    3.0   3   3  3.0        0   1   3  3   応募先の探索   4.0  ...   \n",
       "2    4.0   3   3  5.0        0   1   3  4   応募先の探索   4.0  ...   \n",
       "3    3.0   3   3  3.0        0   1   3  3    エントリー   4.0  ...   \n",
       "4    3.0   3   3  5.0        0   3   4  4   応募先の探索   3.0  ...   \n",
       "..   ...  ..  ..  ...      ...  ..  .. ..      ...   ...  ...   \n",
       "243  4.0   3   1  6.0      180   3   4  4    していない   3.0  ...   \n",
       "244  3.0   3   2  1.0        0   2   4  4   応募先の探索   3.0  ...   \n",
       "245  2.0   2   1  3.0        0   3   4  4   応募先の探索   4.0  ...   \n",
       "246  2.0   2   3  2.0        0   2   3  4    していない   3.0  ...   \n",
       "247  3.0   4   2  NaN        0   1   4  3   応募先の探索   4.0  ...   \n",
       "\n",
       "                                              Q10 start_month  \\\n",
       "0                        有休の取りやすさ、残業少なめ、リモートできる職種           2   \n",
       "1        自身が未経験での転職の為、プログラミングのあらゆることを伸ばしつつ、活躍できる場           2   \n",
       "2          休日、祝日はしっかり休める、ワークライフバランス大事、安定的な給料がもらえる           2   \n",
       "3                                    休日数、勤務地、業務内容           2   \n",
       "4                                     知らないことを知ること           2   \n",
       "..                                            ...         ...   \n",
       "243                                          職務内容           4   \n",
       "244                               ワークライフバランス/やりがい           4   \n",
       "245                                       良好な人間関係           4   \n",
       "246                                           NaN           4   \n",
       "247  ステップアップできる環境/希望に近い給与/通勤負荷ができるだけ少ないこと/社内の研修制度           4   \n",
       "\n",
       "                         class Unnamed: 17  age  sex time_c kikkake _other  \\\n",
       "0                      JAVA_2月          開発  50代    女     50  ハローワーク      0   \n",
       "1                      JAVA_2月          開発  30代    男     30  ハローワーク      0   \n",
       "2                      JAVA_2月          開発  20代    女     62  ハローワーク      0   \n",
       "3                      JAVA_2月          開発  20代    男     70      知人      0   \n",
       "4                      JAVA_2月          開発  40代    男     15  ハローワーク      0   \n",
       "..                         ...         ...  ...  ...    ...     ...    ...   \n",
       "243  三宮実践Java+Pythonプログラマー養成4月          開発  20代    男     60     Web      0   \n",
       "244  三宮実践Java+Pythonプログラマー養成4月          開発  20代    男     45  ハローワーク  知人の紹介   \n",
       "245  三宮実践Java+Pythonプログラマー養成4月          開発  30代    男     45  ハローワーク      0   \n",
       "246  三宮実践Java+Pythonプログラマー養成4月          開発  30代    男     90  ハローワーク      0   \n",
       "247  三宮実践Java+Pythonプログラマー養成4月          開発  40代    男     40  ハローワーク    NaN   \n",
       "\n",
       "       (y/m)  \n",
       "0     2023/4  \n",
       "1     2023/3  \n",
       "2    2022/12  \n",
       "3     2023/3  \n",
       "4     2023/3  \n",
       "..       ...  \n",
       "243   2023/8  \n",
       "244   2023/6  \n",
       "245   2023/5  \n",
       "246  2023/07  \n",
       "247   2023/6  \n",
       "\n",
       "[248 rows x 24 columns]"
      ]
     },
     "execution_count": 10,
     "metadata": {},
     "output_type": "execute_result"
    }
   ],
   "source": [
    "df"
   ]
  },
  {
   "cell_type": "code",
   "execution_count": null,
   "id": "ea6f0c4e",
   "metadata": {},
   "outputs": [],
   "source": []
  },
  {
   "cell_type": "code",
   "execution_count": 11,
   "id": "f8d36b5c",
   "metadata": {
    "scrolled": true
   },
   "outputs": [
    {
     "data": {
      "text/plain": [
       "Q1              1\n",
       "Q2              0\n",
       "Q3              0\n",
       "Q4              1\n",
       "Q4_other       12\n",
       "Q5              0\n",
       "Q6              0\n",
       "Q7              1\n",
       "Q8              0\n",
       "Q9_1            1\n",
       "Q9_2            1\n",
       "Q9_2_other      1\n",
       "Q9_3            4\n",
       "Q9_3_other      1\n",
       "Q10             9\n",
       "start_month     0\n",
       "class           0\n",
       "Unnamed: 17     0\n",
       "age             2\n",
       "sex             5\n",
       "time_c          2\n",
       "kikkake         3\n",
       "_other         31\n",
       "(y/m)           7\n",
       "dtype: int64"
      ]
     },
     "execution_count": 11,
     "metadata": {},
     "output_type": "execute_result"
    }
   ],
   "source": [
    "df.isnull().sum()"
   ]
  },
  {
   "cell_type": "code",
   "execution_count": 12,
   "id": "29a3d481",
   "metadata": {},
   "outputs": [],
   "source": [
    "a = [\"Q1\",\"Q2\",\"Q5\",\"Q8\",\"Q9_1\",\"class\",\"time_c\",\"sex\",\"start_month\"]"
   ]
  },
  {
   "cell_type": "code",
   "execution_count": 13,
   "id": "1711bd29",
   "metadata": {},
   "outputs": [],
   "source": [
    "df2 = df.loc[:,a]"
   ]
  },
  {
   "cell_type": "code",
   "execution_count": 14,
   "id": "4288a765",
   "metadata": {},
   "outputs": [],
   "source": [
    "#df[\"seizon\"] = [1 if x==\"エントリー\"or x==\"面接\" or x==\"内定\" else 0 for x in df[\"Q8\"]]\n",
    "#df[\"honkido\"] = [1 if x >= 70 else 0 for x in df[\"time_c\"]]\n",
    "df2[\"seizon_naitei\"] = [\"1\" if x==\"内定\" else \"0\" for x in df2[\"Q8\"]]"
   ]
  },
  {
   "cell_type": "code",
   "execution_count": 15,
   "id": "9434f270",
   "metadata": {},
   "outputs": [],
   "source": [
    "# df2 = df2.dropna(how=\"any\",axis=0, subset=\"Q8\")"
   ]
  },
  {
   "cell_type": "code",
   "execution_count": 16,
   "id": "5326e39b",
   "metadata": {
    "scrolled": true
   },
   "outputs": [
    {
     "data": {
      "text/plain": [
       "Q1               1\n",
       "Q2               0\n",
       "Q5               0\n",
       "Q8               0\n",
       "Q9_1             1\n",
       "class            0\n",
       "time_c           2\n",
       "sex              5\n",
       "start_month      0\n",
       "seizon_naitei    0\n",
       "dtype: int64"
      ]
     },
     "execution_count": 16,
     "metadata": {},
     "output_type": "execute_result"
    }
   ],
   "source": [
    "df2.isnull().sum()"
   ]
  },
  {
   "cell_type": "code",
   "execution_count": 17,
   "id": "1ed74362",
   "metadata": {
    "scrolled": true
   },
   "outputs": [],
   "source": [
    "df2 = df2.dropna(how=\"any\",axis=0, subset=\"sex\")"
   ]
  },
  {
   "cell_type": "code",
   "execution_count": 18,
   "id": "50710c8f",
   "metadata": {},
   "outputs": [],
   "source": [
    "# d=df.loc[:,]\n",
    "# a=[]\n",
    "# a1=[]\n",
    "# for i,e in d,:\n",
    "#     if i==3 or i==4:\n",
    "#         a.append(1)\n",
    "#     elif i==0 or i==1:\n",
    "#         a.append(0)\n",
    "#     elif e==3 or e==4:\n",
    "#         a1.append(1)\n",
    "#     else:\n",
    "#         a1.appne(0)"
   ]
  },
  {
   "cell_type": "code",
   "execution_count": 19,
   "id": "9a232a97",
   "metadata": {},
   "outputs": [],
   "source": [
    "#df2[\"sex1\"] = [\"0\" if x==\"男性\"  else \"1\" for x in df2[\"sex\"]]"
   ]
  },
  {
   "cell_type": "code",
   "execution_count": 20,
   "id": "e58fa55a",
   "metadata": {},
   "outputs": [],
   "source": [
    "df2[\"Q8a\"] = [\"siteinai\" if x==\"していない\" else \"jikobunseki\" if x==\"自己分析\" else \"sakusei\" if x==\"応募書類の作成\" else \"tankyu\" if x ==\"応募先の探索\" else \"entry\" if x==\"エントリー\" else \"mensetu\" if x==\"面接\" else \"naitei\" for x in df2[\"Q8\"]]"
   ]
  },
  {
   "cell_type": "code",
   "execution_count": 21,
   "id": "2be7b0ca",
   "metadata": {},
   "outputs": [],
   "source": [
    "df2[\"stage\"] = [0 if x==\"していない\" else 1 if x==\"自己分析\" else 2 if x==\"応募書類の作成\" else 3 if x ==\"応募先の探索\" else 4 if x==\"エントリー\" else 5 if x==\"面接\" else 6 for x in df2[\"Q8\"]]"
   ]
  },
  {
   "cell_type": "code",
   "execution_count": 22,
   "id": "1d9fe6f1",
   "metadata": {},
   "outputs": [],
   "source": [
    "df2[\"stage1\"] = [0 if x==0 or x==1 or x==2 or x==3 else 1 for x in df2[\"stage\"]]"
   ]
  },
  {
   "cell_type": "code",
   "execution_count": 23,
   "id": "0c799bc1",
   "metadata": {},
   "outputs": [],
   "source": [
    "df2[\"keika_month\"] = [4 if x==-8 else 5 if x==-7 else x  for x in 4-df2[\"start_month\"]]"
   ]
  },
  {
   "cell_type": "code",
   "execution_count": 24,
   "id": "2ce33c02",
   "metadata": {},
   "outputs": [],
   "source": [
    "df2[\"sekkyoku\"] = [\"1\" if x==3 or x==4 else \"0\" for x in df2[\"Q2\"]]"
   ]
  },
  {
   "cell_type": "code",
   "execution_count": 25,
   "id": "66cfa3b4",
   "metadata": {},
   "outputs": [],
   "source": [
    "df2[\"gaikouteki\"] = [\"1\" if x==3 or x==4  else \"0\" for x in df2[\"Q1\"]]"
   ]
  },
  {
   "cell_type": "code",
   "execution_count": 26,
   "id": "9ad1d9eb",
   "metadata": {},
   "outputs": [],
   "source": [
    "df2[\"gaikouteki_a\"] = [\"1\" if x==4  else \"0\" for x in df2[\"Q1\"]]"
   ]
  },
  {
   "cell_type": "code",
   "execution_count": 27,
   "id": "401032d9",
   "metadata": {},
   "outputs": [],
   "source": [
    "df2[\"iyoku\"] = [\"1\" if x==3 or x==4  else \"0\" for x in df2[\"Q9_1\"]]"
   ]
  },
  {
   "cell_type": "code",
   "execution_count": 28,
   "id": "ac65ec0f",
   "metadata": {},
   "outputs": [],
   "source": [
    "df2[\"iyoku_a\"] = [\"1\" if x==4  else \"0\" for x in df2[\"Q9_1\"]]"
   ]
  },
  {
   "cell_type": "code",
   "execution_count": 29,
   "id": "fde5d754",
   "metadata": {},
   "outputs": [],
   "source": [
    "df2[\"jizen\"] = [\"1\" if x==3 or x==4  else \"0\" for x in df2[\"Q5\"]]"
   ]
  },
  {
   "cell_type": "code",
   "execution_count": 30,
   "id": "04c8ef79",
   "metadata": {},
   "outputs": [],
   "source": [
    "# df2.to_csv(\"naitei_non.csv\", encoding=\"shift_jis\")"
   ]
  },
  {
   "cell_type": "code",
   "execution_count": 31,
   "id": "2ea0eb5a",
   "metadata": {},
   "outputs": [],
   "source": [
    "df2[\"seizon_ent\"] = [\"1\" if x==\"エントリー\"or x==\"面接\" or x==\"内定\" else \"0\" for x in df2[\"Q8\"]]"
   ]
  },
  {
   "cell_type": "code",
   "execution_count": 32,
   "id": "7181392e",
   "metadata": {},
   "outputs": [],
   "source": [
    "df2[\"seizon_sakusei\"] = [\"1\" if x==\"応募書類の作成\" or x==\"応募企業の探求\" or x==\"エントリー\"or x==\"面接\" or x==\"内定\" else \"0\" for x in df2[\"Q8\"]]"
   ]
  },
  {
   "cell_type": "code",
   "execution_count": 33,
   "id": "9989b3c0",
   "metadata": {},
   "outputs": [],
   "source": [
    "df2[\"seizon_jikobunseki\"] = [\"1\" if x==\"自己分析\" or x==\"応募書類の作成\" or x==\"応募企業の探求\" or x==\"エントリー\"or x==\"面接\" or x==\"内定\" else \"0\" for x in df2[\"Q8\"]]"
   ]
  },
  {
   "cell_type": "code",
   "execution_count": 34,
   "id": "cc0861e6",
   "metadata": {},
   "outputs": [],
   "source": [
    "# df2.to_csv(\"ent_non.csv\", encoding=\"shift_jis\")"
   ]
  },
  {
   "cell_type": "code",
   "execution_count": 35,
   "id": "87cc3e79",
   "metadata": {},
   "outputs": [],
   "source": [
    "df2[\"seizon_tankyu\"] = [\"1\" if x==\"応募先の探索\"or x==\"エントリー\"or x==\"面接\"or x==\"内定\" else \"0\" for x in df2[\"Q8\"]]"
   ]
  },
  {
   "cell_type": "code",
   "execution_count": 36,
   "id": "f4b2eb1e",
   "metadata": {},
   "outputs": [],
   "source": [
    "df2.to_csv(\"seizon_non1.csv\", encoding=\"shift_jis\")"
   ]
  },
  {
   "cell_type": "code",
   "execution_count": 37,
   "id": "3b7550f8",
   "metadata": {},
   "outputs": [],
   "source": [
    "df3 = df2.loc[~(df2[\"Q8\"]==\"内定\")&~(df2[\"Q8\"]==\"面接\")&~(df2[\"Q8\"]==\"エントリー\"),:]"
   ]
  },
  {
   "cell_type": "code",
   "execution_count": 81,
   "id": "d0475886",
   "metadata": {},
   "outputs": [],
   "source": [
    "df3.to_csv(\"seizon_nonaitei.csv\", encoding=\"shift_jis\")"
   ]
  },
  {
   "cell_type": "code",
   "execution_count": 39,
   "id": "a6d98fc8",
   "metadata": {},
   "outputs": [
    {
     "data": {
      "text/plain": [
       "243"
      ]
     },
     "execution_count": 39,
     "metadata": {},
     "output_type": "execute_result"
    }
   ],
   "source": [
    "df2[\"Q8\"].count()"
   ]
  },
  {
   "cell_type": "code",
   "execution_count": 37,
   "id": "19c9ef95",
   "metadata": {},
   "outputs": [
    {
     "name": "stdout",
     "output_type": "stream",
     "text": [
      "     entry  jikobunseki  mensetu  naitei  sakusei  siteinai  tankyu\n",
      "0        0            0        0       0        1         0       0\n",
      "1        0            0        0       0        0         0       1\n",
      "2        0            0        0       0        0         0       1\n",
      "3        1            0        0       0        0         0       0\n",
      "4        0            0        0       0        0         0       1\n",
      "..     ...          ...      ...     ...      ...       ...     ...\n",
      "243      0            0        0       0        0         1       0\n",
      "244      0            0        0       0        0         0       1\n",
      "245      0            0        0       0        0         0       1\n",
      "246      0            0        0       0        0         1       0\n",
      "247      0            0        0       0        0         0       1\n",
      "\n",
      "[243 rows x 7 columns]\n"
     ]
    }
   ],
   "source": [
    "print(pd.get_dummies(df2[\"Q8a\"]))"
   ]
  },
  {
   "cell_type": "code",
   "execution_count": 62,
   "id": "f8d0f314",
   "metadata": {},
   "outputs": [],
   "source": [
    "y2 = [\"していない\", \"自己分析\",\"応募書類の作成\",\"応募先の探索\",\"エントリー\",\"面接\",\"内定\"]\n",
    "y = [\"siteinai\",\"jikobunseki\",\"sakusei\",\"tankyu\",\"entry\",\"mensetu\",\"naitei\"]"
   ]
  },
  {
   "cell_type": "code",
   "execution_count": 39,
   "id": "4c748931",
   "metadata": {},
   "outputs": [
    {
     "data": {
      "text/plain": [
       "女    160\n",
       "男     83\n",
       "Name: sex, dtype: int64"
      ]
     },
     "execution_count": 39,
     "metadata": {},
     "output_type": "execute_result"
    }
   ],
   "source": [
    "df2[\"sex\"].value_counts()"
   ]
  },
  {
   "cell_type": "code",
   "execution_count": 40,
   "id": "9b981bc1",
   "metadata": {},
   "outputs": [],
   "source": [
    "df2 = df2.dropna(how=\"any\",axis=0, subset=(\"sex\",\"Q1\",\"Q9_1\"))"
   ]
  },
  {
   "cell_type": "code",
   "execution_count": 41,
   "id": "9bf9ce0f",
   "metadata": {},
   "outputs": [
    {
     "data": {
      "text/plain": [
       "Q1                    0\n",
       "Q2                    0\n",
       "Q5                    0\n",
       "Q8                    0\n",
       "Q9_1                  0\n",
       "class                 0\n",
       "time_c                1\n",
       "sex                   0\n",
       "start_month           0\n",
       "seizon_naitei         0\n",
       "Q8a                   0\n",
       "stage                 0\n",
       "stage1                0\n",
       "keika_month           0\n",
       "sekkyoku              0\n",
       "gaikouteki            0\n",
       "gaikouteki_a          0\n",
       "iyoku                 0\n",
       "iyoku_a               0\n",
       "jizen                 0\n",
       "seizon_ent            0\n",
       "seizon_sakusei        0\n",
       "seizon_jikobunseki    0\n",
       "seizon_tankyu         0\n",
       "dtype: int64"
      ]
     },
     "execution_count": 41,
     "metadata": {},
     "output_type": "execute_result"
    }
   ],
   "source": [
    "df2.isnull().sum()"
   ]
  },
  {
   "cell_type": "code",
   "execution_count": 42,
   "id": "4192915a",
   "metadata": {
    "scrolled": true
   },
   "outputs": [
    {
     "data": {
      "text/html": [
       "<div>\n",
       "<style scoped>\n",
       "    .dataframe tbody tr th:only-of-type {\n",
       "        vertical-align: middle;\n",
       "    }\n",
       "\n",
       "    .dataframe tbody tr th {\n",
       "        vertical-align: top;\n",
       "    }\n",
       "\n",
       "    .dataframe thead th {\n",
       "        text-align: right;\n",
       "    }\n",
       "</style>\n",
       "<table border=\"1\" class=\"dataframe\">\n",
       "  <thead>\n",
       "    <tr style=\"text-align: right;\">\n",
       "      <th>class</th>\n",
       "      <th>JAVA_1月</th>\n",
       "      <th>JAVA_2月</th>\n",
       "      <th>WD開発基礎</th>\n",
       "      <th>Webアプリ</th>\n",
       "      <th>webデザイナー実践</th>\n",
       "      <th>クラウド</th>\n",
       "      <th>グラフィック</th>\n",
       "      <th>三宮Web動画HP</th>\n",
       "      <th>三宮webクリエーター12月</th>\n",
       "      <th>三宮webクリエーター1月</th>\n",
       "      <th>三宮webクリエーター3月</th>\n",
       "      <th>三宮webデザイン・プログラミング</th>\n",
       "      <th>三宮web動画HP</th>\n",
       "      <th>三宮web更新</th>\n",
       "      <th>三宮グラフィック・Webデザイナー1月</th>\n",
       "      <th>三宮実践Java+Pythonプログラマー養成4月</th>\n",
       "      <th>未経験からめざせるWeb制作+動画</th>\n",
       "    </tr>\n",
       "    <tr>\n",
       "      <th>seizon_tankyu</th>\n",
       "      <th></th>\n",
       "      <th></th>\n",
       "      <th></th>\n",
       "      <th></th>\n",
       "      <th></th>\n",
       "      <th></th>\n",
       "      <th></th>\n",
       "      <th></th>\n",
       "      <th></th>\n",
       "      <th></th>\n",
       "      <th></th>\n",
       "      <th></th>\n",
       "      <th></th>\n",
       "      <th></th>\n",
       "      <th></th>\n",
       "      <th></th>\n",
       "      <th></th>\n",
       "    </tr>\n",
       "  </thead>\n",
       "  <tbody>\n",
       "    <tr>\n",
       "      <th>0</th>\n",
       "      <td>0</td>\n",
       "      <td>1</td>\n",
       "      <td>5</td>\n",
       "      <td>1</td>\n",
       "      <td>2</td>\n",
       "      <td>1</td>\n",
       "      <td>2</td>\n",
       "      <td>12</td>\n",
       "      <td>0</td>\n",
       "      <td>0</td>\n",
       "      <td>10</td>\n",
       "      <td>2</td>\n",
       "      <td>0</td>\n",
       "      <td>8</td>\n",
       "      <td>1</td>\n",
       "      <td>6</td>\n",
       "      <td>0</td>\n",
       "    </tr>\n",
       "    <tr>\n",
       "      <th>1</th>\n",
       "      <td>8</td>\n",
       "      <td>7</td>\n",
       "      <td>20</td>\n",
       "      <td>11</td>\n",
       "      <td>13</td>\n",
       "      <td>8</td>\n",
       "      <td>9</td>\n",
       "      <td>9</td>\n",
       "      <td>19</td>\n",
       "      <td>12</td>\n",
       "      <td>8</td>\n",
       "      <td>12</td>\n",
       "      <td>13</td>\n",
       "      <td>11</td>\n",
       "      <td>10</td>\n",
       "      <td>5</td>\n",
       "      <td>15</td>\n",
       "    </tr>\n",
       "  </tbody>\n",
       "</table>\n",
       "</div>"
      ],
      "text/plain": [
       "class          JAVA_1月  JAVA_2月  WD開発基礎  Webアプリ  webデザイナー実践  クラウド  グラフィック  \\\n",
       "seizon_tankyu                                                               \n",
       "0                    0        1       5       1           2     1       2   \n",
       "1                    8        7      20      11          13     8       9   \n",
       "\n",
       "class          三宮Web動画HP  三宮webクリエーター12月  三宮webクリエーター1月  三宮webクリエーター3月  \\\n",
       "seizon_tankyu                                                            \n",
       "0                     12               0              0             10   \n",
       "1                      9              19             12              8   \n",
       "\n",
       "class          三宮webデザイン・プログラミング  三宮web動画HP  三宮web更新  三宮グラフィック・Webデザイナー1月  \\\n",
       "seizon_tankyu                                                               \n",
       "0                              2          0        8                    1   \n",
       "1                             12         13       11                   10   \n",
       "\n",
       "class          三宮実践Java+Pythonプログラマー養成4月  未経験からめざせるWeb制作+動画  \n",
       "seizon_tankyu                                                \n",
       "0                                      6                  0  \n",
       "1                                      5                 15  "
      ]
     },
     "execution_count": 42,
     "metadata": {},
     "output_type": "execute_result"
    }
   ],
   "source": [
    "pd.crosstab(df2[\"seizon_tankyu\"],df2[\"class\"])"
   ]
  },
  {
   "cell_type": "code",
   "execution_count": 43,
   "id": "ec0fdc66",
   "metadata": {},
   "outputs": [
    {
     "data": {
      "text/html": [
       "<div>\n",
       "<style scoped>\n",
       "    .dataframe tbody tr th:only-of-type {\n",
       "        vertical-align: middle;\n",
       "    }\n",
       "\n",
       "    .dataframe tbody tr th {\n",
       "        vertical-align: top;\n",
       "    }\n",
       "\n",
       "    .dataframe thead th {\n",
       "        text-align: right;\n",
       "    }\n",
       "</style>\n",
       "<table border=\"1\" class=\"dataframe\">\n",
       "  <thead>\n",
       "    <tr style=\"text-align: right;\">\n",
       "      <th>class</th>\n",
       "      <th>JAVA_1月</th>\n",
       "      <th>JAVA_2月</th>\n",
       "      <th>WD開発基礎</th>\n",
       "      <th>Webアプリ</th>\n",
       "      <th>webデザイナー実践</th>\n",
       "      <th>クラウド</th>\n",
       "      <th>グラフィック</th>\n",
       "      <th>三宮Web動画HP</th>\n",
       "      <th>三宮webクリエーター12月</th>\n",
       "      <th>三宮webクリエーター1月</th>\n",
       "      <th>三宮webクリエーター3月</th>\n",
       "      <th>三宮webデザイン・プログラミング</th>\n",
       "      <th>三宮web動画HP</th>\n",
       "      <th>三宮web更新</th>\n",
       "      <th>三宮グラフィック・Webデザイナー1月</th>\n",
       "      <th>三宮実践Java+Pythonプログラマー養成4月</th>\n",
       "      <th>未経験からめざせるWeb制作+動画</th>\n",
       "    </tr>\n",
       "    <tr>\n",
       "      <th>seizon_ent</th>\n",
       "      <th></th>\n",
       "      <th></th>\n",
       "      <th></th>\n",
       "      <th></th>\n",
       "      <th></th>\n",
       "      <th></th>\n",
       "      <th></th>\n",
       "      <th></th>\n",
       "      <th></th>\n",
       "      <th></th>\n",
       "      <th></th>\n",
       "      <th></th>\n",
       "      <th></th>\n",
       "      <th></th>\n",
       "      <th></th>\n",
       "      <th></th>\n",
       "      <th></th>\n",
       "    </tr>\n",
       "  </thead>\n",
       "  <tbody>\n",
       "    <tr>\n",
       "      <th>0</th>\n",
       "      <td>2</td>\n",
       "      <td>7</td>\n",
       "      <td>21</td>\n",
       "      <td>10</td>\n",
       "      <td>10</td>\n",
       "      <td>4</td>\n",
       "      <td>11</td>\n",
       "      <td>18</td>\n",
       "      <td>1</td>\n",
       "      <td>9</td>\n",
       "      <td>15</td>\n",
       "      <td>12</td>\n",
       "      <td>3</td>\n",
       "      <td>19</td>\n",
       "      <td>10</td>\n",
       "      <td>11</td>\n",
       "      <td>10</td>\n",
       "    </tr>\n",
       "    <tr>\n",
       "      <th>1</th>\n",
       "      <td>6</td>\n",
       "      <td>1</td>\n",
       "      <td>4</td>\n",
       "      <td>2</td>\n",
       "      <td>5</td>\n",
       "      <td>5</td>\n",
       "      <td>0</td>\n",
       "      <td>3</td>\n",
       "      <td>18</td>\n",
       "      <td>3</td>\n",
       "      <td>3</td>\n",
       "      <td>2</td>\n",
       "      <td>10</td>\n",
       "      <td>0</td>\n",
       "      <td>1</td>\n",
       "      <td>0</td>\n",
       "      <td>5</td>\n",
       "    </tr>\n",
       "  </tbody>\n",
       "</table>\n",
       "</div>"
      ],
      "text/plain": [
       "class       JAVA_1月  JAVA_2月  WD開発基礎  Webアプリ  webデザイナー実践  クラウド  グラフィック  \\\n",
       "seizon_ent                                                               \n",
       "0                 2        7      21      10          10     4      11   \n",
       "1                 6        1       4       2           5     5       0   \n",
       "\n",
       "class       三宮Web動画HP  三宮webクリエーター12月  三宮webクリエーター1月  三宮webクリエーター3月  \\\n",
       "seizon_ent                                                            \n",
       "0                  18               1              9             15   \n",
       "1                   3              18              3              3   \n",
       "\n",
       "class       三宮webデザイン・プログラミング  三宮web動画HP  三宮web更新  三宮グラフィック・Webデザイナー1月  \\\n",
       "seizon_ent                                                               \n",
       "0                          12          3       19                   10   \n",
       "1                           2         10        0                    1   \n",
       "\n",
       "class       三宮実践Java+Pythonプログラマー養成4月  未経験からめざせるWeb制作+動画  \n",
       "seizon_ent                                                \n",
       "0                                  11                 10  \n",
       "1                                   0                  5  "
      ]
     },
     "execution_count": 43,
     "metadata": {},
     "output_type": "execute_result"
    }
   ],
   "source": [
    "pd.crosstab(df2[\"seizon_ent\"],df2[\"class\"])"
   ]
  },
  {
   "cell_type": "code",
   "execution_count": 44,
   "id": "a726c0e2",
   "metadata": {
    "scrolled": true
   },
   "outputs": [
    {
     "data": {
      "text/html": [
       "<div>\n",
       "<style scoped>\n",
       "    .dataframe tbody tr th:only-of-type {\n",
       "        vertical-align: middle;\n",
       "    }\n",
       "\n",
       "    .dataframe tbody tr th {\n",
       "        vertical-align: top;\n",
       "    }\n",
       "\n",
       "    .dataframe thead tr th {\n",
       "        text-align: left;\n",
       "    }\n",
       "\n",
       "    .dataframe thead tr:last-of-type th {\n",
       "        text-align: right;\n",
       "    }\n",
       "</style>\n",
       "<table border=\"1\" class=\"dataframe\">\n",
       "  <thead>\n",
       "    <tr>\n",
       "      <th>class</th>\n",
       "      <th colspan=\"2\" halign=\"left\">JAVA_1月</th>\n",
       "      <th>JAVA_2月</th>\n",
       "      <th>WD開発基礎</th>\n",
       "      <th>Webアプリ</th>\n",
       "      <th>webデザイナー実践</th>\n",
       "      <th colspan=\"2\" halign=\"left\">クラウド</th>\n",
       "      <th colspan=\"2\" halign=\"left\">グラフィック</th>\n",
       "      <th>...</th>\n",
       "      <th>三宮webクリエーター1月</th>\n",
       "      <th>三宮webクリエーター3月</th>\n",
       "      <th>三宮webデザイン・プログラミング</th>\n",
       "      <th>三宮web動画HP</th>\n",
       "      <th colspan=\"2\" halign=\"left\">三宮web更新</th>\n",
       "      <th>三宮グラフィック・Webデザイナー1月</th>\n",
       "      <th colspan=\"2\" halign=\"left\">三宮実践Java+Pythonプログラマー養成4月</th>\n",
       "      <th>未経験からめざせるWeb制作+動画</th>\n",
       "    </tr>\n",
       "    <tr>\n",
       "      <th>gaikouteki</th>\n",
       "      <th>0</th>\n",
       "      <th>1</th>\n",
       "      <th>1</th>\n",
       "      <th>1</th>\n",
       "      <th>1</th>\n",
       "      <th>1</th>\n",
       "      <th>0</th>\n",
       "      <th>1</th>\n",
       "      <th>0</th>\n",
       "      <th>1</th>\n",
       "      <th>...</th>\n",
       "      <th>1</th>\n",
       "      <th>1</th>\n",
       "      <th>1</th>\n",
       "      <th>1</th>\n",
       "      <th>0</th>\n",
       "      <th>1</th>\n",
       "      <th>1</th>\n",
       "      <th>0</th>\n",
       "      <th>1</th>\n",
       "      <th>1</th>\n",
       "    </tr>\n",
       "    <tr>\n",
       "      <th>seizon_ent</th>\n",
       "      <th></th>\n",
       "      <th></th>\n",
       "      <th></th>\n",
       "      <th></th>\n",
       "      <th></th>\n",
       "      <th></th>\n",
       "      <th></th>\n",
       "      <th></th>\n",
       "      <th></th>\n",
       "      <th></th>\n",
       "      <th></th>\n",
       "      <th></th>\n",
       "      <th></th>\n",
       "      <th></th>\n",
       "      <th></th>\n",
       "      <th></th>\n",
       "      <th></th>\n",
       "      <th></th>\n",
       "      <th></th>\n",
       "      <th></th>\n",
       "      <th></th>\n",
       "    </tr>\n",
       "  </thead>\n",
       "  <tbody>\n",
       "    <tr>\n",
       "      <th>0</th>\n",
       "      <td>0</td>\n",
       "      <td>2</td>\n",
       "      <td>7</td>\n",
       "      <td>21</td>\n",
       "      <td>10</td>\n",
       "      <td>10</td>\n",
       "      <td>1</td>\n",
       "      <td>3</td>\n",
       "      <td>7</td>\n",
       "      <td>4</td>\n",
       "      <td>...</td>\n",
       "      <td>9</td>\n",
       "      <td>15</td>\n",
       "      <td>12</td>\n",
       "      <td>3</td>\n",
       "      <td>1</td>\n",
       "      <td>18</td>\n",
       "      <td>10</td>\n",
       "      <td>3</td>\n",
       "      <td>8</td>\n",
       "      <td>10</td>\n",
       "    </tr>\n",
       "    <tr>\n",
       "      <th>1</th>\n",
       "      <td>1</td>\n",
       "      <td>5</td>\n",
       "      <td>1</td>\n",
       "      <td>4</td>\n",
       "      <td>2</td>\n",
       "      <td>5</td>\n",
       "      <td>1</td>\n",
       "      <td>4</td>\n",
       "      <td>0</td>\n",
       "      <td>0</td>\n",
       "      <td>...</td>\n",
       "      <td>3</td>\n",
       "      <td>3</td>\n",
       "      <td>2</td>\n",
       "      <td>10</td>\n",
       "      <td>0</td>\n",
       "      <td>0</td>\n",
       "      <td>1</td>\n",
       "      <td>0</td>\n",
       "      <td>0</td>\n",
       "      <td>5</td>\n",
       "    </tr>\n",
       "  </tbody>\n",
       "</table>\n",
       "<p>2 rows × 23 columns</p>\n",
       "</div>"
      ],
      "text/plain": [
       "class      JAVA_1月    JAVA_2月 WD開発基礎 Webアプリ webデザイナー実践 クラウド    グラフィック     ...  \\\n",
       "gaikouteki       0  1       1      1      1          1    0  1      0  1  ...   \n",
       "seizon_ent                                                                ...   \n",
       "0                0  2       7     21     10         10    1  3      7  4  ...   \n",
       "1                1  5       1      4      2          5    1  4      0  0  ...   \n",
       "\n",
       "class      三宮webクリエーター1月 三宮webクリエーター3月 三宮webデザイン・プログラミング 三宮web動画HP 三宮web更新  \\\n",
       "gaikouteki             1             1                 1         1       0   \n",
       "seizon_ent                                                                   \n",
       "0                      9            15                12         3       1   \n",
       "1                      3             3                 2        10       0   \n",
       "\n",
       "class          三宮グラフィック・Webデザイナー1月 三宮実践Java+Pythonプログラマー養成4月     \\\n",
       "gaikouteki   1                   1                         0  1   \n",
       "seizon_ent                                                        \n",
       "0           18                  10                         3  8   \n",
       "1            0                   1                         0  0   \n",
       "\n",
       "class      未経験からめざせるWeb制作+動画  \n",
       "gaikouteki                 1  \n",
       "seizon_ent                    \n",
       "0                         10  \n",
       "1                          5  \n",
       "\n",
       "[2 rows x 23 columns]"
      ]
     },
     "execution_count": 44,
     "metadata": {},
     "output_type": "execute_result"
    }
   ],
   "source": [
    "pd.crosstab(df2[\"seizon_ent\"],[df2[\"class\"],df2[\"gaikouteki\"]])"
   ]
  },
  {
   "cell_type": "code",
   "execution_count": 45,
   "id": "e00c15f0",
   "metadata": {},
   "outputs": [
    {
     "data": {
      "text/html": [
       "<div>\n",
       "<style scoped>\n",
       "    .dataframe tbody tr th:only-of-type {\n",
       "        vertical-align: middle;\n",
       "    }\n",
       "\n",
       "    .dataframe tbody tr th {\n",
       "        vertical-align: top;\n",
       "    }\n",
       "\n",
       "    .dataframe thead th {\n",
       "        text-align: right;\n",
       "    }\n",
       "</style>\n",
       "<table border=\"1\" class=\"dataframe\">\n",
       "  <thead>\n",
       "    <tr style=\"text-align: right;\">\n",
       "      <th>gaikouteki</th>\n",
       "      <th>0</th>\n",
       "      <th>1</th>\n",
       "    </tr>\n",
       "    <tr>\n",
       "      <th>seizon_ent</th>\n",
       "      <th></th>\n",
       "      <th></th>\n",
       "    </tr>\n",
       "  </thead>\n",
       "  <tbody>\n",
       "    <tr>\n",
       "      <th>0</th>\n",
       "      <td>13</td>\n",
       "      <td>160</td>\n",
       "    </tr>\n",
       "    <tr>\n",
       "      <th>1</th>\n",
       "      <td>2</td>\n",
       "      <td>66</td>\n",
       "    </tr>\n",
       "  </tbody>\n",
       "</table>\n",
       "</div>"
      ],
      "text/plain": [
       "gaikouteki   0    1\n",
       "seizon_ent         \n",
       "0           13  160\n",
       "1            2   66"
      ]
     },
     "execution_count": 45,
     "metadata": {},
     "output_type": "execute_result"
    }
   ],
   "source": [
    "pd.crosstab(df2[\"seizon_ent\"],df2[\"gaikouteki\"])"
   ]
  },
  {
   "cell_type": "code",
   "execution_count": 46,
   "id": "a6cfe195",
   "metadata": {},
   "outputs": [
    {
     "data": {
      "text/html": [
       "<div>\n",
       "<style scoped>\n",
       "    .dataframe tbody tr th:only-of-type {\n",
       "        vertical-align: middle;\n",
       "    }\n",
       "\n",
       "    .dataframe tbody tr th {\n",
       "        vertical-align: top;\n",
       "    }\n",
       "\n",
       "    .dataframe thead tr th {\n",
       "        text-align: left;\n",
       "    }\n",
       "\n",
       "    .dataframe thead tr:last-of-type th {\n",
       "        text-align: right;\n",
       "    }\n",
       "</style>\n",
       "<table border=\"1\" class=\"dataframe\">\n",
       "  <thead>\n",
       "    <tr>\n",
       "      <th>gaikouteki</th>\n",
       "      <th colspan=\"2\" halign=\"left\">0</th>\n",
       "      <th colspan=\"2\" halign=\"left\">1</th>\n",
       "    </tr>\n",
       "    <tr>\n",
       "      <th>sex</th>\n",
       "      <th>女</th>\n",
       "      <th>男</th>\n",
       "      <th>女</th>\n",
       "      <th>男</th>\n",
       "    </tr>\n",
       "    <tr>\n",
       "      <th>seizon_ent</th>\n",
       "      <th></th>\n",
       "      <th></th>\n",
       "      <th></th>\n",
       "      <th></th>\n",
       "    </tr>\n",
       "  </thead>\n",
       "  <tbody>\n",
       "    <tr>\n",
       "      <th>0</th>\n",
       "      <td>6</td>\n",
       "      <td>7</td>\n",
       "      <td>107</td>\n",
       "      <td>53</td>\n",
       "    </tr>\n",
       "    <tr>\n",
       "      <th>1</th>\n",
       "      <td>2</td>\n",
       "      <td>0</td>\n",
       "      <td>44</td>\n",
       "      <td>22</td>\n",
       "    </tr>\n",
       "  </tbody>\n",
       "</table>\n",
       "</div>"
      ],
      "text/plain": [
       "gaikouteki  0       1    \n",
       "sex         女  男    女   男\n",
       "seizon_ent               \n",
       "0           6  7  107  53\n",
       "1           2  0   44  22"
      ]
     },
     "execution_count": 46,
     "metadata": {},
     "output_type": "execute_result"
    }
   ],
   "source": [
    "pd.crosstab(df2[\"seizon_ent\"],[df2[\"gaikouteki\"],df2[\"sex\"]])"
   ]
  },
  {
   "cell_type": "code",
   "execution_count": 47,
   "id": "bc0d5c6e",
   "metadata": {},
   "outputs": [
    {
     "data": {
      "text/html": [
       "<div>\n",
       "<style scoped>\n",
       "    .dataframe tbody tr th:only-of-type {\n",
       "        vertical-align: middle;\n",
       "    }\n",
       "\n",
       "    .dataframe tbody tr th {\n",
       "        vertical-align: top;\n",
       "    }\n",
       "\n",
       "    .dataframe thead tr th {\n",
       "        text-align: left;\n",
       "    }\n",
       "\n",
       "    .dataframe thead tr:last-of-type th {\n",
       "        text-align: right;\n",
       "    }\n",
       "</style>\n",
       "<table border=\"1\" class=\"dataframe\">\n",
       "  <thead>\n",
       "    <tr>\n",
       "      <th>gaikouteki</th>\n",
       "      <th colspan=\"2\" halign=\"left\">0</th>\n",
       "      <th colspan=\"2\" halign=\"left\">1</th>\n",
       "    </tr>\n",
       "    <tr>\n",
       "      <th>sex</th>\n",
       "      <th>女</th>\n",
       "      <th>男</th>\n",
       "      <th>女</th>\n",
       "      <th>男</th>\n",
       "    </tr>\n",
       "    <tr>\n",
       "      <th>seizon_tankyu</th>\n",
       "      <th></th>\n",
       "      <th></th>\n",
       "      <th></th>\n",
       "      <th></th>\n",
       "    </tr>\n",
       "  </thead>\n",
       "  <tbody>\n",
       "    <tr>\n",
       "      <th>0</th>\n",
       "      <td>2</td>\n",
       "      <td>2</td>\n",
       "      <td>27</td>\n",
       "      <td>20</td>\n",
       "    </tr>\n",
       "    <tr>\n",
       "      <th>1</th>\n",
       "      <td>6</td>\n",
       "      <td>5</td>\n",
       "      <td>124</td>\n",
       "      <td>55</td>\n",
       "    </tr>\n",
       "  </tbody>\n",
       "</table>\n",
       "</div>"
      ],
      "text/plain": [
       "gaikouteki     0       1    \n",
       "sex            女  男    女   男\n",
       "seizon_tankyu               \n",
       "0              2  2   27  20\n",
       "1              6  5  124  55"
      ]
     },
     "execution_count": 47,
     "metadata": {},
     "output_type": "execute_result"
    }
   ],
   "source": [
    "pd.crosstab(df2[\"seizon_tankyu\"],[df2[\"gaikouteki\"],df2[\"sex\"]])"
   ]
  },
  {
   "cell_type": "code",
   "execution_count": 48,
   "id": "9410d708",
   "metadata": {},
   "outputs": [
    {
     "data": {
      "text/html": [
       "<div>\n",
       "<style scoped>\n",
       "    .dataframe tbody tr th:only-of-type {\n",
       "        vertical-align: middle;\n",
       "    }\n",
       "\n",
       "    .dataframe tbody tr th {\n",
       "        vertical-align: top;\n",
       "    }\n",
       "\n",
       "    .dataframe thead tr th {\n",
       "        text-align: left;\n",
       "    }\n",
       "\n",
       "    .dataframe thead tr:last-of-type th {\n",
       "        text-align: right;\n",
       "    }\n",
       "</style>\n",
       "<table border=\"1\" class=\"dataframe\">\n",
       "  <thead>\n",
       "    <tr>\n",
       "      <th>sekkyoku</th>\n",
       "      <th colspan=\"2\" halign=\"left\">0</th>\n",
       "      <th colspan=\"2\" halign=\"left\">1</th>\n",
       "    </tr>\n",
       "    <tr>\n",
       "      <th>sex</th>\n",
       "      <th>女</th>\n",
       "      <th>男</th>\n",
       "      <th>女</th>\n",
       "      <th>男</th>\n",
       "    </tr>\n",
       "    <tr>\n",
       "      <th>seizon_ent</th>\n",
       "      <th></th>\n",
       "      <th></th>\n",
       "      <th></th>\n",
       "      <th></th>\n",
       "    </tr>\n",
       "  </thead>\n",
       "  <tbody>\n",
       "    <tr>\n",
       "      <th>0</th>\n",
       "      <td>13</td>\n",
       "      <td>9</td>\n",
       "      <td>100</td>\n",
       "      <td>51</td>\n",
       "    </tr>\n",
       "    <tr>\n",
       "      <th>1</th>\n",
       "      <td>5</td>\n",
       "      <td>2</td>\n",
       "      <td>41</td>\n",
       "      <td>20</td>\n",
       "    </tr>\n",
       "  </tbody>\n",
       "</table>\n",
       "</div>"
      ],
      "text/plain": [
       "sekkyoku     0       1    \n",
       "sex          女  男    女   男\n",
       "seizon_ent                \n",
       "0           13  9  100  51\n",
       "1            5  2   41  20"
      ]
     },
     "execution_count": 48,
     "metadata": {},
     "output_type": "execute_result"
    }
   ],
   "source": [
    "pd.crosstab(df2[\"seizon_ent\"],[df2[\"sekkyoku\"],df2[\"sex\"]])"
   ]
  },
  {
   "cell_type": "code",
   "execution_count": 49,
   "id": "2ebb7f9a",
   "metadata": {
    "scrolled": true
   },
   "outputs": [
    {
     "data": {
      "text/html": [
       "<div>\n",
       "<style scoped>\n",
       "    .dataframe tbody tr th:only-of-type {\n",
       "        vertical-align: middle;\n",
       "    }\n",
       "\n",
       "    .dataframe tbody tr th {\n",
       "        vertical-align: top;\n",
       "    }\n",
       "\n",
       "    .dataframe thead tr th {\n",
       "        text-align: left;\n",
       "    }\n",
       "\n",
       "    .dataframe thead tr:last-of-type th {\n",
       "        text-align: right;\n",
       "    }\n",
       "</style>\n",
       "<table border=\"1\" class=\"dataframe\">\n",
       "  <thead>\n",
       "    <tr>\n",
       "      <th>sekkyoku</th>\n",
       "      <th colspan=\"2\" halign=\"left\">0</th>\n",
       "      <th colspan=\"2\" halign=\"left\">1</th>\n",
       "    </tr>\n",
       "    <tr>\n",
       "      <th>sex</th>\n",
       "      <th>女</th>\n",
       "      <th>男</th>\n",
       "      <th>女</th>\n",
       "      <th>男</th>\n",
       "    </tr>\n",
       "    <tr>\n",
       "      <th>seizon_tankyu</th>\n",
       "      <th></th>\n",
       "      <th></th>\n",
       "      <th></th>\n",
       "      <th></th>\n",
       "    </tr>\n",
       "  </thead>\n",
       "  <tbody>\n",
       "    <tr>\n",
       "      <th>0</th>\n",
       "      <td>4</td>\n",
       "      <td>2</td>\n",
       "      <td>25</td>\n",
       "      <td>20</td>\n",
       "    </tr>\n",
       "    <tr>\n",
       "      <th>1</th>\n",
       "      <td>14</td>\n",
       "      <td>9</td>\n",
       "      <td>116</td>\n",
       "      <td>51</td>\n",
       "    </tr>\n",
       "  </tbody>\n",
       "</table>\n",
       "</div>"
      ],
      "text/plain": [
       "sekkyoku        0       1    \n",
       "sex             女  男    女   男\n",
       "seizon_tankyu                \n",
       "0               4  2   25  20\n",
       "1              14  9  116  51"
      ]
     },
     "execution_count": 49,
     "metadata": {},
     "output_type": "execute_result"
    }
   ],
   "source": [
    "pd.crosstab(df2[\"seizon_tankyu\"],[df2[\"sekkyoku\"],df2[\"sex\"]])"
   ]
  },
  {
   "cell_type": "code",
   "execution_count": 50,
   "id": "80e525b9",
   "metadata": {},
   "outputs": [
    {
     "data": {
      "text/html": [
       "<div>\n",
       "<style scoped>\n",
       "    .dataframe tbody tr th:only-of-type {\n",
       "        vertical-align: middle;\n",
       "    }\n",
       "\n",
       "    .dataframe tbody tr th {\n",
       "        vertical-align: top;\n",
       "    }\n",
       "\n",
       "    .dataframe thead tr th {\n",
       "        text-align: left;\n",
       "    }\n",
       "\n",
       "    .dataframe thead tr:last-of-type th {\n",
       "        text-align: right;\n",
       "    }\n",
       "</style>\n",
       "<table border=\"1\" class=\"dataframe\">\n",
       "  <thead>\n",
       "    <tr>\n",
       "      <th>gaikouteki</th>\n",
       "      <th colspan=\"2\" halign=\"left\">0</th>\n",
       "      <th colspan=\"2\" halign=\"left\">1</th>\n",
       "    </tr>\n",
       "    <tr>\n",
       "      <th>sex</th>\n",
       "      <th>女</th>\n",
       "      <th>男</th>\n",
       "      <th>女</th>\n",
       "      <th>男</th>\n",
       "    </tr>\n",
       "    <tr>\n",
       "      <th>seizon_ent</th>\n",
       "      <th></th>\n",
       "      <th></th>\n",
       "      <th></th>\n",
       "      <th></th>\n",
       "    </tr>\n",
       "  </thead>\n",
       "  <tbody>\n",
       "    <tr>\n",
       "      <th>0</th>\n",
       "      <td>0.024896</td>\n",
       "      <td>0.029046</td>\n",
       "      <td>0.443983</td>\n",
       "      <td>0.219917</td>\n",
       "    </tr>\n",
       "    <tr>\n",
       "      <th>1</th>\n",
       "      <td>0.008299</td>\n",
       "      <td>0.000000</td>\n",
       "      <td>0.182573</td>\n",
       "      <td>0.091286</td>\n",
       "    </tr>\n",
       "  </tbody>\n",
       "</table>\n",
       "</div>"
      ],
      "text/plain": [
       "gaikouteki         0                   1          \n",
       "sex                女         男         女         男\n",
       "seizon_ent                                        \n",
       "0           0.024896  0.029046  0.443983  0.219917\n",
       "1           0.008299  0.000000  0.182573  0.091286"
      ]
     },
     "execution_count": 50,
     "metadata": {},
     "output_type": "execute_result"
    }
   ],
   "source": [
    "pd.crosstab(df2[\"seizon_ent\"],[df2[\"gaikouteki\"],df2[\"sex\"]],normalize=True)"
   ]
  },
  {
   "cell_type": "code",
   "execution_count": 51,
   "id": "01a043f1",
   "metadata": {
    "scrolled": true
   },
   "outputs": [
    {
     "data": {
      "text/html": [
       "<div>\n",
       "<style scoped>\n",
       "    .dataframe tbody tr th:only-of-type {\n",
       "        vertical-align: middle;\n",
       "    }\n",
       "\n",
       "    .dataframe tbody tr th {\n",
       "        vertical-align: top;\n",
       "    }\n",
       "\n",
       "    .dataframe thead tr th {\n",
       "        text-align: left;\n",
       "    }\n",
       "\n",
       "    .dataframe thead tr:last-of-type th {\n",
       "        text-align: right;\n",
       "    }\n",
       "</style>\n",
       "<table border=\"1\" class=\"dataframe\">\n",
       "  <thead>\n",
       "    <tr>\n",
       "      <th>gaikouteki</th>\n",
       "      <th colspan=\"2\" halign=\"left\">0</th>\n",
       "      <th colspan=\"2\" halign=\"left\">1</th>\n",
       "    </tr>\n",
       "    <tr>\n",
       "      <th>sex</th>\n",
       "      <th>女</th>\n",
       "      <th>男</th>\n",
       "      <th>女</th>\n",
       "      <th>男</th>\n",
       "    </tr>\n",
       "    <tr>\n",
       "      <th>seizon_tankyu</th>\n",
       "      <th></th>\n",
       "      <th></th>\n",
       "      <th></th>\n",
       "      <th></th>\n",
       "    </tr>\n",
       "  </thead>\n",
       "  <tbody>\n",
       "    <tr>\n",
       "      <th>0</th>\n",
       "      <td>0.008299</td>\n",
       "      <td>0.008299</td>\n",
       "      <td>0.112033</td>\n",
       "      <td>0.082988</td>\n",
       "    </tr>\n",
       "    <tr>\n",
       "      <th>1</th>\n",
       "      <td>0.024896</td>\n",
       "      <td>0.020747</td>\n",
       "      <td>0.514523</td>\n",
       "      <td>0.228216</td>\n",
       "    </tr>\n",
       "  </tbody>\n",
       "</table>\n",
       "</div>"
      ],
      "text/plain": [
       "gaikouteki            0                   1          \n",
       "sex                   女         男         女         男\n",
       "seizon_tankyu                                        \n",
       "0              0.008299  0.008299  0.112033  0.082988\n",
       "1              0.024896  0.020747  0.514523  0.228216"
      ]
     },
     "execution_count": 51,
     "metadata": {},
     "output_type": "execute_result"
    }
   ],
   "source": [
    "pd.crosstab(df2[\"seizon_tankyu\"],[df2[\"gaikouteki\"],df2[\"sex\"]],normalize=True)"
   ]
  },
  {
   "cell_type": "code",
   "execution_count": 52,
   "id": "3ef210f0",
   "metadata": {
    "scrolled": false
   },
   "outputs": [
    {
     "data": {
      "text/html": [
       "<div>\n",
       "<style scoped>\n",
       "    .dataframe tbody tr th:only-of-type {\n",
       "        vertical-align: middle;\n",
       "    }\n",
       "\n",
       "    .dataframe tbody tr th {\n",
       "        vertical-align: top;\n",
       "    }\n",
       "\n",
       "    .dataframe thead th {\n",
       "        text-align: right;\n",
       "    }\n",
       "</style>\n",
       "<table border=\"1\" class=\"dataframe\">\n",
       "  <thead>\n",
       "    <tr style=\"text-align: right;\">\n",
       "      <th>Q8a</th>\n",
       "      <th>entry</th>\n",
       "      <th>jikobunseki</th>\n",
       "      <th>mensetu</th>\n",
       "      <th>naitei</th>\n",
       "      <th>sakusei</th>\n",
       "      <th>siteinai</th>\n",
       "      <th>tankyu</th>\n",
       "    </tr>\n",
       "    <tr>\n",
       "      <th>gaikouteki</th>\n",
       "      <th></th>\n",
       "      <th></th>\n",
       "      <th></th>\n",
       "      <th></th>\n",
       "      <th></th>\n",
       "      <th></th>\n",
       "      <th></th>\n",
       "    </tr>\n",
       "  </thead>\n",
       "  <tbody>\n",
       "    <tr>\n",
       "      <th>0</th>\n",
       "      <td>1</td>\n",
       "      <td>1</td>\n",
       "      <td>1</td>\n",
       "      <td>0</td>\n",
       "      <td>2</td>\n",
       "      <td>1</td>\n",
       "      <td>9</td>\n",
       "    </tr>\n",
       "    <tr>\n",
       "      <th>1</th>\n",
       "      <td>29</td>\n",
       "      <td>19</td>\n",
       "      <td>26</td>\n",
       "      <td>11</td>\n",
       "      <td>15</td>\n",
       "      <td>13</td>\n",
       "      <td>113</td>\n",
       "    </tr>\n",
       "  </tbody>\n",
       "</table>\n",
       "</div>"
      ],
      "text/plain": [
       "Q8a         entry  jikobunseki  mensetu  naitei  sakusei  siteinai  tankyu\n",
       "gaikouteki                                                                \n",
       "0               1            1        1       0        2         1       9\n",
       "1              29           19       26      11       15        13     113"
      ]
     },
     "execution_count": 52,
     "metadata": {},
     "output_type": "execute_result"
    }
   ],
   "source": [
    "pd.crosstab(df2[\"gaikouteki\"],df2[\"Q8a\"])"
   ]
  },
  {
   "cell_type": "code",
   "execution_count": 53,
   "id": "a219167b",
   "metadata": {},
   "outputs": [
    {
     "ename": "NameError",
     "evalue": "name 'stage' is not defined",
     "output_type": "error",
     "traceback": [
      "\u001b[1;31m---------------------------------------------------------------------------\u001b[0m",
      "\u001b[1;31mNameError\u001b[0m                                 Traceback (most recent call last)",
      "Input \u001b[1;32mIn [53]\u001b[0m, in \u001b[0;36m<cell line: 1>\u001b[1;34m()\u001b[0m\n\u001b[1;32m----> 1\u001b[0m \u001b[43mstage\u001b[49m\n",
      "\u001b[1;31mNameError\u001b[0m: name 'stage' is not defined"
     ]
    }
   ],
   "source": [
    "stage"
   ]
  },
  {
   "cell_type": "code",
   "execution_count": 55,
   "id": "90baf52e",
   "metadata": {
    "scrolled": true
   },
   "outputs": [],
   "source": [
    "count = np.array([16,15,104,26,27,11])"
   ]
  },
  {
   "cell_type": "code",
   "execution_count": 67,
   "id": "5f316ece",
   "metadata": {
    "scrolled": false
   },
   "outputs": [
    {
     "data": {
      "image/png": "[encoded data removed]",
      "text/plain": [
       "<Figure size 936x504 with 1 Axes>"
      ]
     },
     "metadata": {
      "needs_background": "light"
     },
     "output_type": "display_data"
    }
   ],
   "source": [
    "plt.figure(figsize=(13,7))\n",
    "p=sns.countplot(data=df2,x=df2[\"Q8\"],order=y2)\n",
    "p.set_title(\"図１\",size=22)\n",
    "p.set_xlabel(\"就職活動ステージ\",fontsize=17)\n",
    "p.set_ylabel(\"人数\",fontsize=17,rotation=0,labelpad=20)\n",
    "p.tick_params(labelsize=14)\n",
    "plt.savefig(\"stage1.png\")"
   ]
  },
  {
   "cell_type": "code",
   "execution_count": 57,
   "id": "9344bcca",
   "metadata": {
    "scrolled": true
   },
   "outputs": [
    {
     "data": {
      "text/plain": [
       "Text(0.5, 1.0, 'Title')"
      ]
     },
     "execution_count": 57,
     "metadata": {},
     "output_type": "execute_result"
    },
    {
     "data": {
      "image/png": "[encoded data removed]",
      "text/plain": [
       "<Figure size 432x288 with 1 Axes>"
      ]
     },
     "metadata": {
      "needs_background": "light"
     },
     "output_type": "display_data"
    }
   ],
   "source": [
    "p= sns.countplot(data=df2,x=\"iyoku_a\")\n",
    "p.set_title(\"Title\")"
   ]
  },
  {
   "cell_type": "code",
   "execution_count": 84,
   "id": "0120968c",
   "metadata": {},
   "outputs": [
    {
     "data": {
      "text/html": [
       "<div>\n",
       "<style scoped>\n",
       "    .dataframe tbody tr th:only-of-type {\n",
       "        vertical-align: middle;\n",
       "    }\n",
       "\n",
       "    .dataframe tbody tr th {\n",
       "        vertical-align: top;\n",
       "    }\n",
       "\n",
       "    .dataframe thead th {\n",
       "        text-align: right;\n",
       "    }\n",
       "</style>\n",
       "<table border=\"1\" class=\"dataframe\">\n",
       "  <thead>\n",
       "    <tr style=\"text-align: right;\">\n",
       "      <th></th>\n",
       "      <th>Q1</th>\n",
       "      <th>Q2</th>\n",
       "      <th>Q5</th>\n",
       "      <th>Q8</th>\n",
       "      <th>Q9_1</th>\n",
       "      <th>class</th>\n",
       "      <th>time_c</th>\n",
       "      <th>sex</th>\n",
       "      <th>start_month</th>\n",
       "      <th>seizon_naitei</th>\n",
       "      <th>...</th>\n",
       "      <th>sekkyoku</th>\n",
       "      <th>gaikouteki</th>\n",
       "      <th>gaikouteki_a</th>\n",
       "      <th>iyoku</th>\n",
       "      <th>iyoku_a</th>\n",
       "      <th>jizen</th>\n",
       "      <th>seizon_ent</th>\n",
       "      <th>seizon_sakusei</th>\n",
       "      <th>seizon_jikobunseki</th>\n",
       "      <th>seizon_tankyu</th>\n",
       "    </tr>\n",
       "  </thead>\n",
       "  <tbody>\n",
       "    <tr>\n",
       "      <th>0</th>\n",
       "      <td>3.0</td>\n",
       "      <td>3</td>\n",
       "      <td>1</td>\n",
       "      <td>応募書類の作成</td>\n",
       "      <td>2.0</td>\n",
       "      <td>JAVA_2月</td>\n",
       "      <td>50</td>\n",
       "      <td>女</td>\n",
       "      <td>2</td>\n",
       "      <td>0</td>\n",
       "      <td>...</td>\n",
       "      <td>1</td>\n",
       "      <td>1</td>\n",
       "      <td>0</td>\n",
       "      <td>0</td>\n",
       "      <td>0</td>\n",
       "      <td>0</td>\n",
       "      <td>0</td>\n",
       "      <td>1</td>\n",
       "      <td>1</td>\n",
       "      <td>0</td>\n",
       "    </tr>\n",
       "    <tr>\n",
       "      <th>1</th>\n",
       "      <td>3.0</td>\n",
       "      <td>3</td>\n",
       "      <td>1</td>\n",
       "      <td>応募先の探索</td>\n",
       "      <td>4.0</td>\n",
       "      <td>JAVA_2月</td>\n",
       "      <td>30</td>\n",
       "      <td>男</td>\n",
       "      <td>2</td>\n",
       "      <td>0</td>\n",
       "      <td>...</td>\n",
       "      <td>1</td>\n",
       "      <td>1</td>\n",
       "      <td>0</td>\n",
       "      <td>1</td>\n",
       "      <td>1</td>\n",
       "      <td>0</td>\n",
       "      <td>0</td>\n",
       "      <td>0</td>\n",
       "      <td>0</td>\n",
       "      <td>1</td>\n",
       "    </tr>\n",
       "    <tr>\n",
       "      <th>2</th>\n",
       "      <td>4.0</td>\n",
       "      <td>3</td>\n",
       "      <td>1</td>\n",
       "      <td>応募先の探索</td>\n",
       "      <td>4.0</td>\n",
       "      <td>JAVA_2月</td>\n",
       "      <td>62</td>\n",
       "      <td>女</td>\n",
       "      <td>2</td>\n",
       "      <td>0</td>\n",
       "      <td>...</td>\n",
       "      <td>1</td>\n",
       "      <td>1</td>\n",
       "      <td>1</td>\n",
       "      <td>1</td>\n",
       "      <td>1</td>\n",
       "      <td>0</td>\n",
       "      <td>0</td>\n",
       "      <td>0</td>\n",
       "      <td>0</td>\n",
       "      <td>1</td>\n",
       "    </tr>\n",
       "    <tr>\n",
       "      <th>3</th>\n",
       "      <td>3.0</td>\n",
       "      <td>3</td>\n",
       "      <td>1</td>\n",
       "      <td>エントリー</td>\n",
       "      <td>4.0</td>\n",
       "      <td>JAVA_2月</td>\n",
       "      <td>70</td>\n",
       "      <td>男</td>\n",
       "      <td>2</td>\n",
       "      <td>0</td>\n",
       "      <td>...</td>\n",
       "      <td>1</td>\n",
       "      <td>1</td>\n",
       "      <td>0</td>\n",
       "      <td>1</td>\n",
       "      <td>1</td>\n",
       "      <td>0</td>\n",
       "      <td>1</td>\n",
       "      <td>1</td>\n",
       "      <td>1</td>\n",
       "      <td>1</td>\n",
       "    </tr>\n",
       "    <tr>\n",
       "      <th>4</th>\n",
       "      <td>3.0</td>\n",
       "      <td>3</td>\n",
       "      <td>3</td>\n",
       "      <td>応募先の探索</td>\n",
       "      <td>3.0</td>\n",
       "      <td>JAVA_2月</td>\n",
       "      <td>15</td>\n",
       "      <td>男</td>\n",
       "      <td>2</td>\n",
       "      <td>0</td>\n",
       "      <td>...</td>\n",
       "      <td>1</td>\n",
       "      <td>1</td>\n",
       "      <td>0</td>\n",
       "      <td>1</td>\n",
       "      <td>0</td>\n",
       "      <td>1</td>\n",
       "      <td>0</td>\n",
       "      <td>0</td>\n",
       "      <td>0</td>\n",
       "      <td>1</td>\n",
       "    </tr>\n",
       "    <tr>\n",
       "      <th>...</th>\n",
       "      <td>...</td>\n",
       "      <td>...</td>\n",
       "      <td>...</td>\n",
       "      <td>...</td>\n",
       "      <td>...</td>\n",
       "      <td>...</td>\n",
       "      <td>...</td>\n",
       "      <td>...</td>\n",
       "      <td>...</td>\n",
       "      <td>...</td>\n",
       "      <td>...</td>\n",
       "      <td>...</td>\n",
       "      <td>...</td>\n",
       "      <td>...</td>\n",
       "      <td>...</td>\n",
       "      <td>...</td>\n",
       "      <td>...</td>\n",
       "      <td>...</td>\n",
       "      <td>...</td>\n",
       "      <td>...</td>\n",
       "      <td>...</td>\n",
       "    </tr>\n",
       "    <tr>\n",
       "      <th>243</th>\n",
       "      <td>4.0</td>\n",
       "      <td>3</td>\n",
       "      <td>3</td>\n",
       "      <td>していない</td>\n",
       "      <td>3.0</td>\n",
       "      <td>三宮実践Java+Pythonプログラマー養成4月</td>\n",
       "      <td>60</td>\n",
       "      <td>男</td>\n",
       "      <td>4</td>\n",
       "      <td>0</td>\n",
       "      <td>...</td>\n",
       "      <td>1</td>\n",
       "      <td>1</td>\n",
       "      <td>1</td>\n",
       "      <td>1</td>\n",
       "      <td>0</td>\n",
       "      <td>1</td>\n",
       "      <td>0</td>\n",
       "      <td>0</td>\n",
       "      <td>0</td>\n",
       "      <td>0</td>\n",
       "    </tr>\n",
       "    <tr>\n",
       "      <th>244</th>\n",
       "      <td>3.0</td>\n",
       "      <td>3</td>\n",
       "      <td>2</td>\n",
       "      <td>応募先の探索</td>\n",
       "      <td>3.0</td>\n",
       "      <td>三宮実践Java+Pythonプログラマー養成4月</td>\n",
       "      <td>45</td>\n",
       "      <td>男</td>\n",
       "      <td>4</td>\n",
       "      <td>0</td>\n",
       "      <td>...</td>\n",
       "      <td>1</td>\n",
       "      <td>1</td>\n",
       "      <td>0</td>\n",
       "      <td>1</td>\n",
       "      <td>0</td>\n",
       "      <td>0</td>\n",
       "      <td>0</td>\n",
       "      <td>0</td>\n",
       "      <td>0</td>\n",
       "      <td>1</td>\n",
       "    </tr>\n",
       "    <tr>\n",
       "      <th>245</th>\n",
       "      <td>2.0</td>\n",
       "      <td>2</td>\n",
       "      <td>3</td>\n",
       "      <td>応募先の探索</td>\n",
       "      <td>4.0</td>\n",
       "      <td>三宮実践Java+Pythonプログラマー養成4月</td>\n",
       "      <td>45</td>\n",
       "      <td>男</td>\n",
       "      <td>4</td>\n",
       "      <td>0</td>\n",
       "      <td>...</td>\n",
       "      <td>0</td>\n",
       "      <td>0</td>\n",
       "      <td>0</td>\n",
       "      <td>1</td>\n",
       "      <td>1</td>\n",
       "      <td>1</td>\n",
       "      <td>0</td>\n",
       "      <td>0</td>\n",
       "      <td>0</td>\n",
       "      <td>1</td>\n",
       "    </tr>\n",
       "    <tr>\n",
       "      <th>246</th>\n",
       "      <td>2.0</td>\n",
       "      <td>2</td>\n",
       "      <td>2</td>\n",
       "      <td>していない</td>\n",
       "      <td>3.0</td>\n",
       "      <td>三宮実践Java+Pythonプログラマー養成4月</td>\n",
       "      <td>90</td>\n",
       "      <td>男</td>\n",
       "      <td>4</td>\n",
       "      <td>0</td>\n",
       "      <td>...</td>\n",
       "      <td>0</td>\n",
       "      <td>0</td>\n",
       "      <td>0</td>\n",
       "      <td>1</td>\n",
       "      <td>0</td>\n",
       "      <td>0</td>\n",
       "      <td>0</td>\n",
       "      <td>0</td>\n",
       "      <td>0</td>\n",
       "      <td>0</td>\n",
       "    </tr>\n",
       "    <tr>\n",
       "      <th>247</th>\n",
       "      <td>3.0</td>\n",
       "      <td>4</td>\n",
       "      <td>1</td>\n",
       "      <td>応募先の探索</td>\n",
       "      <td>4.0</td>\n",
       "      <td>三宮実践Java+Pythonプログラマー養成4月</td>\n",
       "      <td>40</td>\n",
       "      <td>男</td>\n",
       "      <td>4</td>\n",
       "      <td>0</td>\n",
       "      <td>...</td>\n",
       "      <td>1</td>\n",
       "      <td>1</td>\n",
       "      <td>0</td>\n",
       "      <td>1</td>\n",
       "      <td>1</td>\n",
       "      <td>0</td>\n",
       "      <td>0</td>\n",
       "      <td>0</td>\n",
       "      <td>0</td>\n",
       "      <td>1</td>\n",
       "    </tr>\n",
       "  </tbody>\n",
       "</table>\n",
       "<p>241 rows × 24 columns</p>\n",
       "</div>"
      ],
      "text/plain": [
       "      Q1  Q2  Q5       Q8  Q9_1                      class time_c sex  \\\n",
       "0    3.0   3   1  応募書類の作成   2.0                    JAVA_2月     50   女   \n",
       "1    3.0   3   1   応募先の探索   4.0                    JAVA_2月     30   男   \n",
       "2    4.0   3   1   応募先の探索   4.0                    JAVA_2月     62   女   \n",
       "3    3.0   3   1    エントリー   4.0                    JAVA_2月     70   男   \n",
       "4    3.0   3   3   応募先の探索   3.0                    JAVA_2月     15   男   \n",
       "..   ...  ..  ..      ...   ...                        ...    ...  ..   \n",
       "243  4.0   3   3    していない   3.0  三宮実践Java+Pythonプログラマー養成4月     60   男   \n",
       "244  3.0   3   2   応募先の探索   3.0  三宮実践Java+Pythonプログラマー養成4月     45   男   \n",
       "245  2.0   2   3   応募先の探索   4.0  三宮実践Java+Pythonプログラマー養成4月     45   男   \n",
       "246  2.0   2   2    していない   3.0  三宮実践Java+Pythonプログラマー養成4月     90   男   \n",
       "247  3.0   4   1   応募先の探索   4.0  三宮実践Java+Pythonプログラマー養成4月     40   男   \n",
       "\n",
       "     start_month seizon_naitei  ... sekkyoku  gaikouteki  gaikouteki_a  iyoku  \\\n",
       "0              2             0  ...        1           1             0      0   \n",
       "1              2             0  ...        1           1             0      1   \n",
       "2              2             0  ...        1           1             1      1   \n",
       "3              2             0  ...        1           1             0      1   \n",
       "4              2             0  ...        1           1             0      1   \n",
       "..           ...           ...  ...      ...         ...           ...    ...   \n",
       "243            4             0  ...        1           1             1      1   \n",
       "244            4             0  ...        1           1             0      1   \n",
       "245            4             0  ...        0           0             0      1   \n",
       "246            4             0  ...        0           0             0      1   \n",
       "247            4             0  ...        1           1             0      1   \n",
       "\n",
       "    iyoku_a jizen seizon_ent seizon_sakusei seizon_jikobunseki seizon_tankyu  \n",
       "0         0     0          0              1                  1             0  \n",
       "1         1     0          0              0                  0             1  \n",
       "2         1     0          0              0                  0             1  \n",
       "3         1     0          1              1                  1             1  \n",
       "4         0     1          0              0                  0             1  \n",
       "..      ...   ...        ...            ...                ...           ...  \n",
       "243       0     1          0              0                  0             0  \n",
       "244       0     0          0              0                  0             1  \n",
       "245       1     1          0              0                  0             1  \n",
       "246       0     0          0              0                  0             0  \n",
       "247       1     0          0              0                  0             1  \n",
       "\n",
       "[241 rows x 24 columns]"
      ]
     },
     "execution_count": 84,
     "metadata": {},
     "output_type": "execute_result"
    }
   ],
   "source": [
    "df2"
   ]
  },
  {
   "cell_type": "code",
   "execution_count": 68,
   "id": "57fdaf55",
   "metadata": {
    "scrolled": true
   },
   "outputs": [
    {
     "data": {
      "image/png": "[encoded data removed]",
      "text/plain": [
       "<Figure size 936x504 with 1 Axes>"
      ]
     },
     "metadata": {
      "needs_background": "light"
     },
     "output_type": "display_data"
    }
   ],
   "source": [
    "plt.figure(figsize=(13,7))\n",
    "p= sns.countplot(data=df2,x=df2[\"Q8\"], hue=\"keika_month\",order=y2)\n",
    "p.set_title(\"図２\",size=22)\n",
    "p.set_xlabel(\"就職活動ステージ\",fontsize=17)\n",
    "p.set_ylabel(\"人数\",fontsize=17,rotation=0,labelpad=20)\n",
    "p.tick_params(labelsize=14)\n",
    "plt.legend(title = \"経過月\", \n",
    "           fontsize = \"15\", title_fontsize = \"17\")\n",
    "plt.savefig(\"stage_month.png\")"
   ]
  },
  {
   "cell_type": "code",
   "execution_count": 59,
   "id": "5613bada",
   "metadata": {},
   "outputs": [
    {
     "data": {
      "image/png": "[encoded data removed]",
      "text/plain": [
       "<Figure size 432x288 with 1 Axes>"
      ]
     },
     "metadata": {
      "needs_background": "light"
     },
     "output_type": "display_data"
    }
   ],
   "source": [
    "p= sns.countplot(data=df2,x=\"keika_month\" ,hue=\"Q8a\", hue_order=y)"
   ]
  },
  {
   "cell_type": "code",
   "execution_count": 60,
   "id": "62d3713c",
   "metadata": {},
   "outputs": [
    {
     "data": {
      "text/plain": [
       "<AxesSubplot:xlabel='Q8a', ylabel='count'>"
      ]
     },
     "execution_count": 60,
     "metadata": {},
     "output_type": "execute_result"
    },
    {
     "data": {
      "image/png": "[encoded data removed]",
      "text/plain": [
       "<Figure size 432x288 with 1 Axes>"
      ]
     },
     "metadata": {
      "needs_background": "light"
     },
     "output_type": "display_data"
    }
   ],
   "source": [
    "sns.countplot(data=df2,x=df2[\"Q8a\"], hue=\"gaikouteki\",order=y)"
   ]
  },
  {
   "cell_type": "code",
   "execution_count": 61,
   "id": "ec3a77d6",
   "metadata": {},
   "outputs": [
    {
     "data": {
      "text/plain": [
       "<AxesSubplot:xlabel='Q8a', ylabel='count'>"
      ]
     },
     "execution_count": 61,
     "metadata": {},
     "output_type": "execute_result"
    },
    {
     "data": {
      "image/png": "[encoded data removed]",
      "text/plain": [
       "<Figure size 432x288 with 1 Axes>"
      ]
     },
     "metadata": {
      "needs_background": "light"
     },
     "output_type": "display_data"
    }
   ],
   "source": [
    "sns.countplot(data=df2,x=df2[\"Q8a\"], hue=\"iyoku_a\",order=y)"
   ]
  },
  {
   "cell_type": "code",
   "execution_count": 62,
   "id": "656000d1",
   "metadata": {},
   "outputs": [
    {
     "data": {
      "text/plain": [
       "<AxesSubplot:ylabel='Frequency'>"
      ]
     },
     "execution_count": 62,
     "metadata": {},
     "output_type": "execute_result"
    },
    {
     "data": {
      "image/png": "[encoded data removed]",
      "text/plain": [
       "<Figure size 432x288 with 1 Axes>"
      ]
     },
     "metadata": {
      "needs_background": "light"
     },
     "output_type": "display_data"
    }
   ],
   "source": [
    "\n",
    "df2[\"stage\"].plot.hist()"
   ]
  },
  {
   "cell_type": "code",
   "execution_count": 63,
   "id": "5b84338e",
   "metadata": {},
   "outputs": [
    {
     "data": {
      "text/plain": [
       "<seaborn.axisgrid.FacetGrid at 0x23808aee790>"
      ]
     },
     "execution_count": 63,
     "metadata": {},
     "output_type": "execute_result"
    },
    {
     "data": {
      "image/png": "[encoded data removed]",
      "text/plain": [
       "<Figure size 360x360 with 1 Axes>"
      ]
     },
     "metadata": {
      "needs_background": "light"
     },
     "output_type": "display_data"
    }
   ],
   "source": [
    "sns.catplot(data=df2, x=\"keika_month\", y=\"stage\")"
   ]
  },
  {
   "cell_type": "code",
   "execution_count": 69,
   "id": "109eafc3",
   "metadata": {},
   "outputs": [
    {
     "data": {
      "image/png": "[encoded data removed]",
      "text/plain": [
       "<Figure size 936x504 with 1 Axes>"
      ]
     },
     "metadata": {
      "needs_background": "light"
     },
     "output_type": "display_data"
    }
   ],
   "source": [
    "y1=[\"naitei\",\"mensetu\",\"entry\",\"tankyu\",\"sakusei\",\"jikobunseki\",\"siteinai\"]\n",
    "plt.figure(figsize=(13,7))\n",
    "p = sns.histplot(data=df2, x=\"keika_month\", hue=\"Q8a\", multiple=\"stack\",hue_order=y1)\n",
    "p.set_xlabel(\"経過月\",fontsize=17)\n",
    "p.set_ylabel(\"人数\",fontsize=17,rotation=0,labelpad=20)\n",
    "p.set_title(\"図３\",size=22)\n",
    "p.tick_params(labelsize=14)\n",
    "plt.legend(labels=y2, title = \"就職活動のステージ\", \n",
    "           fontsize = \"15\", title_fontsize = \"17\")\n",
    "plt.savefig(\"keika_stage.png\")"
   ]
  },
  {
   "cell_type": "code",
   "execution_count": null,
   "id": "1eac95a1",
   "metadata": {},
   "outputs": [],
   "source": []
  },
  {
   "cell_type": "code",
   "execution_count": null,
   "id": "eceb1716",
   "metadata": {},
   "outputs": [],
   "source": [
    "df2.groupby(\"Q8\").count()"
   ]
  },
  {
   "cell_type": "code",
   "execution_count": null,
   "id": "703429cc",
   "metadata": {},
   "outputs": [],
   "source": [
    "count_sorted = df2.groupby('Q8')['Q8'].count().sort_values(ascending=True)"
   ]
  },
  {
   "cell_type": "code",
   "execution_count": null,
   "id": "57000530",
   "metadata": {},
   "outputs": [],
   "source": [
    "count_sorted"
   ]
  },
  {
   "cell_type": "code",
   "execution_count": 64,
   "id": "5fc7ef4b",
   "metadata": {
    "scrolled": true
   },
   "outputs": [
    {
     "name": "stdout",
     "output_type": "stream",
     "text": [
      "['内定', 'していない', '応募書類の作成', '自己分析', '面接', 'エントリー', '応募先の探索']\n"
     ]
    }
   ],
   "source": [
    "count_sorted_list = count_sorted.index.to_list()\n",
    "print(count_sorted_list)"
   ]
  },
  {
   "cell_type": "code",
   "execution_count": 77,
   "id": "59441fae",
   "metadata": {},
   "outputs": [],
   "source": [
    "count = np.array([16,15,104,26,27,11])"
   ]
  },
  {
   "cell_type": "code",
   "execution_count": 78,
   "id": "4c7ca63d",
   "metadata": {},
   "outputs": [
    {
     "ename": "ValueError",
     "evalue": "shape mismatch: objects cannot be broadcast to a single shape",
     "output_type": "error",
     "traceback": [
      "\u001b[1;31m---------------------------------------------------------------------------\u001b[0m",
      "\u001b[1;31mValueError\u001b[0m                                Traceback (most recent call last)",
      "Input \u001b[1;32mIn [78]\u001b[0m, in \u001b[0;36m<cell line: 7>\u001b[1;34m()\u001b[0m\n\u001b[0;32m      4\u001b[0m plt\u001b[38;5;241m.\u001b[39mgrid(\u001b[38;5;28;01mTrue\u001b[39;00m) \u001b[38;5;66;03m# (6)目盛線表示\u001b[39;00m\n\u001b[0;32m      5\u001b[0m plt\u001b[38;5;241m.\u001b[39mtick_params(labelsize\u001b[38;5;241m=\u001b[39m\u001b[38;5;241m10\u001b[39m) \u001b[38;5;66;03m# (7)目盛線ラベルサイズ\u001b[39;00m\n\u001b[1;32m----> 7\u001b[0m \u001b[43mplt\u001b[49m\u001b[38;5;241;43m.\u001b[39;49m\u001b[43mbar\u001b[49m\u001b[43m(\u001b[49m\u001b[43my\u001b[49m\u001b[43m,\u001b[49m\u001b[43m \u001b[49m\u001b[43mcount\u001b[49m\u001b[43m,\u001b[49m\u001b[43m \u001b[49m\u001b[43mtick_label\u001b[49m\u001b[38;5;241;43m=\u001b[39;49m\u001b[43my\u001b[49m\u001b[43m,\u001b[49m\n\u001b[0;32m      8\u001b[0m \u001b[43m            \u001b[49m\u001b[43malign\u001b[49m\u001b[38;5;241;43m=\u001b[39;49m\u001b[38;5;124;43m\"\u001b[39;49m\u001b[38;5;124;43mcenter\u001b[39;49m\u001b[38;5;124;43m\"\u001b[39;49m\u001b[43m,\u001b[49m\u001b[43m \u001b[49m\u001b[43mcolor\u001b[49m\u001b[43m \u001b[49m\u001b[38;5;241;43m=\u001b[39;49m\u001b[43m \u001b[49m\u001b[38;5;124;43m\"\u001b[39;49m\u001b[38;5;124;43mc\u001b[39;49m\u001b[38;5;124;43m\"\u001b[39;49m\u001b[43m)\u001b[49m \u001b[38;5;66;03m# (8)棒グラフ描画\u001b[39;00m\n\u001b[0;32m      9\u001b[0m plt\u001b[38;5;241m.\u001b[39msavefig(\u001b[38;5;124m\"\u001b[39m\u001b[38;5;124mstage.png\u001b[39m\u001b[38;5;124m\"\u001b[39m)\n\u001b[0;32m     10\u001b[0m plt\u001b[38;5;241m.\u001b[39mshow()\n",
      "File \u001b[1;32mC:\\ProgramData\\Anaconda3\\lib\\site-packages\\matplotlib\\pyplot.py:2387\u001b[0m, in \u001b[0;36mbar\u001b[1;34m(x, height, width, bottom, align, data, **kwargs)\u001b[0m\n\u001b[0;32m   2383\u001b[0m \u001b[38;5;129m@_copy_docstring_and_deprecators\u001b[39m(Axes\u001b[38;5;241m.\u001b[39mbar)\n\u001b[0;32m   2384\u001b[0m \u001b[38;5;28;01mdef\u001b[39;00m \u001b[38;5;21mbar\u001b[39m(\n\u001b[0;32m   2385\u001b[0m         x, height, width\u001b[38;5;241m=\u001b[39m\u001b[38;5;241m0.8\u001b[39m, bottom\u001b[38;5;241m=\u001b[39m\u001b[38;5;28;01mNone\u001b[39;00m, \u001b[38;5;241m*\u001b[39m, align\u001b[38;5;241m=\u001b[39m\u001b[38;5;124m'\u001b[39m\u001b[38;5;124mcenter\u001b[39m\u001b[38;5;124m'\u001b[39m,\n\u001b[0;32m   2386\u001b[0m         data\u001b[38;5;241m=\u001b[39m\u001b[38;5;28;01mNone\u001b[39;00m, \u001b[38;5;241m*\u001b[39m\u001b[38;5;241m*\u001b[39mkwargs):\n\u001b[1;32m-> 2387\u001b[0m     \u001b[38;5;28;01mreturn\u001b[39;00m gca()\u001b[38;5;241m.\u001b[39mbar(\n\u001b[0;32m   2388\u001b[0m         x, height, width\u001b[38;5;241m=\u001b[39mwidth, bottom\u001b[38;5;241m=\u001b[39mbottom, align\u001b[38;5;241m=\u001b[39malign,\n\u001b[0;32m   2389\u001b[0m         \u001b[38;5;241m*\u001b[39m\u001b[38;5;241m*\u001b[39m({\u001b[38;5;124m\"\u001b[39m\u001b[38;5;124mdata\u001b[39m\u001b[38;5;124m\"\u001b[39m: data} \u001b[38;5;28;01mif\u001b[39;00m data \u001b[38;5;129;01mis\u001b[39;00m \u001b[38;5;129;01mnot\u001b[39;00m \u001b[38;5;28;01mNone\u001b[39;00m \u001b[38;5;28;01melse\u001b[39;00m {}), \u001b[38;5;241m*\u001b[39m\u001b[38;5;241m*\u001b[39mkwargs)\n",
      "File \u001b[1;32mC:\\ProgramData\\Anaconda3\\lib\\site-packages\\matplotlib\\__init__.py:1412\u001b[0m, in \u001b[0;36m_preprocess_data.<locals>.inner\u001b[1;34m(ax, data, *args, **kwargs)\u001b[0m\n\u001b[0;32m   1409\u001b[0m \u001b[38;5;129m@functools\u001b[39m\u001b[38;5;241m.\u001b[39mwraps(func)\n\u001b[0;32m   1410\u001b[0m \u001b[38;5;28;01mdef\u001b[39;00m \u001b[38;5;21minner\u001b[39m(ax, \u001b[38;5;241m*\u001b[39margs, data\u001b[38;5;241m=\u001b[39m\u001b[38;5;28;01mNone\u001b[39;00m, \u001b[38;5;241m*\u001b[39m\u001b[38;5;241m*\u001b[39mkwargs):\n\u001b[0;32m   1411\u001b[0m     \u001b[38;5;28;01mif\u001b[39;00m data \u001b[38;5;129;01mis\u001b[39;00m \u001b[38;5;28;01mNone\u001b[39;00m:\n\u001b[1;32m-> 1412\u001b[0m         \u001b[38;5;28;01mreturn\u001b[39;00m func(ax, \u001b[38;5;241m*\u001b[39m\u001b[38;5;28mmap\u001b[39m(sanitize_sequence, args), \u001b[38;5;241m*\u001b[39m\u001b[38;5;241m*\u001b[39mkwargs)\n\u001b[0;32m   1414\u001b[0m     bound \u001b[38;5;241m=\u001b[39m new_sig\u001b[38;5;241m.\u001b[39mbind(ax, \u001b[38;5;241m*\u001b[39margs, \u001b[38;5;241m*\u001b[39m\u001b[38;5;241m*\u001b[39mkwargs)\n\u001b[0;32m   1415\u001b[0m     auto_label \u001b[38;5;241m=\u001b[39m (bound\u001b[38;5;241m.\u001b[39marguments\u001b[38;5;241m.\u001b[39mget(label_namer)\n\u001b[0;32m   1416\u001b[0m                   \u001b[38;5;129;01mor\u001b[39;00m bound\u001b[38;5;241m.\u001b[39mkwargs\u001b[38;5;241m.\u001b[39mget(label_namer))\n",
      "File \u001b[1;32mC:\\ProgramData\\Anaconda3\\lib\\site-packages\\matplotlib\\axes\\_axes.py:2342\u001b[0m, in \u001b[0;36mAxes.bar\u001b[1;34m(self, x, height, width, bottom, align, **kwargs)\u001b[0m\n\u001b[0;32m   2339\u001b[0m     \u001b[38;5;28;01mif\u001b[39;00m yerr \u001b[38;5;129;01mis\u001b[39;00m \u001b[38;5;129;01mnot\u001b[39;00m \u001b[38;5;28;01mNone\u001b[39;00m:\n\u001b[0;32m   2340\u001b[0m         yerr \u001b[38;5;241m=\u001b[39m \u001b[38;5;28mself\u001b[39m\u001b[38;5;241m.\u001b[39m_convert_dx(yerr, y0, y, \u001b[38;5;28mself\u001b[39m\u001b[38;5;241m.\u001b[39mconvert_yunits)\n\u001b[1;32m-> 2342\u001b[0m x, height, width, y, linewidth, hatch \u001b[38;5;241m=\u001b[39m \u001b[43mnp\u001b[49m\u001b[38;5;241;43m.\u001b[39;49m\u001b[43mbroadcast_arrays\u001b[49m\u001b[43m(\u001b[49m\n\u001b[0;32m   2343\u001b[0m \u001b[43m    \u001b[49m\u001b[38;5;66;43;03m# Make args iterable too.\u001b[39;49;00m\n\u001b[0;32m   2344\u001b[0m \u001b[43m    \u001b[49m\u001b[43mnp\u001b[49m\u001b[38;5;241;43m.\u001b[39;49m\u001b[43matleast_1d\u001b[49m\u001b[43m(\u001b[49m\u001b[43mx\u001b[49m\u001b[43m)\u001b[49m\u001b[43m,\u001b[49m\u001b[43m \u001b[49m\u001b[43mheight\u001b[49m\u001b[43m,\u001b[49m\u001b[43m \u001b[49m\u001b[43mwidth\u001b[49m\u001b[43m,\u001b[49m\u001b[43m \u001b[49m\u001b[43my\u001b[49m\u001b[43m,\u001b[49m\u001b[43m \u001b[49m\u001b[43mlinewidth\u001b[49m\u001b[43m,\u001b[49m\u001b[43m \u001b[49m\u001b[43mhatch\u001b[49m\u001b[43m)\u001b[49m\n\u001b[0;32m   2346\u001b[0m \u001b[38;5;66;03m# Now that units have been converted, set the tick locations.\u001b[39;00m\n\u001b[0;32m   2347\u001b[0m \u001b[38;5;28;01mif\u001b[39;00m orientation \u001b[38;5;241m==\u001b[39m \u001b[38;5;124m'\u001b[39m\u001b[38;5;124mvertical\u001b[39m\u001b[38;5;124m'\u001b[39m:\n",
      "File \u001b[1;32m<__array_function__ internals>:5\u001b[0m, in \u001b[0;36mbroadcast_arrays\u001b[1;34m(*args, **kwargs)\u001b[0m\n",
      "File \u001b[1;32mC:\\ProgramData\\Anaconda3\\lib\\site-packages\\numpy\\lib\\stride_tricks.py:538\u001b[0m, in \u001b[0;36mbroadcast_arrays\u001b[1;34m(subok, *args)\u001b[0m\n\u001b[0;32m    531\u001b[0m \u001b[38;5;66;03m# nditer is not used here to avoid the limit of 32 arrays.\u001b[39;00m\n\u001b[0;32m    532\u001b[0m \u001b[38;5;66;03m# Otherwise, something like the following one-liner would suffice:\u001b[39;00m\n\u001b[0;32m    533\u001b[0m \u001b[38;5;66;03m# return np.nditer(args, flags=['multi_index', 'zerosize_ok'],\u001b[39;00m\n\u001b[0;32m    534\u001b[0m \u001b[38;5;66;03m#                  order='C').itviews\u001b[39;00m\n\u001b[0;32m    536\u001b[0m args \u001b[38;5;241m=\u001b[39m [np\u001b[38;5;241m.\u001b[39marray(_m, copy\u001b[38;5;241m=\u001b[39m\u001b[38;5;28;01mFalse\u001b[39;00m, subok\u001b[38;5;241m=\u001b[39msubok) \u001b[38;5;28;01mfor\u001b[39;00m _m \u001b[38;5;129;01min\u001b[39;00m args]\n\u001b[1;32m--> 538\u001b[0m shape \u001b[38;5;241m=\u001b[39m \u001b[43m_broadcast_shape\u001b[49m\u001b[43m(\u001b[49m\u001b[38;5;241;43m*\u001b[39;49m\u001b[43margs\u001b[49m\u001b[43m)\u001b[49m\n\u001b[0;32m    540\u001b[0m \u001b[38;5;28;01mif\u001b[39;00m \u001b[38;5;28mall\u001b[39m(array\u001b[38;5;241m.\u001b[39mshape \u001b[38;5;241m==\u001b[39m shape \u001b[38;5;28;01mfor\u001b[39;00m array \u001b[38;5;129;01min\u001b[39;00m args):\n\u001b[0;32m    541\u001b[0m     \u001b[38;5;66;03m# Common case where nothing needs to be broadcasted.\u001b[39;00m\n\u001b[0;32m    542\u001b[0m     \u001b[38;5;28;01mreturn\u001b[39;00m args\n",
      "File \u001b[1;32mC:\\ProgramData\\Anaconda3\\lib\\site-packages\\numpy\\lib\\stride_tricks.py:420\u001b[0m, in \u001b[0;36m_broadcast_shape\u001b[1;34m(*args)\u001b[0m\n\u001b[0;32m    415\u001b[0m \u001b[38;5;124;03m\"\"\"Returns the shape of the arrays that would result from broadcasting the\u001b[39;00m\n\u001b[0;32m    416\u001b[0m \u001b[38;5;124;03msupplied arrays against each other.\u001b[39;00m\n\u001b[0;32m    417\u001b[0m \u001b[38;5;124;03m\"\"\"\u001b[39;00m\n\u001b[0;32m    418\u001b[0m \u001b[38;5;66;03m# use the old-iterator because np.nditer does not handle size 0 arrays\u001b[39;00m\n\u001b[0;32m    419\u001b[0m \u001b[38;5;66;03m# consistently\u001b[39;00m\n\u001b[1;32m--> 420\u001b[0m b \u001b[38;5;241m=\u001b[39m \u001b[43mnp\u001b[49m\u001b[38;5;241;43m.\u001b[39;49m\u001b[43mbroadcast\u001b[49m\u001b[43m(\u001b[49m\u001b[38;5;241;43m*\u001b[39;49m\u001b[43margs\u001b[49m\u001b[43m[\u001b[49m\u001b[43m:\u001b[49m\u001b[38;5;241;43m32\u001b[39;49m\u001b[43m]\u001b[49m\u001b[43m)\u001b[49m\n\u001b[0;32m    421\u001b[0m \u001b[38;5;66;03m# unfortunately, it cannot handle 32 or more arguments directly\u001b[39;00m\n\u001b[0;32m    422\u001b[0m \u001b[38;5;28;01mfor\u001b[39;00m pos \u001b[38;5;129;01min\u001b[39;00m \u001b[38;5;28mrange\u001b[39m(\u001b[38;5;241m32\u001b[39m, \u001b[38;5;28mlen\u001b[39m(args), \u001b[38;5;241m31\u001b[39m):\n\u001b[0;32m    423\u001b[0m     \u001b[38;5;66;03m# ironically, np.broadcast does not properly handle np.broadcast\u001b[39;00m\n\u001b[0;32m    424\u001b[0m     \u001b[38;5;66;03m# objects (it treats them as scalars)\u001b[39;00m\n\u001b[0;32m    425\u001b[0m     \u001b[38;5;66;03m# use broadcasting to avoid allocating the full array\u001b[39;00m\n",
      "\u001b[1;31mValueError\u001b[0m: shape mismatch: objects cannot be broadcast to a single shape"
     ]
    },
    {
     "data": {
      "image/png": "[encoded data removed]",
      "text/plain": [
       "<Figure size 432x288 with 1 Axes>"
      ]
     },
     "metadata": {
      "needs_background": "light"
     },
     "output_type": "display_data"
    }
   ],
   "source": [
    "\n",
    "plt.title(\"shushoku stage\",fontsize = 22) # (3)タイトル\n",
    "plt.xlabel(\"stage\", fontsize = 22) # (4)x軸ラベル\n",
    "plt.ylabel(\"kazu\", fontsize = 22) # (5)y軸ラベル\n",
    "plt.grid(True) # (6)目盛線表示\n",
    "plt.tick_params(labelsize=10) # (7)目盛線ラベルサイズ\n",
    "\n",
    "plt.bar(y, count, tick_label=y,\n",
    "            align=\"center\", color = \"c\") # (8)棒グラフ描画\n",
    "plt.savefig(\"stage.png\")\n",
    "plt.show()"
   ]
  },
  {
   "cell_type": "code",
   "execution_count": 45,
   "id": "40618545",
   "metadata": {},
   "outputs": [
    {
     "ename": "AttributeError",
     "evalue": "module 'seaborn' has no attribute 'Bar'",
     "output_type": "error",
     "traceback": [
      "\u001b[1;31m---------------------------------------------------------------------------\u001b[0m",
      "\u001b[1;31mAttributeError\u001b[0m                            Traceback (most recent call last)",
      "Input \u001b[1;32mIn [45]\u001b[0m, in \u001b[0;36m<cell line: 1>\u001b[1;34m()\u001b[0m\n\u001b[1;32m----> 1\u001b[0m \u001b[43msns\u001b[49m\u001b[38;5;241;43m.\u001b[39;49m\u001b[43mBar\u001b[49m(data\u001b[38;5;241m=\u001b[39mdf2)\n",
      "\u001b[1;31mAttributeError\u001b[0m: module 'seaborn' has no attribute 'Bar'"
     ]
    }
   ],
   "source": [
    "sns.Bar(data=df2)"
   ]
  },
  {
   "cell_type": "code",
   "execution_count": null,
   "id": "200b8e31",
   "metadata": {},
   "outputs": [],
   "source": []
  }
 ],
 "metadata": {
  "kernelspec": {
   "display_name": "Python 3 (ipykernel)",
   "language": "python",
   "name": "python3"
  },
  "language_info": {
   "codemirror_mode": {
    "name": "ipython",
    "version": 3
   },
   "file_extension": ".py",
   "mimetype": "text/x-python",
   "name": "python",
   "nbconvert_exporter": "python",
   "pygments_lexer": "ipython3",
   "version": "3.9.12"
  }
 },
 "nbformat": 4,
 "nbformat_minor": 5
}

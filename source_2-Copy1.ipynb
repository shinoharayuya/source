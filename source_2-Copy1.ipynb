{
 "cells": [
  {
   "cell_type": "code",
   "execution_count": 1,
   "metadata": {
    "colab": {
     "base_uri": "https://localhost:8080/"
    },
    "id": "IDfxtlx686Nv",
    "outputId": "cfbdff3c-23d7-43a0-ba38-dbea03540c14"
   },
   "outputs": [
    {
     "name": "stdout",
     "output_type": "stream",
     "text": [
      "Requirement already satisfied: japanize-matplotlib in c:\\users\\dareka\\anaconda3\\lib\\site-packages (1.1.3)\n",
      "Requirement already satisfied: matplotlib in c:\\users\\dareka\\anaconda3\\lib\\site-packages (from japanize-matplotlib) (3.5.1)\n",
      "Requirement already satisfied: numpy>=1.17 in c:\\users\\dareka\\anaconda3\\lib\\site-packages (from matplotlib->japanize-matplotlib) (1.21.5)\n",
      "Requirement already satisfied: cycler>=0.10 in c:\\users\\dareka\\anaconda3\\lib\\site-packages (from matplotlib->japanize-matplotlib) (0.11.0)\n",
      "Requirement already satisfied: pyparsing>=2.2.1 in c:\\users\\dareka\\anaconda3\\lib\\site-packages (from matplotlib->japanize-matplotlib) (3.0.4)\n",
      "Requirement already satisfied: pillow>=6.2.0 in c:\\users\\dareka\\anaconda3\\lib\\site-packages (from matplotlib->japanize-matplotlib) (9.0.1)\n",
      "Requirement already satisfied: packaging>=20.0 in c:\\users\\dareka\\anaconda3\\lib\\site-packages (from matplotlib->japanize-matplotlib) (21.3)\n",
      "Requirement already satisfied: python-dateutil>=2.7 in c:\\users\\dareka\\anaconda3\\lib\\site-packages (from matplotlib->japanize-matplotlib) (2.8.2)\n",
      "Requirement already satisfied: fonttools>=4.22.0 in c:\\users\\dareka\\anaconda3\\lib\\site-packages (from matplotlib->japanize-matplotlib) (4.25.0)\n",
      "Requirement already satisfied: kiwisolver>=1.0.1 in c:\\users\\dareka\\anaconda3\\lib\\site-packages (from matplotlib->japanize-matplotlib) (1.3.2)\n",
      "Requirement already satisfied: six>=1.5 in c:\\users\\dareka\\anaconda3\\lib\\site-packages (from python-dateutil>=2.7->matplotlib->japanize-matplotlib) (1.16.0)\n",
      "Note: you may need to restart the kernel to use updated packages.\n"
     ]
    }
   ],
   "source": [
    "pip install japanize-matplotlib"
   ]
  },
  {
   "cell_type": "code",
   "execution_count": 2,
   "metadata": {
    "id": "xcDDAwE9gp6Z"
   },
   "outputs": [],
   "source": [
    "import japanize_matplotlib\n",
    "import matplotlib.pyplot as plt\n",
    "import pandas as pd\n",
    "import numpy as np\n",
    "import seaborn as sns"
   ]
  },
  {
   "cell_type": "code",
   "execution_count": 3,
   "metadata": {
    "id": "fPHBVGUegxIq"
   },
   "outputs": [],
   "source": [
    "from sklearn.cluster import KMeans\n",
    "from sklearn.metrics import confusion_matrix\n",
    "from sklearn.metrics import accuracy_score"
   ]
  },
  {
   "cell_type": "code",
   "execution_count": 4,
   "metadata": {
    "colab": {
     "base_uri": "https://localhost:8080/",
     "height": 384
    },
    "id": "eQqgrFPMgz4a",
    "outputId": "d4ca15dc-ea63-433b-f102-026eba2da92c"
   },
   "outputs": [
    {
     "data": {
      "text/html": [
       "<div>\n",
       "<style scoped>\n",
       "    .dataframe tbody tr th:only-of-type {\n",
       "        vertical-align: middle;\n",
       "    }\n",
       "\n",
       "    .dataframe tbody tr th {\n",
       "        vertical-align: top;\n",
       "    }\n",
       "\n",
       "    .dataframe thead th {\n",
       "        text-align: right;\n",
       "    }\n",
       "</style>\n",
       "<table border=\"1\" class=\"dataframe\">\n",
       "  <thead>\n",
       "    <tr style=\"text-align: right;\">\n",
       "      <th></th>\n",
       "      <th>SEQ</th>\n",
       "      <th>ID</th>\n",
       "      <th>Q1</th>\n",
       "      <th>Q2</th>\n",
       "      <th>Q3</th>\n",
       "      <th>Q4</th>\n",
       "      <th>Q4_other</th>\n",
       "      <th>Q5</th>\n",
       "      <th>Q6</th>\n",
       "      <th>Q7</th>\n",
       "      <th>...</th>\n",
       "      <th>Q10</th>\n",
       "      <th>start_month</th>\n",
       "      <th>class</th>\n",
       "      <th>Unnamed: 19</th>\n",
       "      <th>age</th>\n",
       "      <th>sex</th>\n",
       "      <th>time_c</th>\n",
       "      <th>kikkake</th>\n",
       "      <th>_other</th>\n",
       "      <th>(y/m)</th>\n",
       "    </tr>\n",
       "  </thead>\n",
       "  <tbody>\n",
       "    <tr>\n",
       "      <th>0</th>\n",
       "      <td>1</td>\n",
       "      <td>A1</td>\n",
       "      <td>3.0</td>\n",
       "      <td>3</td>\n",
       "      <td>3</td>\n",
       "      <td>3</td>\n",
       "      <td>0</td>\n",
       "      <td>1</td>\n",
       "      <td>3</td>\n",
       "      <td>3</td>\n",
       "      <td>...</td>\n",
       "      <td>有休の取りやすさ、残業少なめ、リモートできる職種</td>\n",
       "      <td>2</td>\n",
       "      <td>JAVA_2月</td>\n",
       "      <td>開発</td>\n",
       "      <td>50代</td>\n",
       "      <td>女</td>\n",
       "      <td>50</td>\n",
       "      <td>ハローワーク</td>\n",
       "      <td>0</td>\n",
       "      <td>2023/4</td>\n",
       "    </tr>\n",
       "    <tr>\n",
       "      <th>1</th>\n",
       "      <td>2</td>\n",
       "      <td>A2</td>\n",
       "      <td>3.0</td>\n",
       "      <td>3</td>\n",
       "      <td>3</td>\n",
       "      <td>3</td>\n",
       "      <td>0</td>\n",
       "      <td>1</td>\n",
       "      <td>3</td>\n",
       "      <td>3</td>\n",
       "      <td>...</td>\n",
       "      <td>自身が未経験での転職の為、プログラミングのあらゆることを伸ばしつつ、活躍できる場</td>\n",
       "      <td>2</td>\n",
       "      <td>JAVA_2月</td>\n",
       "      <td>開発</td>\n",
       "      <td>30代</td>\n",
       "      <td>男</td>\n",
       "      <td>30</td>\n",
       "      <td>ハローワーク</td>\n",
       "      <td>0</td>\n",
       "      <td>2023/3</td>\n",
       "    </tr>\n",
       "    <tr>\n",
       "      <th>2</th>\n",
       "      <td>3</td>\n",
       "      <td>A3</td>\n",
       "      <td>4.0</td>\n",
       "      <td>3</td>\n",
       "      <td>3</td>\n",
       "      <td>5</td>\n",
       "      <td>0</td>\n",
       "      <td>1</td>\n",
       "      <td>3</td>\n",
       "      <td>4</td>\n",
       "      <td>...</td>\n",
       "      <td>休日、祝日はしっかり休める、ワークライフバランス大事、安定的な給料がもらえる</td>\n",
       "      <td>2</td>\n",
       "      <td>JAVA_2月</td>\n",
       "      <td>開発</td>\n",
       "      <td>20代</td>\n",
       "      <td>女</td>\n",
       "      <td>62</td>\n",
       "      <td>ハローワーク</td>\n",
       "      <td>0</td>\n",
       "      <td>2022/12</td>\n",
       "    </tr>\n",
       "    <tr>\n",
       "      <th>3</th>\n",
       "      <td>4</td>\n",
       "      <td>A4</td>\n",
       "      <td>3.0</td>\n",
       "      <td>3</td>\n",
       "      <td>3</td>\n",
       "      <td>3</td>\n",
       "      <td>0</td>\n",
       "      <td>1</td>\n",
       "      <td>3</td>\n",
       "      <td>3</td>\n",
       "      <td>...</td>\n",
       "      <td>休日数、勤務地、業務内容</td>\n",
       "      <td>2</td>\n",
       "      <td>JAVA_2月</td>\n",
       "      <td>開発</td>\n",
       "      <td>20代</td>\n",
       "      <td>男</td>\n",
       "      <td>70</td>\n",
       "      <td>知人</td>\n",
       "      <td>0</td>\n",
       "      <td>2023/3</td>\n",
       "    </tr>\n",
       "    <tr>\n",
       "      <th>4</th>\n",
       "      <td>5</td>\n",
       "      <td>A5</td>\n",
       "      <td>3.0</td>\n",
       "      <td>3</td>\n",
       "      <td>3</td>\n",
       "      <td>5</td>\n",
       "      <td>0</td>\n",
       "      <td>3</td>\n",
       "      <td>4</td>\n",
       "      <td>4</td>\n",
       "      <td>...</td>\n",
       "      <td>知らないことを知ること</td>\n",
       "      <td>2</td>\n",
       "      <td>JAVA_2月</td>\n",
       "      <td>開発</td>\n",
       "      <td>40代</td>\n",
       "      <td>男</td>\n",
       "      <td>15</td>\n",
       "      <td>ハローワーク</td>\n",
       "      <td>0</td>\n",
       "      <td>2023/3</td>\n",
       "    </tr>\n",
       "  </tbody>\n",
       "</table>\n",
       "<p>5 rows × 26 columns</p>\n",
       "</div>"
      ],
      "text/plain": [
       "   SEQ  ID   Q1  Q2  Q3 Q4 Q4_other  Q5  Q6 Q7  ...  \\\n",
       "0    1  A1  3.0   3   3  3        0   1   3  3  ...   \n",
       "1    2  A2  3.0   3   3  3        0   1   3  3  ...   \n",
       "2    3  A3  4.0   3   3  5        0   1   3  4  ...   \n",
       "3    4  A4  3.0   3   3  3        0   1   3  3  ...   \n",
       "4    5  A5  3.0   3   3  5        0   3   4  4  ...   \n",
       "\n",
       "                                        Q10  start_month    class Unnamed: 19  \\\n",
       "0                  有休の取りやすさ、残業少なめ、リモートできる職種            2  JAVA_2月          開発   \n",
       "1  自身が未経験での転職の為、プログラミングのあらゆることを伸ばしつつ、活躍できる場            2  JAVA_2月          開発   \n",
       "2    休日、祝日はしっかり休める、ワークライフバランス大事、安定的な給料がもらえる            2  JAVA_2月          開発   \n",
       "3                              休日数、勤務地、業務内容            2  JAVA_2月          開発   \n",
       "4                               知らないことを知ること            2  JAVA_2月          開発   \n",
       "\n",
       "   age sex time_c  kikkake _other    (y/m)  \n",
       "0  50代   女     50   ハローワーク      0   2023/4  \n",
       "1  30代   男     30   ハローワーク      0   2023/3  \n",
       "2  20代   女     62   ハローワーク      0  2022/12  \n",
       "3  20代   男     70       知人      0   2023/3  \n",
       "4  40代   男     15   ハローワーク      0   2023/3  \n",
       "\n",
       "[5 rows x 26 columns]"
      ]
     },
     "execution_count": 4,
     "metadata": {},
     "output_type": "execute_result"
    }
   ],
   "source": [
    "# CSV読込\n",
    "df=pd.read_csv(\"C:/Users/dareka/Desktop/ds_work/quetionnary_lst_230421.csv\",header=1)\n",
    "df.head()"
   ]
  },
  {
   "cell_type": "code",
   "execution_count": 5,
   "metadata": {
    "id": "HYc_ife8g4Ch"
   },
   "outputs": [],
   "source": [
    "# 就職への役立ち「不明」を置き換え\n",
    "df.replace(\"不明\",np.NAN,inplace=True)\n",
    "df.replace(\"3,6\",int(3),inplace=True)"
   ]
  },
  {
   "cell_type": "code",
   "execution_count": 6,
   "metadata": {
    "colab": {
     "base_uri": "https://localhost:8080/",
     "height": 384
    },
    "id": "-8EYdSFvqOa4",
    "outputId": "7df20de4-38a5-4678-aedb-4bb3190a4878"
   },
   "outputs": [
    {
     "data": {
      "text/html": [
       "<div>\n",
       "<style scoped>\n",
       "    .dataframe tbody tr th:only-of-type {\n",
       "        vertical-align: middle;\n",
       "    }\n",
       "\n",
       "    .dataframe tbody tr th {\n",
       "        vertical-align: top;\n",
       "    }\n",
       "\n",
       "    .dataframe thead th {\n",
       "        text-align: right;\n",
       "    }\n",
       "</style>\n",
       "<table border=\"1\" class=\"dataframe\">\n",
       "  <thead>\n",
       "    <tr style=\"text-align: right;\">\n",
       "      <th></th>\n",
       "      <th>SEQ</th>\n",
       "      <th>ID</th>\n",
       "      <th>Q1</th>\n",
       "      <th>Q2</th>\n",
       "      <th>Q3</th>\n",
       "      <th>Q4</th>\n",
       "      <th>Q4_other</th>\n",
       "      <th>Q5</th>\n",
       "      <th>Q6</th>\n",
       "      <th>Q7</th>\n",
       "      <th>...</th>\n",
       "      <th>Q10</th>\n",
       "      <th>start_month</th>\n",
       "      <th>class</th>\n",
       "      <th>Unnamed: 19</th>\n",
       "      <th>age</th>\n",
       "      <th>sex</th>\n",
       "      <th>time_c</th>\n",
       "      <th>kikkake</th>\n",
       "      <th>_other</th>\n",
       "      <th>(y/m)</th>\n",
       "    </tr>\n",
       "  </thead>\n",
       "  <tbody>\n",
       "    <tr>\n",
       "      <th>118</th>\n",
       "      <td>119</td>\n",
       "      <td>J1</td>\n",
       "      <td>4.0</td>\n",
       "      <td>4</td>\n",
       "      <td>3</td>\n",
       "      <td>3</td>\n",
       "      <td>0</td>\n",
       "      <td>1</td>\n",
       "      <td>4</td>\n",
       "      <td>3</td>\n",
       "      <td>...</td>\n",
       "      <td>残業が少ない。</td>\n",
       "      <td>12</td>\n",
       "      <td>三宮webクリエーター12月</td>\n",
       "      <td>Web</td>\n",
       "      <td>20代</td>\n",
       "      <td>女</td>\n",
       "      <td>40</td>\n",
       "      <td>Web</td>\n",
       "      <td>NaN</td>\n",
       "      <td>2023/4</td>\n",
       "    </tr>\n",
       "    <tr>\n",
       "      <th>119</th>\n",
       "      <td>120</td>\n",
       "      <td>J2</td>\n",
       "      <td>4.0</td>\n",
       "      <td>2</td>\n",
       "      <td>3</td>\n",
       "      <td>2</td>\n",
       "      <td>0</td>\n",
       "      <td>1</td>\n",
       "      <td>3</td>\n",
       "      <td>3</td>\n",
       "      <td>...</td>\n",
       "      <td>自身の能力を発揮できる場/良好な人間関係/働き易い環境（プライベート、オンオフ）</td>\n",
       "      <td>12</td>\n",
       "      <td>三宮webクリエーター12月</td>\n",
       "      <td>Web</td>\n",
       "      <td>20代</td>\n",
       "      <td>女</td>\n",
       "      <td>45</td>\n",
       "      <td>知人</td>\n",
       "      <td>NaN</td>\n",
       "      <td>2023/1</td>\n",
       "    </tr>\n",
       "    <tr>\n",
       "      <th>120</th>\n",
       "      <td>121</td>\n",
       "      <td>J3</td>\n",
       "      <td>4.0</td>\n",
       "      <td>3</td>\n",
       "      <td>3</td>\n",
       "      <td>3</td>\n",
       "      <td>0</td>\n",
       "      <td>1</td>\n",
       "      <td>4</td>\n",
       "      <td>4</td>\n",
       "      <td>...</td>\n",
       "      <td>常に新しいことに挑戦できる、成長できる環境</td>\n",
       "      <td>12</td>\n",
       "      <td>三宮webクリエーター12月</td>\n",
       "      <td>Web</td>\n",
       "      <td>20代</td>\n",
       "      <td>女</td>\n",
       "      <td>60</td>\n",
       "      <td>ハローワーク</td>\n",
       "      <td>知人</td>\n",
       "      <td>2023/3</td>\n",
       "    </tr>\n",
       "    <tr>\n",
       "      <th>121</th>\n",
       "      <td>122</td>\n",
       "      <td>J4</td>\n",
       "      <td>4.0</td>\n",
       "      <td>3</td>\n",
       "      <td>3</td>\n",
       "      <td>4</td>\n",
       "      <td>0</td>\n",
       "      <td>1</td>\n",
       "      <td>3</td>\n",
       "      <td>3</td>\n",
       "      <td>...</td>\n",
       "      <td>ワークライフバランス</td>\n",
       "      <td>12</td>\n",
       "      <td>三宮webクリエーター12月</td>\n",
       "      <td>Web</td>\n",
       "      <td>30代</td>\n",
       "      <td>女</td>\n",
       "      <td>60</td>\n",
       "      <td>ハローワーク</td>\n",
       "      <td>NaN</td>\n",
       "      <td>2023/1</td>\n",
       "    </tr>\n",
       "    <tr>\n",
       "      <th>122</th>\n",
       "      <td>123</td>\n",
       "      <td>J5</td>\n",
       "      <td>4.0</td>\n",
       "      <td>4</td>\n",
       "      <td>3</td>\n",
       "      <td>3</td>\n",
       "      <td>0</td>\n",
       "      <td>3</td>\n",
       "      <td>3</td>\n",
       "      <td>3</td>\n",
       "      <td>...</td>\n",
       "      <td>やりがいのある仕事内容/労働条件/通勤距離</td>\n",
       "      <td>12</td>\n",
       "      <td>三宮webクリエーター12月</td>\n",
       "      <td>Web</td>\n",
       "      <td>20代</td>\n",
       "      <td>女</td>\n",
       "      <td>30</td>\n",
       "      <td>ハローワーク</td>\n",
       "      <td>NaN</td>\n",
       "      <td>2023/3</td>\n",
       "    </tr>\n",
       "  </tbody>\n",
       "</table>\n",
       "<p>5 rows × 26 columns</p>\n",
       "</div>"
      ],
      "text/plain": [
       "     SEQ  ID   Q1  Q2  Q3 Q4 Q4_other  Q5  Q6 Q7  ...  \\\n",
       "118  119  J1  4.0   4   3  3        0   1   4  3  ...   \n",
       "119  120  J2  4.0   2   3  2        0   1   3  3  ...   \n",
       "120  121  J3  4.0   3   3  3        0   1   4  4  ...   \n",
       "121  122  J4  4.0   3   3  4        0   1   3  3  ...   \n",
       "122  123  J5  4.0   4   3  3        0   3   3  3  ...   \n",
       "\n",
       "                                          Q10  start_month           class  \\\n",
       "118                                   残業が少ない。           12  三宮webクリエーター12月   \n",
       "119  自身の能力を発揮できる場/良好な人間関係/働き易い環境（プライベート、オンオフ）           12  三宮webクリエーター12月   \n",
       "120                     常に新しいことに挑戦できる、成長できる環境           12  三宮webクリエーター12月   \n",
       "121                                ワークライフバランス           12  三宮webクリエーター12月   \n",
       "122                     やりがいのある仕事内容/労働条件/通勤距離           12  三宮webクリエーター12月   \n",
       "\n",
       "    Unnamed: 19  age sex time_c  kikkake _other   (y/m)  \n",
       "118         Web  20代   女     40      Web    NaN  2023/4  \n",
       "119         Web  20代   女     45       知人    NaN  2023/1  \n",
       "120         Web  20代   女     60   ハローワーク     知人  2023/3  \n",
       "121         Web  30代   女     60   ハローワーク    NaN  2023/1  \n",
       "122         Web  20代   女     30   ハローワーク    NaN  2023/3  \n",
       "\n",
       "[5 rows x 26 columns]"
      ]
     },
     "execution_count": 6,
     "metadata": {},
     "output_type": "execute_result"
    }
   ],
   "source": [
    "df.loc[(df[\"class\"]=='三宮webクリエーター12月'),:].head()"
   ]
  },
  {
   "cell_type": "code",
   "execution_count": 7,
   "metadata": {
    "id": "u3QADJ6LjLXm"
   },
   "outputs": [],
   "source": [
    "# 箱つくり\n",
    "a=[2,3,4,5,7,8,-8]\n",
    "df1 = df.iloc[:,a]"
   ]
  },
  {
   "cell_type": "code",
   "execution_count": 8,
   "metadata": {
    "id": "5TdJNBfMmc_L"
   },
   "outputs": [],
   "source": [
    "df2 = df1.dropna(how=\"any\",axis=0)"
   ]
  },
  {
   "cell_type": "code",
   "execution_count": 9,
   "metadata": {
    "colab": {
     "base_uri": "https://localhost:8080/"
    },
    "id": "VOy6nKu4rlA8",
    "outputId": "72a851af-9b53-4bf9-c06a-b370b3ee00fe"
   },
   "outputs": [
    {
     "name": "stderr",
     "output_type": "stream",
     "text": [
      "C:\\Users\\dareka\\AppData\\Local\\Temp\\ipykernel_11160\\2174115891.py:1: SettingWithCopyWarning: \n",
      "A value is trying to be set on a copy of a slice from a DataFrame.\n",
      "Try using .loc[row_indexer,col_indexer] = value instead\n",
      "\n",
      "See the caveats in the documentation: https://pandas.pydata.org/pandas-docs/stable/user_guide/indexing.html#returning-a-view-versus-a-copy\n",
      "  df2[\"Q1\"]=[int(x) for x in df2[\"Q1\"]]\n",
      "C:\\Users\\dareka\\AppData\\Local\\Temp\\ipykernel_11160\\2174115891.py:2: SettingWithCopyWarning: \n",
      "A value is trying to be set on a copy of a slice from a DataFrame.\n",
      "Try using .loc[row_indexer,col_indexer] = value instead\n",
      "\n",
      "See the caveats in the documentation: https://pandas.pydata.org/pandas-docs/stable/user_guide/indexing.html#returning-a-view-versus-a-copy\n",
      "  df2[\"Q4\"]=[int(x) for x in df2[\"Q4\"]]\n"
     ]
    }
   ],
   "source": [
    "df2[\"Q1\"]=[int(x) for x in df2[\"Q1\"]]\n",
    "df2[\"Q4\"]=[int(x) for x in df2[\"Q4\"]]"
   ]
  },
  {
   "cell_type": "code",
   "execution_count": 10,
   "metadata": {
    "id": "lUmv4x2bq1bK"
   },
   "outputs": [],
   "source": [
    "# df2.loc[(df2[\"class\"]=='三宮webクリエーター12月'),:]"
   ]
  },
  {
   "cell_type": "code",
   "execution_count": 11,
   "metadata": {
    "colab": {
     "base_uri": "https://localhost:8080/"
    },
    "id": "nUFb1qRVqjka",
    "outputId": "07c0a52a-9b89-4024-af4c-f3291ea7b6bf"
   },
   "outputs": [
    {
     "data": {
      "text/plain": [
       "Q1       0\n",
       "Q2       0\n",
       "Q3       0\n",
       "Q4       0\n",
       "Q5       0\n",
       "Q6       0\n",
       "class    0\n",
       "dtype: int64"
      ]
     },
     "execution_count": 11,
     "metadata": {},
     "output_type": "execute_result"
    }
   ],
   "source": [
    "df2.isnull().sum()"
   ]
  },
  {
   "cell_type": "code",
   "execution_count": 12,
   "metadata": {
    "colab": {
     "base_uri": "https://localhost:8080/",
     "height": 206
    },
    "id": "GJkXDk5lyG4f",
    "outputId": "99289980-5344-40d4-9877-44218a31b0bf"
   },
   "outputs": [
    {
     "data": {
      "text/html": [
       "<div>\n",
       "<style scoped>\n",
       "    .dataframe tbody tr th:only-of-type {\n",
       "        vertical-align: middle;\n",
       "    }\n",
       "\n",
       "    .dataframe tbody tr th {\n",
       "        vertical-align: top;\n",
       "    }\n",
       "\n",
       "    .dataframe thead th {\n",
       "        text-align: right;\n",
       "    }\n",
       "</style>\n",
       "<table border=\"1\" class=\"dataframe\">\n",
       "  <thead>\n",
       "    <tr style=\"text-align: right;\">\n",
       "      <th></th>\n",
       "      <th>Q1</th>\n",
       "      <th>Q2</th>\n",
       "      <th>Q3</th>\n",
       "      <th>Q4</th>\n",
       "      <th>Q5</th>\n",
       "      <th>Q6</th>\n",
       "      <th>class</th>\n",
       "    </tr>\n",
       "  </thead>\n",
       "  <tbody>\n",
       "    <tr>\n",
       "      <th>0</th>\n",
       "      <td>3</td>\n",
       "      <td>3</td>\n",
       "      <td>3</td>\n",
       "      <td>3</td>\n",
       "      <td>1</td>\n",
       "      <td>3</td>\n",
       "      <td>JAVA_2月</td>\n",
       "    </tr>\n",
       "    <tr>\n",
       "      <th>1</th>\n",
       "      <td>3</td>\n",
       "      <td>3</td>\n",
       "      <td>3</td>\n",
       "      <td>3</td>\n",
       "      <td>1</td>\n",
       "      <td>3</td>\n",
       "      <td>JAVA_2月</td>\n",
       "    </tr>\n",
       "    <tr>\n",
       "      <th>2</th>\n",
       "      <td>4</td>\n",
       "      <td>3</td>\n",
       "      <td>3</td>\n",
       "      <td>5</td>\n",
       "      <td>1</td>\n",
       "      <td>3</td>\n",
       "      <td>JAVA_2月</td>\n",
       "    </tr>\n",
       "    <tr>\n",
       "      <th>3</th>\n",
       "      <td>3</td>\n",
       "      <td>3</td>\n",
       "      <td>3</td>\n",
       "      <td>3</td>\n",
       "      <td>1</td>\n",
       "      <td>3</td>\n",
       "      <td>JAVA_2月</td>\n",
       "    </tr>\n",
       "    <tr>\n",
       "      <th>4</th>\n",
       "      <td>3</td>\n",
       "      <td>3</td>\n",
       "      <td>3</td>\n",
       "      <td>5</td>\n",
       "      <td>3</td>\n",
       "      <td>4</td>\n",
       "      <td>JAVA_2月</td>\n",
       "    </tr>\n",
       "  </tbody>\n",
       "</table>\n",
       "</div>"
      ],
      "text/plain": [
       "   Q1  Q2  Q3  Q4  Q5  Q6    class\n",
       "0   3   3   3   3   1   3  JAVA_2月\n",
       "1   3   3   3   3   1   3  JAVA_2月\n",
       "2   4   3   3   5   1   3  JAVA_2月\n",
       "3   3   3   3   3   1   3  JAVA_2月\n",
       "4   3   3   3   5   3   4  JAVA_2月"
      ]
     },
     "execution_count": 12,
     "metadata": {},
     "output_type": "execute_result"
    }
   ],
   "source": [
    "df2.head()"
   ]
  },
  {
   "cell_type": "code",
   "execution_count": 13,
   "metadata": {
    "colab": {
     "base_uri": "https://localhost:8080/"
    },
    "id": "UeIcgAWgnBxt",
    "outputId": "92b43fdf-ebfa-4ef4-9c60-4c93248d31d1"
   },
   "outputs": [
    {
     "data": {
      "text/plain": [
       "array(['JAVA_2月', 'WD開発基礎', 'Webアプリ', 'JAVA_1月', 'webデザイナー実践', 'クラウド',\n",
       "       'グラフィック', '未経験からめざせるWeb制作+動画', '三宮web動画HP', '三宮webクリエーター12月',\n",
       "       '三宮webクリエーター1月', '三宮グラフィック・Webデザイナー1月', '三宮webデザイン・プログラミング',\n",
       "       '三宮web更新', '三宮webクリエーター3月', '三宮Web動画HP',\n",
       "       '三宮実践Java+Pythonプログラマー養成4月'], dtype=object)"
      ]
     },
     "execution_count": 13,
     "metadata": {},
     "output_type": "execute_result"
    }
   ],
   "source": [
    "#クラスのオブジェクトが何個あるか　len() で確認\n",
    "df2[\"class\"].unique()"
   ]
  },
  {
   "cell_type": "code",
   "execution_count": 14,
   "metadata": {
    "id": "7fRFk-yChUsM"
   },
   "outputs": [],
   "source": [
    "clas =['JAVA_2月', 'WD開発基礎', 'Webアプリ', 'JAVA_1月', 'webデザイナー実践', 'クラウド',\n",
    "       'グラフィック', '未経験からめざせるWeb制作+動画', '三宮web動画HP', '三宮webクリエーター12月',\n",
    "       '三宮webクリエーター1月', '三宮グラフィック・Webデザイナー1月', '三宮webデザイン・プログラミング',\n",
    "       '三宮web更新', '三宮webクリエーター3月', '三宮Web動画HP',\n",
    "       '三宮実践Java+Pythonプログラマー養成4月']\n",
    "\n",
    "#17クラスある\n",
    "# len(clas)"
   ]
  },
  {
   "cell_type": "code",
   "execution_count": 15,
   "metadata": {
    "id": "52LWdFSYv0kP"
   },
   "outputs": [],
   "source": [
    "# len(b[0])"
   ]
  },
  {
   "cell_type": "code",
   "execution_count": 16,
   "metadata": {
    "id": "8qDD6Vun2zFg"
   },
   "outputs": [],
   "source": [
    "labels = ['JAVA_2月', 'WD開発基礎', 'Webアプリ', 'JAVA_1月', 'webデザイナー', 'クラウド',\n",
    "        'グラフィック', 'Web制作+動画', '三)web動画HP',\n",
    "        '三)webクリ12月', '三)webクリ1月',\n",
    "        '三)グラ/Webデザ', '三)webデザ',\n",
    "        '三)web更新', '三)webクリ', '三)Web動画HP','三)Java+Python']"
   ]
  },
  {
   "cell_type": "code",
   "execution_count": 17,
   "metadata": {
    "id": "gBNh5qb-wLK4"
   },
   "outputs": [],
   "source": [
    "#分散を求める関数を定義\n",
    "def var(x):\n",
    "  a=round(np.var(data[x]),5)\n",
    "  return a"
   ]
  },
  {
   "cell_type": "code",
   "execution_count": 18,
   "metadata": {
    "id": "G0kRrLX_4moi"
   },
   "outputs": [],
   "source": [
    "# np.var(data[a1[0]])"
   ]
  },
  {
   "cell_type": "code",
   "execution_count": 19,
   "metadata": {
    "id": "Yn-azITuhg0L"
   },
   "outputs": [],
   "source": [
    "#リストの要素にリストを作った\n",
    "b = [[],[],[],[],[],[],[],[],[],[],[],[],[],[],[],[],[]]\n",
    "#for分でそれぞれのクラスのごとに質問の分散を計算してリストに格納\n",
    "a1=[\"Q1\",\"Q2\",\"Q3\",\"Q4\",\"Q5\",\"Q6\"]\n",
    "for i in range(0,17):\n",
    "  data=df2.loc[df2[\"class\"]==clas[i],:]\n",
    "  for u in range(0,6):\n",
    "    b[i].append(round(np.var(data[a1[u]]),5))\n",
    "\n"
   ]
  },
  {
   "cell_type": "code",
   "execution_count": 20,
   "metadata": {
    "id": "v2gsQEi_tqo3"
   },
   "outputs": [],
   "source": [
    "# data=df2.loc[df2[\"class\"]==\"JAVA_2月\"]\n",
    "# np.var(data[\"Q1\"])"
   ]
  },
  {
   "cell_type": "code",
   "execution_count": 21,
   "metadata": {
    "colab": {
     "base_uri": "https://localhost:8080/"
    },
    "id": "78zPZMIEfj-5",
    "outputId": "3d2152c1-72df-4781-c301-b19dfa76a8c6"
   },
   "outputs": [
    {
     "data": {
      "text/plain": [
       "[[0.1875, 0.1875, 0.35938, 1.23438, 0.73438, 0.1875],\n",
       " [0.24, 0.2816, 0.72, 1.36, 0.88, 0.2464],\n",
       " [0.24306, 0.57639, 0.24306, 1.35417, 0.41667, 0.1875],\n",
       " [0.48438, 0.35938, 0.23438, 1.9375, 0.4375, 0.60938],\n",
       " [0.1875, 0.33984, 0.23438, 1.6875, 0.73438, 0.27734],\n",
       " [0.61728, 0.39506, 0.61728, 2.83951, 0.76543, 0.09877],\n",
       " [0.2314, 0.42975, 0.44628, 1.71901, 0.77686, 0.19835],\n",
       " [0.22222, 0.38222, 0.46222, 1.04889, 0.59556, 0.19556],\n",
       " [0.0, 0.21302, 0.28402, 1.71598, 1.30178, 0.24852],\n",
       " [0.0475, 0.54, 0.26, 1.06, 0.9275, 0.21],\n",
       " [0.0, 0.63905, 0.3787, 2.39053, 0.86391, 0.24852],\n",
       " [0.0, 0.74556, 0.15385, 3.46746, 1.10059, 0.24852],\n",
       " [0.25, 0.40816, 0.2449, 2.4898, 0.67857, 0.25],\n",
       " [0.35457, 0.36565, 0.65928, 2.99723, 0.99723, 0.21607],\n",
       " [0.09877, 0.31173, 0.45988, 2.80247, 0.6821, 0.20062],\n",
       " [0.33107, 0.60317, 0.4263, 1.10658, 0.69388, 0.22222],\n",
       " [0.6281, 0.54545, 0.54545, 2.79339, 0.69421, 0.19835]]"
      ]
     },
     "execution_count": 21,
     "metadata": {},
     "output_type": "execute_result"
    }
   ],
   "source": [
    "#さっき格納したクラスごとの質問の分散の合計をリストの中のリストに格納した\n",
    "b"
   ]
  },
  {
   "cell_type": "code",
   "execution_count": 22,
   "metadata": {
    "id": "6ulAWDPKtH8C"
   },
   "outputs": [],
   "source": [
    "#b_sumにそれぞれの質問の分散の合計を入れていく\n",
    "b_sum=[]\n",
    "for i in range(0,17):\n",
    "  b_sum.append(round(sum(b[i]),3))\n"
   ]
  },
  {
   "cell_type": "code",
   "execution_count": 23,
   "metadata": {
    "id": "uYJhNAwdt_0x"
   },
   "outputs": [],
   "source": [
    "# print(len(b_sum),b_sum)"
   ]
  },
  {
   "cell_type": "code",
   "execution_count": 24,
   "metadata": {
    "colab": {
     "base_uri": "https://localhost:8080/"
    },
    "id": "4bq4L_d5shBC",
    "outputId": "7d49068b-ba62-4ba9-a003-1874907bc57d"
   },
   "outputs": [
    {
     "name": "stdout",
     "output_type": "stream",
     "text": [
      "2.891 ： JAVA_2月\n",
      "3.728 ： WD開発基礎\n",
      "3.021 ： Webアプリ\n",
      "4.063 ： JAVA_1月\n",
      "3.461 ： webデザイナー実践\n",
      "5.333 ： クラウド\n",
      "3.802 ： グラフィック\n",
      "2.907 ： 未経験からめざせるWeb制作+動画\n",
      "3.763 ： 三宮web動画HP\n",
      "3.045 ： 三宮webクリエーター12月\n",
      "4.521 ： 三宮webクリエーター1月\n",
      "5.716 ： 三宮グラフィック・Webデザイナー1月\n",
      "4.321 ： 三宮webデザイン・プログラミング\n",
      "5.59 ： 三宮web更新\n",
      "4.556 ： 三宮webクリエーター3月\n",
      "3.383 ： 三宮Web動画HP\n",
      "5.405 ： 三宮実践Java+Pythonプログラマー養成4月\n"
     ]
    }
   ],
   "source": [
    "for i in range(0,17):\n",
    "  print(str(b_sum[i])+\" ： \"+str(clas[i]))\n",
    "  #print(str(clas[i])+\"の分散の合計は\"+str(b_sum[i]))"
   ]
  },
  {
   "cell_type": "code",
   "execution_count": 25,
   "metadata": {
    "id": "ROL6LTUE1i8x"
   },
   "outputs": [],
   "source": [
    "b_cros = pd.DataFrame(index=a1, columns=clas)\n",
    "for i in range(0,17):\n",
    "  b_cros[clas[i]]=b[i]\n"
   ]
  },
  {
   "cell_type": "code",
   "execution_count": 26,
   "metadata": {
    "colab": {
     "base_uri": "https://localhost:8080/",
     "height": 582
    },
    "id": "wpQA0TTgzs4_",
    "outputId": "a7c48564-fd94-442e-a16c-4f032d429dc4"
   },
   "outputs": [
    {
     "data": {
      "text/html": [
       "<div>\n",
       "<style scoped>\n",
       "    .dataframe tbody tr th:only-of-type {\n",
       "        vertical-align: middle;\n",
       "    }\n",
       "\n",
       "    .dataframe tbody tr th {\n",
       "        vertical-align: top;\n",
       "    }\n",
       "\n",
       "    .dataframe thead th {\n",
       "        text-align: right;\n",
       "    }\n",
       "</style>\n",
       "<table border=\"1\" class=\"dataframe\">\n",
       "  <thead>\n",
       "    <tr style=\"text-align: right;\">\n",
       "      <th></th>\n",
       "      <th>Q1</th>\n",
       "      <th>Q2</th>\n",
       "      <th>Q3</th>\n",
       "      <th>Q4</th>\n",
       "      <th>Q5</th>\n",
       "      <th>Q6</th>\n",
       "    </tr>\n",
       "  </thead>\n",
       "  <tbody>\n",
       "    <tr>\n",
       "      <th>JAVA_2月</th>\n",
       "      <td>0.18750</td>\n",
       "      <td>0.18750</td>\n",
       "      <td>0.35938</td>\n",
       "      <td>1.23438</td>\n",
       "      <td>0.73438</td>\n",
       "      <td>0.18750</td>\n",
       "    </tr>\n",
       "    <tr>\n",
       "      <th>WD開発基礎</th>\n",
       "      <td>0.24000</td>\n",
       "      <td>0.28160</td>\n",
       "      <td>0.72000</td>\n",
       "      <td>1.36000</td>\n",
       "      <td>0.88000</td>\n",
       "      <td>0.24640</td>\n",
       "    </tr>\n",
       "    <tr>\n",
       "      <th>Webアプリ</th>\n",
       "      <td>0.24306</td>\n",
       "      <td>0.57639</td>\n",
       "      <td>0.24306</td>\n",
       "      <td>1.35417</td>\n",
       "      <td>0.41667</td>\n",
       "      <td>0.18750</td>\n",
       "    </tr>\n",
       "    <tr>\n",
       "      <th>JAVA_1月</th>\n",
       "      <td>0.48438</td>\n",
       "      <td>0.35938</td>\n",
       "      <td>0.23438</td>\n",
       "      <td>1.93750</td>\n",
       "      <td>0.43750</td>\n",
       "      <td>0.60938</td>\n",
       "    </tr>\n",
       "    <tr>\n",
       "      <th>webデザイナー</th>\n",
       "      <td>0.18750</td>\n",
       "      <td>0.33984</td>\n",
       "      <td>0.23438</td>\n",
       "      <td>1.68750</td>\n",
       "      <td>0.73438</td>\n",
       "      <td>0.27734</td>\n",
       "    </tr>\n",
       "    <tr>\n",
       "      <th>クラウド</th>\n",
       "      <td>0.61728</td>\n",
       "      <td>0.39506</td>\n",
       "      <td>0.61728</td>\n",
       "      <td>2.83951</td>\n",
       "      <td>0.76543</td>\n",
       "      <td>0.09877</td>\n",
       "    </tr>\n",
       "    <tr>\n",
       "      <th>グラフィック</th>\n",
       "      <td>0.23140</td>\n",
       "      <td>0.42975</td>\n",
       "      <td>0.44628</td>\n",
       "      <td>1.71901</td>\n",
       "      <td>0.77686</td>\n",
       "      <td>0.19835</td>\n",
       "    </tr>\n",
       "    <tr>\n",
       "      <th>Web制作+動画</th>\n",
       "      <td>0.22222</td>\n",
       "      <td>0.38222</td>\n",
       "      <td>0.46222</td>\n",
       "      <td>1.04889</td>\n",
       "      <td>0.59556</td>\n",
       "      <td>0.19556</td>\n",
       "    </tr>\n",
       "    <tr>\n",
       "      <th>三)web動画HP</th>\n",
       "      <td>0.00000</td>\n",
       "      <td>0.21302</td>\n",
       "      <td>0.28402</td>\n",
       "      <td>1.71598</td>\n",
       "      <td>1.30178</td>\n",
       "      <td>0.24852</td>\n",
       "    </tr>\n",
       "    <tr>\n",
       "      <th>三)webクリ12月</th>\n",
       "      <td>0.04750</td>\n",
       "      <td>0.54000</td>\n",
       "      <td>0.26000</td>\n",
       "      <td>1.06000</td>\n",
       "      <td>0.92750</td>\n",
       "      <td>0.21000</td>\n",
       "    </tr>\n",
       "    <tr>\n",
       "      <th>三)webクリ1月</th>\n",
       "      <td>0.00000</td>\n",
       "      <td>0.63905</td>\n",
       "      <td>0.37870</td>\n",
       "      <td>2.39053</td>\n",
       "      <td>0.86391</td>\n",
       "      <td>0.24852</td>\n",
       "    </tr>\n",
       "    <tr>\n",
       "      <th>三)グラ/Webデザ</th>\n",
       "      <td>0.00000</td>\n",
       "      <td>0.74556</td>\n",
       "      <td>0.15385</td>\n",
       "      <td>3.46746</td>\n",
       "      <td>1.10059</td>\n",
       "      <td>0.24852</td>\n",
       "    </tr>\n",
       "    <tr>\n",
       "      <th>三)webデザ</th>\n",
       "      <td>0.25000</td>\n",
       "      <td>0.40816</td>\n",
       "      <td>0.24490</td>\n",
       "      <td>2.48980</td>\n",
       "      <td>0.67857</td>\n",
       "      <td>0.25000</td>\n",
       "    </tr>\n",
       "    <tr>\n",
       "      <th>三)web更新</th>\n",
       "      <td>0.35457</td>\n",
       "      <td>0.36565</td>\n",
       "      <td>0.65928</td>\n",
       "      <td>2.99723</td>\n",
       "      <td>0.99723</td>\n",
       "      <td>0.21607</td>\n",
       "    </tr>\n",
       "    <tr>\n",
       "      <th>三)webクリ</th>\n",
       "      <td>0.09877</td>\n",
       "      <td>0.31173</td>\n",
       "      <td>0.45988</td>\n",
       "      <td>2.80247</td>\n",
       "      <td>0.68210</td>\n",
       "      <td>0.20062</td>\n",
       "    </tr>\n",
       "    <tr>\n",
       "      <th>三)Web動画HP</th>\n",
       "      <td>0.33107</td>\n",
       "      <td>0.60317</td>\n",
       "      <td>0.42630</td>\n",
       "      <td>1.10658</td>\n",
       "      <td>0.69388</td>\n",
       "      <td>0.22222</td>\n",
       "    </tr>\n",
       "    <tr>\n",
       "      <th>三)Java+Python</th>\n",
       "      <td>0.62810</td>\n",
       "      <td>0.54545</td>\n",
       "      <td>0.54545</td>\n",
       "      <td>2.79339</td>\n",
       "      <td>0.69421</td>\n",
       "      <td>0.19835</td>\n",
       "    </tr>\n",
       "  </tbody>\n",
       "</table>\n",
       "</div>"
      ],
      "text/plain": [
       "                    Q1       Q2       Q3       Q4       Q5       Q6\n",
       "JAVA_2月        0.18750  0.18750  0.35938  1.23438  0.73438  0.18750\n",
       "WD開発基礎         0.24000  0.28160  0.72000  1.36000  0.88000  0.24640\n",
       "Webアプリ         0.24306  0.57639  0.24306  1.35417  0.41667  0.18750\n",
       "JAVA_1月        0.48438  0.35938  0.23438  1.93750  0.43750  0.60938\n",
       "webデザイナー       0.18750  0.33984  0.23438  1.68750  0.73438  0.27734\n",
       "クラウド           0.61728  0.39506  0.61728  2.83951  0.76543  0.09877\n",
       "グラフィック         0.23140  0.42975  0.44628  1.71901  0.77686  0.19835\n",
       "Web制作+動画       0.22222  0.38222  0.46222  1.04889  0.59556  0.19556\n",
       "三)web動画HP      0.00000  0.21302  0.28402  1.71598  1.30178  0.24852\n",
       "三)webクリ12月     0.04750  0.54000  0.26000  1.06000  0.92750  0.21000\n",
       "三)webクリ1月      0.00000  0.63905  0.37870  2.39053  0.86391  0.24852\n",
       "三)グラ/Webデザ     0.00000  0.74556  0.15385  3.46746  1.10059  0.24852\n",
       "三)webデザ        0.25000  0.40816  0.24490  2.48980  0.67857  0.25000\n",
       "三)web更新        0.35457  0.36565  0.65928  2.99723  0.99723  0.21607\n",
       "三)webクリ        0.09877  0.31173  0.45988  2.80247  0.68210  0.20062\n",
       "三)Web動画HP      0.33107  0.60317  0.42630  1.10658  0.69388  0.22222\n",
       "三)Java+Python  0.62810  0.54545  0.54545  2.79339  0.69421  0.19835"
      ]
     },
     "execution_count": 26,
     "metadata": {},
     "output_type": "execute_result"
    }
   ],
   "source": [
    "# ★\n",
    "b_cros.columns = labels\n",
    "b_cros.T\n",
    "# \n",
    "# f = plt.figure(figsize=(6, 3))\n",
    "# d = f.gca()\n",
    "# d.axis(\"off\")\n",
    "# d.table(cellText=b_cros.values, colLabels=df.columns,\n",
    "#         loc=\"center\", bbox=[0, 0, 1, 1])\n",
    "# plt.tight_layout()\n",
    "# plt.savefig(\"/content/drive/MyDrive/Colab Notebooks/_plot/b_cros.png\", bbox_inches=\"tight\")"
   ]
  },
  {
   "cell_type": "code",
   "execution_count": 27,
   "metadata": {
    "id": "JHktGoh1xgb_"
   },
   "outputs": [],
   "source": [
    "bunsan = pd.DataFrame(b_sum)\n",
    "bunsan=bunsan.T\n",
    "bunsan.columns = labels\n",
    "bunsan\n",
    "#columns=clas\n",
    "bunsan_t = bunsan.T"
   ]
  },
  {
   "cell_type": "code",
   "execution_count": 28,
   "metadata": {
    "colab": {
     "base_uri": "https://localhost:8080/",
     "height": 582
    },
    "id": "_3XhaAeVyI8D",
    "outputId": "c2adc5b2-63b9-4a47-d627-053700ba8446"
   },
   "outputs": [
    {
     "data": {
      "text/html": [
       "<div>\n",
       "<style scoped>\n",
       "    .dataframe tbody tr th:only-of-type {\n",
       "        vertical-align: middle;\n",
       "    }\n",
       "\n",
       "    .dataframe tbody tr th {\n",
       "        vertical-align: top;\n",
       "    }\n",
       "\n",
       "    .dataframe thead th {\n",
       "        text-align: right;\n",
       "    }\n",
       "</style>\n",
       "<table border=\"1\" class=\"dataframe\">\n",
       "  <thead>\n",
       "    <tr style=\"text-align: right;\">\n",
       "      <th></th>\n",
       "      <th>0</th>\n",
       "    </tr>\n",
       "  </thead>\n",
       "  <tbody>\n",
       "    <tr>\n",
       "      <th>JAVA_2月</th>\n",
       "      <td>2.891</td>\n",
       "    </tr>\n",
       "    <tr>\n",
       "      <th>Web制作+動画</th>\n",
       "      <td>2.907</td>\n",
       "    </tr>\n",
       "    <tr>\n",
       "      <th>Webアプリ</th>\n",
       "      <td>3.021</td>\n",
       "    </tr>\n",
       "    <tr>\n",
       "      <th>三)webクリ12月</th>\n",
       "      <td>3.045</td>\n",
       "    </tr>\n",
       "    <tr>\n",
       "      <th>三)Web動画HP</th>\n",
       "      <td>3.383</td>\n",
       "    </tr>\n",
       "    <tr>\n",
       "      <th>webデザイナー</th>\n",
       "      <td>3.461</td>\n",
       "    </tr>\n",
       "    <tr>\n",
       "      <th>WD開発基礎</th>\n",
       "      <td>3.728</td>\n",
       "    </tr>\n",
       "    <tr>\n",
       "      <th>三)web動画HP</th>\n",
       "      <td>3.763</td>\n",
       "    </tr>\n",
       "    <tr>\n",
       "      <th>グラフィック</th>\n",
       "      <td>3.802</td>\n",
       "    </tr>\n",
       "    <tr>\n",
       "      <th>JAVA_1月</th>\n",
       "      <td>4.063</td>\n",
       "    </tr>\n",
       "    <tr>\n",
       "      <th>三)webデザ</th>\n",
       "      <td>4.321</td>\n",
       "    </tr>\n",
       "    <tr>\n",
       "      <th>三)webクリ1月</th>\n",
       "      <td>4.521</td>\n",
       "    </tr>\n",
       "    <tr>\n",
       "      <th>三)webクリ</th>\n",
       "      <td>4.556</td>\n",
       "    </tr>\n",
       "    <tr>\n",
       "      <th>クラウド</th>\n",
       "      <td>5.333</td>\n",
       "    </tr>\n",
       "    <tr>\n",
       "      <th>三)Java+Python</th>\n",
       "      <td>5.405</td>\n",
       "    </tr>\n",
       "    <tr>\n",
       "      <th>三)web更新</th>\n",
       "      <td>5.590</td>\n",
       "    </tr>\n",
       "    <tr>\n",
       "      <th>三)グラ/Webデザ</th>\n",
       "      <td>5.716</td>\n",
       "    </tr>\n",
       "  </tbody>\n",
       "</table>\n",
       "</div>"
      ],
      "text/plain": [
       "                   0\n",
       "JAVA_2月        2.891\n",
       "Web制作+動画       2.907\n",
       "Webアプリ         3.021\n",
       "三)webクリ12月     3.045\n",
       "三)Web動画HP      3.383\n",
       "webデザイナー       3.461\n",
       "WD開発基礎         3.728\n",
       "三)web動画HP      3.763\n",
       "グラフィック         3.802\n",
       "JAVA_1月        4.063\n",
       "三)webデザ        4.321\n",
       "三)webクリ1月      4.521\n",
       "三)webクリ        4.556\n",
       "クラウド           5.333\n",
       "三)Java+Python  5.405\n",
       "三)web更新        5.590\n",
       "三)グラ/Webデザ     5.716"
      ]
     },
     "execution_count": 28,
     "metadata": {},
     "output_type": "execute_result"
    }
   ],
   "source": [
    "# ★ 降順\n",
    "bunsan_t.sort_values(0,ascending=True)\n",
    "# bunsan_t.sort_values(0,ascending=False)\n",
    "#　plt.savefig('/content/drive/MyDrive/Colab Notebooks/bunsan_total.png')"
   ]
  },
  {
   "cell_type": "code",
   "execution_count": 29,
   "metadata": {
    "colab": {
     "base_uri": "https://localhost:8080/",
     "height": 197
    },
    "id": "sWXW8_S_SspS",
    "outputId": "9c106b16-6321-46c8-cc09-e1b1468a86bb"
   },
   "outputs": [
    {
     "data": {
      "text/html": [
       "<div>\n",
       "<style scoped>\n",
       "    .dataframe tbody tr th:only-of-type {\n",
       "        vertical-align: middle;\n",
       "    }\n",
       "\n",
       "    .dataframe tbody tr th {\n",
       "        vertical-align: top;\n",
       "    }\n",
       "\n",
       "    .dataframe thead th {\n",
       "        text-align: right;\n",
       "    }\n",
       "</style>\n",
       "<table border=\"1\" class=\"dataframe\">\n",
       "  <thead>\n",
       "    <tr style=\"text-align: right;\">\n",
       "      <th></th>\n",
       "      <th>JAVA_2月</th>\n",
       "      <th>WD開発基礎</th>\n",
       "      <th>Webアプリ</th>\n",
       "      <th>JAVA_1月</th>\n",
       "      <th>webデザイナー</th>\n",
       "      <th>クラウド</th>\n",
       "      <th>グラフィック</th>\n",
       "      <th>Web制作+動画</th>\n",
       "      <th>三)web動画HP</th>\n",
       "      <th>三)webクリ12月</th>\n",
       "      <th>三)webクリ1月</th>\n",
       "      <th>三)グラ/Webデザ</th>\n",
       "      <th>三)webデザ</th>\n",
       "      <th>三)web更新</th>\n",
       "      <th>三)webクリ</th>\n",
       "      <th>三)Web動画HP</th>\n",
       "      <th>三)Java+Python</th>\n",
       "    </tr>\n",
       "  </thead>\n",
       "  <tbody>\n",
       "    <tr>\n",
       "      <th>0</th>\n",
       "      <td>2.891</td>\n",
       "      <td>3.728</td>\n",
       "      <td>3.021</td>\n",
       "      <td>4.063</td>\n",
       "      <td>3.461</td>\n",
       "      <td>5.333</td>\n",
       "      <td>3.802</td>\n",
       "      <td>2.907</td>\n",
       "      <td>3.763</td>\n",
       "      <td>3.045</td>\n",
       "      <td>4.521</td>\n",
       "      <td>5.716</td>\n",
       "      <td>4.321</td>\n",
       "      <td>5.59</td>\n",
       "      <td>4.556</td>\n",
       "      <td>3.383</td>\n",
       "      <td>5.405</td>\n",
       "    </tr>\n",
       "  </tbody>\n",
       "</table>\n",
       "</div>"
      ],
      "text/plain": [
       "   JAVA_2月  WD開発基礎  Webアプリ  JAVA_1月  webデザイナー   クラウド  グラフィック  Web制作+動画  \\\n",
       "0    2.891   3.728   3.021    4.063     3.461  5.333   3.802     2.907   \n",
       "\n",
       "   三)web動画HP  三)webクリ12月  三)webクリ1月  三)グラ/Webデザ  三)webデザ  三)web更新  三)webクリ  \\\n",
       "0      3.763       3.045      4.521       5.716    4.321     5.59    4.556   \n",
       "\n",
       "   三)Web動画HP  三)Java+Python  \n",
       "0      3.383          5.405  "
      ]
     },
     "execution_count": 29,
     "metadata": {},
     "output_type": "execute_result"
    }
   ],
   "source": [
    "# ★\n",
    "bunsan"
   ]
  },
  {
   "cell_type": "code",
   "execution_count": 30,
   "metadata": {
    "colab": {
     "base_uri": "https://localhost:8080/",
     "height": 915
    },
    "id": "wj57DHzLysN9",
    "outputId": "f80e5163-297b-4435-d0f5-ed2fd9b0167c"
   },
   "outputs": [
    {
     "ename": "TypeError",
     "evalue": "bar() got multiple values for argument 'width'",
     "output_type": "error",
     "traceback": [
      "\u001b[1;31m---------------------------------------------------------------------------\u001b[0m",
      "\u001b[1;31mTypeError\u001b[0m                                 Traceback (most recent call last)",
      "Input \u001b[1;32mIn [30]\u001b[0m, in \u001b[0;36m<cell line: 3>\u001b[1;34m()\u001b[0m\n\u001b[0;32m      1\u001b[0m \u001b[38;5;66;03m# ★\u001b[39;00m\n\u001b[0;32m      2\u001b[0m plt\u001b[38;5;241m.\u001b[39mfigure(figsize\u001b[38;5;241m=\u001b[39m(\u001b[38;5;241m20\u001b[39m,\u001b[38;5;241m15\u001b[39m))\n\u001b[1;32m----> 3\u001b[0m p\u001b[38;5;241m=\u001b[39m\u001b[43msns\u001b[49m\u001b[38;5;241;43m.\u001b[39;49m\u001b[43mbarplot\u001b[49m\u001b[43m(\u001b[49m\u001b[43mdata\u001b[49m\u001b[38;5;241;43m=\u001b[39;49m\u001b[43mbunsan\u001b[49m\u001b[43m,\u001b[49m\u001b[43mwidth\u001b[49m\u001b[38;5;241;43m=\u001b[39;49m\u001b[38;5;241;43m0.7\u001b[39;49m\u001b[43m)\u001b[49m\n\u001b[0;32m      4\u001b[0m p\u001b[38;5;241m.\u001b[39mset_title(\u001b[38;5;124m\"\u001b[39m\u001b[38;5;124m各クラス分散\u001b[39m\u001b[38;5;124m\"\u001b[39m,size\u001b[38;5;241m=\u001b[39m\u001b[38;5;241m22\u001b[39m)\n\u001b[0;32m      5\u001b[0m p\u001b[38;5;241m.\u001b[39mset_xlabel(\u001b[38;5;124m\"\u001b[39m\u001b[38;5;124mクラス\u001b[39m\u001b[38;5;124m\"\u001b[39m,fontsize\u001b[38;5;241m=\u001b[39m\u001b[38;5;241m17\u001b[39m)\n",
      "File \u001b[1;32m~\\anaconda3\\lib\\site-packages\\seaborn\\_decorators.py:46\u001b[0m, in \u001b[0;36m_deprecate_positional_args.<locals>.inner_f\u001b[1;34m(*args, **kwargs)\u001b[0m\n\u001b[0;32m     36\u001b[0m     warnings\u001b[38;5;241m.\u001b[39mwarn(\n\u001b[0;32m     37\u001b[0m         \u001b[38;5;124m\"\u001b[39m\u001b[38;5;124mPass the following variable\u001b[39m\u001b[38;5;132;01m{}\u001b[39;00m\u001b[38;5;124m as \u001b[39m\u001b[38;5;132;01m{}\u001b[39;00m\u001b[38;5;124mkeyword arg\u001b[39m\u001b[38;5;132;01m{}\u001b[39;00m\u001b[38;5;124m: \u001b[39m\u001b[38;5;132;01m{}\u001b[39;00m\u001b[38;5;124m. \u001b[39m\u001b[38;5;124m\"\u001b[39m\n\u001b[0;32m     38\u001b[0m         \u001b[38;5;124m\"\u001b[39m\u001b[38;5;124mFrom version 0.12, the only valid positional argument \u001b[39m\u001b[38;5;124m\"\u001b[39m\n\u001b[1;32m   (...)\u001b[0m\n\u001b[0;32m     43\u001b[0m         \u001b[38;5;167;01mFutureWarning\u001b[39;00m\n\u001b[0;32m     44\u001b[0m     )\n\u001b[0;32m     45\u001b[0m kwargs\u001b[38;5;241m.\u001b[39mupdate({k: arg \u001b[38;5;28;01mfor\u001b[39;00m k, arg \u001b[38;5;129;01min\u001b[39;00m \u001b[38;5;28mzip\u001b[39m(sig\u001b[38;5;241m.\u001b[39mparameters, args)})\n\u001b[1;32m---> 46\u001b[0m \u001b[38;5;28;01mreturn\u001b[39;00m f(\u001b[38;5;241m*\u001b[39m\u001b[38;5;241m*\u001b[39mkwargs)\n",
      "File \u001b[1;32m~\\anaconda3\\lib\\site-packages\\seaborn\\categorical.py:3190\u001b[0m, in \u001b[0;36mbarplot\u001b[1;34m(x, y, hue, data, order, hue_order, estimator, ci, n_boot, units, seed, orient, color, palette, saturation, errcolor, errwidth, capsize, dodge, ax, **kwargs)\u001b[0m\n\u001b[0;32m   3187\u001b[0m \u001b[38;5;28;01mif\u001b[39;00m ax \u001b[38;5;129;01mis\u001b[39;00m \u001b[38;5;28;01mNone\u001b[39;00m:\n\u001b[0;32m   3188\u001b[0m     ax \u001b[38;5;241m=\u001b[39m plt\u001b[38;5;241m.\u001b[39mgca()\n\u001b[1;32m-> 3190\u001b[0m \u001b[43mplotter\u001b[49m\u001b[38;5;241;43m.\u001b[39;49m\u001b[43mplot\u001b[49m\u001b[43m(\u001b[49m\u001b[43max\u001b[49m\u001b[43m,\u001b[49m\u001b[43m \u001b[49m\u001b[43mkwargs\u001b[49m\u001b[43m)\u001b[49m\n\u001b[0;32m   3191\u001b[0m \u001b[38;5;28;01mreturn\u001b[39;00m ax\n",
      "File \u001b[1;32m~\\anaconda3\\lib\\site-packages\\seaborn\\categorical.py:1639\u001b[0m, in \u001b[0;36m_BarPlotter.plot\u001b[1;34m(self, ax, bar_kws)\u001b[0m\n\u001b[0;32m   1637\u001b[0m \u001b[38;5;28;01mdef\u001b[39;00m \u001b[38;5;21mplot\u001b[39m(\u001b[38;5;28mself\u001b[39m, ax, bar_kws):\n\u001b[0;32m   1638\u001b[0m \u001b[38;5;250m    \u001b[39m\u001b[38;5;124;03m\"\"\"Make the plot.\"\"\"\u001b[39;00m\n\u001b[1;32m-> 1639\u001b[0m     \u001b[38;5;28;43mself\u001b[39;49m\u001b[38;5;241;43m.\u001b[39;49m\u001b[43mdraw_bars\u001b[49m\u001b[43m(\u001b[49m\u001b[43max\u001b[49m\u001b[43m,\u001b[49m\u001b[43m \u001b[49m\u001b[43mbar_kws\u001b[49m\u001b[43m)\u001b[49m\n\u001b[0;32m   1640\u001b[0m     \u001b[38;5;28mself\u001b[39m\u001b[38;5;241m.\u001b[39mannotate_axes(ax)\n\u001b[0;32m   1641\u001b[0m     \u001b[38;5;28;01mif\u001b[39;00m \u001b[38;5;28mself\u001b[39m\u001b[38;5;241m.\u001b[39morient \u001b[38;5;241m==\u001b[39m \u001b[38;5;124m\"\u001b[39m\u001b[38;5;124mh\u001b[39m\u001b[38;5;124m\"\u001b[39m:\n",
      "File \u001b[1;32m~\\anaconda3\\lib\\site-packages\\seaborn\\categorical.py:1604\u001b[0m, in \u001b[0;36m_BarPlotter.draw_bars\u001b[1;34m(self, ax, kws)\u001b[0m\n\u001b[0;32m   1599\u001b[0m barpos \u001b[38;5;241m=\u001b[39m np\u001b[38;5;241m.\u001b[39marange(\u001b[38;5;28mlen\u001b[39m(\u001b[38;5;28mself\u001b[39m\u001b[38;5;241m.\u001b[39mstatistic))\n\u001b[0;32m   1601\u001b[0m \u001b[38;5;28;01mif\u001b[39;00m \u001b[38;5;28mself\u001b[39m\u001b[38;5;241m.\u001b[39mplot_hues \u001b[38;5;129;01mis\u001b[39;00m \u001b[38;5;28;01mNone\u001b[39;00m:\n\u001b[0;32m   1602\u001b[0m \n\u001b[0;32m   1603\u001b[0m     \u001b[38;5;66;03m# Draw the bars\u001b[39;00m\n\u001b[1;32m-> 1604\u001b[0m     barfunc(barpos, \u001b[38;5;28mself\u001b[39m\u001b[38;5;241m.\u001b[39mstatistic, \u001b[38;5;28mself\u001b[39m\u001b[38;5;241m.\u001b[39mwidth,\n\u001b[0;32m   1605\u001b[0m             color\u001b[38;5;241m=\u001b[39m\u001b[38;5;28mself\u001b[39m\u001b[38;5;241m.\u001b[39mcolors, align\u001b[38;5;241m=\u001b[39m\u001b[38;5;124m\"\u001b[39m\u001b[38;5;124mcenter\u001b[39m\u001b[38;5;124m\"\u001b[39m, \u001b[38;5;241m*\u001b[39m\u001b[38;5;241m*\u001b[39mkws)\n\u001b[0;32m   1607\u001b[0m     \u001b[38;5;66;03m# Draw the confidence intervals\u001b[39;00m\n\u001b[0;32m   1608\u001b[0m     errcolors \u001b[38;5;241m=\u001b[39m [\u001b[38;5;28mself\u001b[39m\u001b[38;5;241m.\u001b[39merrcolor] \u001b[38;5;241m*\u001b[39m \u001b[38;5;28mlen\u001b[39m(barpos)\n",
      "File \u001b[1;32m~\\anaconda3\\lib\\site-packages\\matplotlib\\__init__.py:1412\u001b[0m, in \u001b[0;36m_preprocess_data.<locals>.inner\u001b[1;34m(ax, data, *args, **kwargs)\u001b[0m\n\u001b[0;32m   1409\u001b[0m \u001b[38;5;129m@functools\u001b[39m\u001b[38;5;241m.\u001b[39mwraps(func)\n\u001b[0;32m   1410\u001b[0m \u001b[38;5;28;01mdef\u001b[39;00m \u001b[38;5;21minner\u001b[39m(ax, \u001b[38;5;241m*\u001b[39margs, data\u001b[38;5;241m=\u001b[39m\u001b[38;5;28;01mNone\u001b[39;00m, \u001b[38;5;241m*\u001b[39m\u001b[38;5;241m*\u001b[39mkwargs):\n\u001b[0;32m   1411\u001b[0m     \u001b[38;5;28;01mif\u001b[39;00m data \u001b[38;5;129;01mis\u001b[39;00m \u001b[38;5;28;01mNone\u001b[39;00m:\n\u001b[1;32m-> 1412\u001b[0m         \u001b[38;5;28;01mreturn\u001b[39;00m func(ax, \u001b[38;5;241m*\u001b[39m\u001b[38;5;28mmap\u001b[39m(sanitize_sequence, args), \u001b[38;5;241m*\u001b[39m\u001b[38;5;241m*\u001b[39mkwargs)\n\u001b[0;32m   1414\u001b[0m     bound \u001b[38;5;241m=\u001b[39m new_sig\u001b[38;5;241m.\u001b[39mbind(ax, \u001b[38;5;241m*\u001b[39margs, \u001b[38;5;241m*\u001b[39m\u001b[38;5;241m*\u001b[39mkwargs)\n\u001b[0;32m   1415\u001b[0m     auto_label \u001b[38;5;241m=\u001b[39m (bound\u001b[38;5;241m.\u001b[39marguments\u001b[38;5;241m.\u001b[39mget(label_namer)\n\u001b[0;32m   1416\u001b[0m                   \u001b[38;5;129;01mor\u001b[39;00m bound\u001b[38;5;241m.\u001b[39mkwargs\u001b[38;5;241m.\u001b[39mget(label_namer))\n",
      "\u001b[1;31mTypeError\u001b[0m: bar() got multiple values for argument 'width'"
     ]
    },
    {
     "data": {
      "image/png": "[encoded data removed]",
      "text/plain": [
       "<Figure size 1440x1080 with 1 Axes>"
      ]
     },
     "metadata": {
      "needs_background": "light"
     },
     "output_type": "display_data"
    }
   ],
   "source": [
    "# ★\n",
    "plt.figure(figsize=(20,15))\n",
    "p=sns.barplot(data=bunsan,width=0.7)\n",
    "p.set_title(\"各クラス分散\",size=22)\n",
    "p.set_xlabel(\"クラス\",fontsize=17)\n",
    "p.set_ylabel(\"分散合計\",fontsize=16,rotation=0,labelpad=30)\n",
    "p.tick_params(labelsize=14)\n",
    "# plt.xticks(['JAVA_2月', 'WD開発基礎', 'Webアプリ', 'JAVA_1月', 'webデザイナー実践', 'クラウド','グラフィック', '未経験からめざせるWeb制作+動画', '三宮web動画HP','三)webクリ12月', '三宮webクリエーター1月','三宮グラフィック・Webデザイナー1月', '三宮webデザイン・プログラミング','三宮web更新', '三宮webクリエーター3月', '三宮Web動画HP','三宮実践Java+Pythonプログラマー養成4月'])\n",
    "plt.xticks(rotation=90)\n",
    "plt.rcParams[\"font.size\"] = 7\n",
    "plt.savefig('/content/drive/MyDrive/Colab Notebooks/bunsan_.png')\n"
   ]
  },
  {
   "cell_type": "code",
   "execution_count": null,
   "metadata": {
    "id": "t9Uhn8BEwOfC"
   },
   "outputs": [],
   "source": [
    "# plt.bar()"
   ]
  },
  {
   "cell_type": "code",
   "execution_count": null,
   "metadata": {
    "colab": {
     "base_uri": "https://localhost:8080/",
     "height": 1000
    },
    "id": "0cgLMyVFzuYo",
    "outputId": "9c384d37-3e41-4a3b-9e57-e8676b7bfc53"
   },
   "outputs": [],
   "source": [
    "df.head(3)"
   ]
  },
  {
   "cell_type": "code",
   "execution_count": 33,
   "metadata": {
    "colab": {
     "base_uri": "https://localhost:8080/"
    },
    "id": "bYVltnf0zufD",
    "outputId": "470442bf-a548-4466-beff-b406eb337108"
   },
   "outputs": [
    {
     "data": {
      "text/plain": [
       "['JAVA_2月',\n",
       " 'WD開発基礎',\n",
       " 'Webアプリ',\n",
       " 'JAVA_1月',\n",
       " 'webデザイナー実践',\n",
       " 'クラウド',\n",
       " 'グラフィック',\n",
       " '未経験からめざせるWeb制作+動画',\n",
       " '三宮web動画HP',\n",
       " '三宮webクリエーター12月',\n",
       " '三宮webクリエーター1月',\n",
       " '三宮グラフィック・Webデザイナー1月',\n",
       " '三宮webデザイン・プログラミング',\n",
       " '三宮web更新',\n",
       " '三宮webクリエーター3月',\n",
       " '三宮Web動画HP',\n",
       " '三宮実践Java+Pythonプログラマー養成4月']"
      ]
     },
     "execution_count": 33,
     "metadata": {},
     "output_type": "execute_result"
    }
   ],
   "source": [
    "order =[\"していない\", \"自己分析\",\"応募書類の作成\",\"応募先の探索\",\"エントリー\",\"面接\",\"内定\"]\n",
    "a=[\"class\",\"Q8\"]\n",
    "df_g = df.loc[:,a]\n",
    "df_g[\"Q8\"].fillna(\"していない\",inplace=True)\n",
    "clas"
   ]
  },
  {
   "cell_type": "code",
   "execution_count": 34,
   "metadata": {
    "colab": {
     "base_uri": "https://localhost:8080/"
    },
    "id": "ppH8nJnn0OLZ",
    "outputId": "356a5488-9653-470b-a75a-12678f187fd8"
   },
   "outputs": [
    {
     "data": {
      "text/plain": [
       "class    0\n",
       "Q8       0\n",
       "dtype: int64"
      ]
     },
     "execution_count": 34,
     "metadata": {},
     "output_type": "execute_result"
    }
   ],
   "source": [
    "df_g.isnull().sum()"
   ]
  },
  {
   "cell_type": "code",
   "execution_count": 35,
   "metadata": {
    "colab": {
     "base_uri": "https://localhost:8080/"
    },
    "id": "lZsKZUL05J_y",
    "outputId": "01102681-803b-4c35-a668-dd345a80bd3d"
   },
   "outputs": [
    {
     "data": {
      "text/plain": [
       "<bound method Series.unique of 0      応募書類の作成\n",
       "1       応募先の探索\n",
       "2       応募先の探索\n",
       "3        エントリー\n",
       "4       応募先の探索\n",
       "        ...   \n",
       "243      していない\n",
       "244     応募先の探索\n",
       "245     応募先の探索\n",
       "246      していない\n",
       "247     応募先の探索\n",
       "Name: Q8, Length: 248, dtype: object>"
      ]
     },
     "execution_count": 35,
     "metadata": {},
     "output_type": "execute_result"
    }
   ],
   "source": [
    "df_g[\"Q8\"].unique"
   ]
  },
  {
   "cell_type": "code",
   "execution_count": 36,
   "metadata": {
    "colab": {
     "base_uri": "https://localhost:8080/",
     "height": 636
    },
    "id": "EDvCRyDO0QC2",
    "outputId": "95b3c0d4-4952-4988-8dd7-ace68f2915b2"
   },
   "outputs": [
    {
     "data": {
      "image/png": "[encoded data removed]",
      "text/plain": [
       "<Figure size 936x504 with 1 Axes>"
      ]
     },
     "metadata": {
      "needs_background": "light"
     },
     "output_type": "display_data"
    }
   ],
   "source": [
    "plt.figure(figsize=(13,7))\n",
    "p=sns.countplot(data=df_g,x=df_g[\"Q8\"],order=order)\n",
    "p.set_title(\"図１\",size=22)\n",
    "p.set_xlabel(\"就職活動ステージ\",fontsize=17)\n",
    "p.set_ylabel(\"人数\",fontsize=17,rotation=0,labelpad=20)\n",
    "p.tick_params(labelsize=14)\n",
    "\n"
   ]
  },
  {
   "cell_type": "code",
   "execution_count": 37,
   "metadata": {
    "id": "fKKbLW3u9Xs8"
   },
   "outputs": [],
   "source": [
    "clas = ['JAVA_2月', 'WD開発基礎', 'Webアプリ', 'JAVA_1月', 'webデザイナー実践', 'クラウド',\n",
    "        'グラフィック', '未経験からめざせるWeb制作+動画', '三宮web動画HP',\n",
    "        '三宮webクリエーター12月', '三宮webクリエーター1月',\n",
    "        '三宮グラフィック・Webデザイナー1月', '三宮webデザイン・プログラミング',\n",
    "        '三宮web更新', '三宮webクリエーター3月', '三宮Web動画HP',\n",
    "        '三宮実践Java+Pythonプログラマー養成4月']\n",
    "def figure(x):\n",
    "  data = df_g.loc[df_g[\"class\"]==clas[x],:]\n",
    "  plt.figure(figsize=(13,7))\n",
    "  p=sns.countplot(data=data,x=data[\"Q8\"],order=order)\n",
    "  p.set_title(clas[x],size=22)\n",
    "  p.set_xlabel(\"就職活動ステージ\",fontsize=17)\n",
    "  p.set_ylabel(\"人数\",fontsize=17,rotation=0,labelpad=20)\n",
    "  p.tick_params(labelsize=14)\n",
    "  plt.savefig('/content/drive/MyDrive/Colab Notebooks/kurasu{}.png'.format(x))\n",
    "  "
   ]
  },
  {
   "cell_type": "code",
   "execution_count": 38,
   "metadata": {
    "colab": {
     "base_uri": "https://localhost:8080/",
     "height": 643
    },
    "id": "ie8SJN1ZL4Ek",
    "outputId": "abc8241f-fd86-4eb9-d698-7afbba8c45b0"
   },
   "outputs": [
    {
     "ename": "FileNotFoundError",
     "evalue": "[Errno 2] No such file or directory: '/content/drive/MyDrive/Colab Notebooks/kurasu1.png'",
     "output_type": "error",
     "traceback": [
      "\u001b[1;31m---------------------------------------------------------------------------\u001b[0m",
      "\u001b[1;31mFileNotFoundError\u001b[0m                         Traceback (most recent call last)",
      "Input \u001b[1;32mIn [38]\u001b[0m, in \u001b[0;36m<cell line: 2>\u001b[1;34m()\u001b[0m\n\u001b[0;32m      1\u001b[0m \u001b[38;5;66;03m# ★\u001b[39;00m\n\u001b[1;32m----> 2\u001b[0m \u001b[43mfigure\u001b[49m\u001b[43m(\u001b[49m\u001b[38;5;241;43m1\u001b[39;49m\u001b[43m)\u001b[49m\n\u001b[0;32m      3\u001b[0m plt\u001b[38;5;241m.\u001b[39msavefig(\u001b[38;5;124m'\u001b[39m\u001b[38;5;124m/content/drive/MyDrive/Colab Notebooks/stage_whole.png\u001b[39m\u001b[38;5;124m'\u001b[39m)\n",
      "Input \u001b[1;32mIn [37]\u001b[0m, in \u001b[0;36mfigure\u001b[1;34m(x)\u001b[0m\n\u001b[0;32m     13\u001b[0m p\u001b[38;5;241m.\u001b[39mset_ylabel(\u001b[38;5;124m\"\u001b[39m\u001b[38;5;124m人数\u001b[39m\u001b[38;5;124m\"\u001b[39m,fontsize\u001b[38;5;241m=\u001b[39m\u001b[38;5;241m17\u001b[39m,rotation\u001b[38;5;241m=\u001b[39m\u001b[38;5;241m0\u001b[39m,labelpad\u001b[38;5;241m=\u001b[39m\u001b[38;5;241m20\u001b[39m)\n\u001b[0;32m     14\u001b[0m p\u001b[38;5;241m.\u001b[39mtick_params(labelsize\u001b[38;5;241m=\u001b[39m\u001b[38;5;241m14\u001b[39m)\n\u001b[1;32m---> 15\u001b[0m \u001b[43mplt\u001b[49m\u001b[38;5;241;43m.\u001b[39;49m\u001b[43msavefig\u001b[49m\u001b[43m(\u001b[49m\u001b[38;5;124;43m'\u001b[39;49m\u001b[38;5;124;43m/content/drive/MyDrive/Colab Notebooks/kurasu\u001b[39;49m\u001b[38;5;132;43;01m{}\u001b[39;49;00m\u001b[38;5;124;43m.png\u001b[39;49m\u001b[38;5;124;43m'\u001b[39;49m\u001b[38;5;241;43m.\u001b[39;49m\u001b[43mformat\u001b[49m\u001b[43m(\u001b[49m\u001b[43mx\u001b[49m\u001b[43m)\u001b[49m\u001b[43m)\u001b[49m\n",
      "File \u001b[1;32m~\\anaconda3\\lib\\site-packages\\matplotlib\\pyplot.py:958\u001b[0m, in \u001b[0;36msavefig\u001b[1;34m(*args, **kwargs)\u001b[0m\n\u001b[0;32m    955\u001b[0m \u001b[38;5;129m@_copy_docstring_and_deprecators\u001b[39m(Figure\u001b[38;5;241m.\u001b[39msavefig)\n\u001b[0;32m    956\u001b[0m \u001b[38;5;28;01mdef\u001b[39;00m \u001b[38;5;21msavefig\u001b[39m(\u001b[38;5;241m*\u001b[39margs, \u001b[38;5;241m*\u001b[39m\u001b[38;5;241m*\u001b[39mkwargs):\n\u001b[0;32m    957\u001b[0m     fig \u001b[38;5;241m=\u001b[39m gcf()\n\u001b[1;32m--> 958\u001b[0m     res \u001b[38;5;241m=\u001b[39m fig\u001b[38;5;241m.\u001b[39msavefig(\u001b[38;5;241m*\u001b[39margs, \u001b[38;5;241m*\u001b[39m\u001b[38;5;241m*\u001b[39mkwargs)\n\u001b[0;32m    959\u001b[0m     fig\u001b[38;5;241m.\u001b[39mcanvas\u001b[38;5;241m.\u001b[39mdraw_idle()   \u001b[38;5;66;03m# need this if 'transparent=True' to reset colors\u001b[39;00m\n\u001b[0;32m    960\u001b[0m     \u001b[38;5;28;01mreturn\u001b[39;00m res\n",
      "File \u001b[1;32m~\\anaconda3\\lib\\site-packages\\matplotlib\\figure.py:3019\u001b[0m, in \u001b[0;36mFigure.savefig\u001b[1;34m(self, fname, transparent, **kwargs)\u001b[0m\n\u001b[0;32m   3015\u001b[0m     \u001b[38;5;28;01mfor\u001b[39;00m ax \u001b[38;5;129;01min\u001b[39;00m \u001b[38;5;28mself\u001b[39m\u001b[38;5;241m.\u001b[39maxes:\n\u001b[0;32m   3016\u001b[0m         stack\u001b[38;5;241m.\u001b[39menter_context(\n\u001b[0;32m   3017\u001b[0m             ax\u001b[38;5;241m.\u001b[39mpatch\u001b[38;5;241m.\u001b[39m_cm_set(facecolor\u001b[38;5;241m=\u001b[39m\u001b[38;5;124m'\u001b[39m\u001b[38;5;124mnone\u001b[39m\u001b[38;5;124m'\u001b[39m, edgecolor\u001b[38;5;241m=\u001b[39m\u001b[38;5;124m'\u001b[39m\u001b[38;5;124mnone\u001b[39m\u001b[38;5;124m'\u001b[39m))\n\u001b[1;32m-> 3019\u001b[0m \u001b[38;5;28mself\u001b[39m\u001b[38;5;241m.\u001b[39mcanvas\u001b[38;5;241m.\u001b[39mprint_figure(fname, \u001b[38;5;241m*\u001b[39m\u001b[38;5;241m*\u001b[39mkwargs)\n",
      "File \u001b[1;32m~\\anaconda3\\lib\\site-packages\\matplotlib\\backend_bases.py:2319\u001b[0m, in \u001b[0;36mFigureCanvasBase.print_figure\u001b[1;34m(self, filename, dpi, facecolor, edgecolor, orientation, format, bbox_inches, pad_inches, bbox_extra_artists, backend, **kwargs)\u001b[0m\n\u001b[0;32m   2315\u001b[0m \u001b[38;5;28;01mtry\u001b[39;00m:\n\u001b[0;32m   2316\u001b[0m     \u001b[38;5;66;03m# _get_renderer may change the figure dpi (as vector formats\u001b[39;00m\n\u001b[0;32m   2317\u001b[0m     \u001b[38;5;66;03m# force the figure dpi to 72), so we need to set it again here.\u001b[39;00m\n\u001b[0;32m   2318\u001b[0m     \u001b[38;5;28;01mwith\u001b[39;00m cbook\u001b[38;5;241m.\u001b[39m_setattr_cm(\u001b[38;5;28mself\u001b[39m\u001b[38;5;241m.\u001b[39mfigure, dpi\u001b[38;5;241m=\u001b[39mdpi):\n\u001b[1;32m-> 2319\u001b[0m         result \u001b[38;5;241m=\u001b[39m print_method(\n\u001b[0;32m   2320\u001b[0m             filename,\n\u001b[0;32m   2321\u001b[0m             facecolor\u001b[38;5;241m=\u001b[39mfacecolor,\n\u001b[0;32m   2322\u001b[0m             edgecolor\u001b[38;5;241m=\u001b[39medgecolor,\n\u001b[0;32m   2323\u001b[0m             orientation\u001b[38;5;241m=\u001b[39morientation,\n\u001b[0;32m   2324\u001b[0m             bbox_inches_restore\u001b[38;5;241m=\u001b[39m_bbox_inches_restore,\n\u001b[0;32m   2325\u001b[0m             \u001b[38;5;241m*\u001b[39m\u001b[38;5;241m*\u001b[39mkwargs)\n\u001b[0;32m   2326\u001b[0m \u001b[38;5;28;01mfinally\u001b[39;00m:\n\u001b[0;32m   2327\u001b[0m     \u001b[38;5;28;01mif\u001b[39;00m bbox_inches \u001b[38;5;129;01mand\u001b[39;00m restore_bbox:\n",
      "File \u001b[1;32m~\\anaconda3\\lib\\site-packages\\matplotlib\\backend_bases.py:1648\u001b[0m, in \u001b[0;36m_check_savefig_extra_args.<locals>.wrapper\u001b[1;34m(*args, **kwargs)\u001b[0m\n\u001b[0;32m   1640\u001b[0m     _api\u001b[38;5;241m.\u001b[39mwarn_deprecated(\n\u001b[0;32m   1641\u001b[0m         \u001b[38;5;124m'\u001b[39m\u001b[38;5;124m3.3\u001b[39m\u001b[38;5;124m'\u001b[39m, name\u001b[38;5;241m=\u001b[39mname, removal\u001b[38;5;241m=\u001b[39m\u001b[38;5;124m'\u001b[39m\u001b[38;5;124m3.6\u001b[39m\u001b[38;5;124m'\u001b[39m,\n\u001b[0;32m   1642\u001b[0m         message\u001b[38;5;241m=\u001b[39m\u001b[38;5;124m'\u001b[39m\u001b[38;5;132;01m%(name)s\u001b[39;00m\u001b[38;5;124m() got unexpected keyword argument \u001b[39m\u001b[38;5;124m\"\u001b[39m\u001b[38;5;124m'\u001b[39m\n\u001b[0;32m   1643\u001b[0m                 \u001b[38;5;241m+\u001b[39m arg \u001b[38;5;241m+\u001b[39m \u001b[38;5;124m'\u001b[39m\u001b[38;5;124m\"\u001b[39m\u001b[38;5;124m which is no longer supported as of \u001b[39m\u001b[38;5;124m'\u001b[39m\n\u001b[0;32m   1644\u001b[0m                 \u001b[38;5;124m'\u001b[39m\u001b[38;5;132;01m%(since)s\u001b[39;00m\u001b[38;5;124m and will become an error \u001b[39m\u001b[38;5;124m'\u001b[39m\n\u001b[0;32m   1645\u001b[0m                 \u001b[38;5;124m'\u001b[39m\u001b[38;5;132;01m%(removal)s\u001b[39;00m\u001b[38;5;124m'\u001b[39m)\n\u001b[0;32m   1646\u001b[0m     kwargs\u001b[38;5;241m.\u001b[39mpop(arg)\n\u001b[1;32m-> 1648\u001b[0m \u001b[38;5;28;01mreturn\u001b[39;00m func(\u001b[38;5;241m*\u001b[39margs, \u001b[38;5;241m*\u001b[39m\u001b[38;5;241m*\u001b[39mkwargs)\n",
      "File \u001b[1;32m~\\anaconda3\\lib\\site-packages\\matplotlib\\_api\\deprecation.py:412\u001b[0m, in \u001b[0;36mdelete_parameter.<locals>.wrapper\u001b[1;34m(*inner_args, **inner_kwargs)\u001b[0m\n\u001b[0;32m    402\u001b[0m     deprecation_addendum \u001b[38;5;241m=\u001b[39m (\n\u001b[0;32m    403\u001b[0m         \u001b[38;5;124mf\u001b[39m\u001b[38;5;124m\"\u001b[39m\u001b[38;5;124mIf any parameter follows \u001b[39m\u001b[38;5;132;01m{\u001b[39;00mname\u001b[38;5;132;01m!r}\u001b[39;00m\u001b[38;5;124m, they should be passed as \u001b[39m\u001b[38;5;124m\"\u001b[39m\n\u001b[0;32m    404\u001b[0m         \u001b[38;5;124mf\u001b[39m\u001b[38;5;124m\"\u001b[39m\u001b[38;5;124mkeyword, not positionally.\u001b[39m\u001b[38;5;124m\"\u001b[39m)\n\u001b[0;32m    405\u001b[0m     warn_deprecated(\n\u001b[0;32m    406\u001b[0m         since,\n\u001b[0;32m    407\u001b[0m         name\u001b[38;5;241m=\u001b[39m\u001b[38;5;28mrepr\u001b[39m(name),\n\u001b[1;32m   (...)\u001b[0m\n\u001b[0;32m    410\u001b[0m                  \u001b[38;5;28;01melse\u001b[39;00m deprecation_addendum,\n\u001b[0;32m    411\u001b[0m         \u001b[38;5;241m*\u001b[39m\u001b[38;5;241m*\u001b[39mkwargs)\n\u001b[1;32m--> 412\u001b[0m \u001b[38;5;28;01mreturn\u001b[39;00m func(\u001b[38;5;241m*\u001b[39minner_args, \u001b[38;5;241m*\u001b[39m\u001b[38;5;241m*\u001b[39minner_kwargs)\n",
      "File \u001b[1;32m~\\anaconda3\\lib\\site-packages\\matplotlib\\backends\\backend_agg.py:541\u001b[0m, in \u001b[0;36mFigureCanvasAgg.print_png\u001b[1;34m(self, filename_or_obj, metadata, pil_kwargs, *args)\u001b[0m\n\u001b[0;32m    494\u001b[0m \u001b[38;5;250m\u001b[39m\u001b[38;5;124;03m\"\"\"\u001b[39;00m\n\u001b[0;32m    495\u001b[0m \u001b[38;5;124;03mWrite the figure to a PNG file.\u001b[39;00m\n\u001b[0;32m    496\u001b[0m \n\u001b[1;32m   (...)\u001b[0m\n\u001b[0;32m    538\u001b[0m \u001b[38;5;124;03m    *metadata*, including the default 'Software' key.\u001b[39;00m\n\u001b[0;32m    539\u001b[0m \u001b[38;5;124;03m\"\"\"\u001b[39;00m\n\u001b[0;32m    540\u001b[0m FigureCanvasAgg\u001b[38;5;241m.\u001b[39mdraw(\u001b[38;5;28mself\u001b[39m)\n\u001b[1;32m--> 541\u001b[0m \u001b[43mmpl\u001b[49m\u001b[38;5;241;43m.\u001b[39;49m\u001b[43mimage\u001b[49m\u001b[38;5;241;43m.\u001b[39;49m\u001b[43mimsave\u001b[49m\u001b[43m(\u001b[49m\n\u001b[0;32m    542\u001b[0m \u001b[43m    \u001b[49m\u001b[43mfilename_or_obj\u001b[49m\u001b[43m,\u001b[49m\u001b[43m \u001b[49m\u001b[38;5;28;43mself\u001b[39;49m\u001b[38;5;241;43m.\u001b[39;49m\u001b[43mbuffer_rgba\u001b[49m\u001b[43m(\u001b[49m\u001b[43m)\u001b[49m\u001b[43m,\u001b[49m\u001b[43m \u001b[49m\u001b[38;5;28;43mformat\u001b[39;49m\u001b[38;5;241;43m=\u001b[39;49m\u001b[38;5;124;43m\"\u001b[39;49m\u001b[38;5;124;43mpng\u001b[39;49m\u001b[38;5;124;43m\"\u001b[39;49m\u001b[43m,\u001b[49m\u001b[43m \u001b[49m\u001b[43morigin\u001b[49m\u001b[38;5;241;43m=\u001b[39;49m\u001b[38;5;124;43m\"\u001b[39;49m\u001b[38;5;124;43mupper\u001b[39;49m\u001b[38;5;124;43m\"\u001b[39;49m\u001b[43m,\u001b[49m\n\u001b[0;32m    543\u001b[0m \u001b[43m    \u001b[49m\u001b[43mdpi\u001b[49m\u001b[38;5;241;43m=\u001b[39;49m\u001b[38;5;28;43mself\u001b[39;49m\u001b[38;5;241;43m.\u001b[39;49m\u001b[43mfigure\u001b[49m\u001b[38;5;241;43m.\u001b[39;49m\u001b[43mdpi\u001b[49m\u001b[43m,\u001b[49m\u001b[43m \u001b[49m\u001b[43mmetadata\u001b[49m\u001b[38;5;241;43m=\u001b[39;49m\u001b[43mmetadata\u001b[49m\u001b[43m,\u001b[49m\u001b[43m \u001b[49m\u001b[43mpil_kwargs\u001b[49m\u001b[38;5;241;43m=\u001b[39;49m\u001b[43mpil_kwargs\u001b[49m\u001b[43m)\u001b[49m\n",
      "File \u001b[1;32m~\\anaconda3\\lib\\site-packages\\matplotlib\\image.py:1675\u001b[0m, in \u001b[0;36mimsave\u001b[1;34m(fname, arr, vmin, vmax, cmap, format, origin, dpi, metadata, pil_kwargs)\u001b[0m\n\u001b[0;32m   1673\u001b[0m pil_kwargs\u001b[38;5;241m.\u001b[39msetdefault(\u001b[38;5;124m\"\u001b[39m\u001b[38;5;124mformat\u001b[39m\u001b[38;5;124m\"\u001b[39m, \u001b[38;5;28mformat\u001b[39m)\n\u001b[0;32m   1674\u001b[0m pil_kwargs\u001b[38;5;241m.\u001b[39msetdefault(\u001b[38;5;124m\"\u001b[39m\u001b[38;5;124mdpi\u001b[39m\u001b[38;5;124m\"\u001b[39m, (dpi, dpi))\n\u001b[1;32m-> 1675\u001b[0m image\u001b[38;5;241m.\u001b[39msave(fname, \u001b[38;5;241m*\u001b[39m\u001b[38;5;241m*\u001b[39mpil_kwargs)\n",
      "File \u001b[1;32m~\\anaconda3\\lib\\site-packages\\PIL\\Image.py:2209\u001b[0m, in \u001b[0;36mImage.save\u001b[1;34m(self, fp, format, **params)\u001b[0m\n\u001b[0;32m   2207\u001b[0m         fp \u001b[38;5;241m=\u001b[39m builtins\u001b[38;5;241m.\u001b[39mopen(filename, \u001b[38;5;124m\"\u001b[39m\u001b[38;5;124mr+b\u001b[39m\u001b[38;5;124m\"\u001b[39m)\n\u001b[0;32m   2208\u001b[0m     \u001b[38;5;28;01melse\u001b[39;00m:\n\u001b[1;32m-> 2209\u001b[0m         fp \u001b[38;5;241m=\u001b[39m \u001b[43mbuiltins\u001b[49m\u001b[38;5;241;43m.\u001b[39;49m\u001b[43mopen\u001b[49m\u001b[43m(\u001b[49m\u001b[43mfilename\u001b[49m\u001b[43m,\u001b[49m\u001b[43m \u001b[49m\u001b[38;5;124;43m\"\u001b[39;49m\u001b[38;5;124;43mw+b\u001b[39;49m\u001b[38;5;124;43m\"\u001b[39;49m\u001b[43m)\u001b[49m\n\u001b[0;32m   2211\u001b[0m \u001b[38;5;28;01mtry\u001b[39;00m:\n\u001b[0;32m   2212\u001b[0m     save_handler(\u001b[38;5;28mself\u001b[39m, fp, filename)\n",
      "\u001b[1;31mFileNotFoundError\u001b[0m: [Errno 2] No such file or directory: '/content/drive/MyDrive/Colab Notebooks/kurasu1.png'"
     ]
    },
    {
     "data": {
      "image/png": "[encoded data removed]",
      "text/plain": [
       "<Figure size 936x504 with 1 Axes>"
      ]
     },
     "metadata": {
      "needs_background": "light"
     },
     "output_type": "display_data"
    }
   ],
   "source": [
    "# ★\n",
    "figure(1)\n",
    "plt.savefig('/content/drive/MyDrive/Colab Notebooks/stage_whole.png')"
   ]
  },
  {
   "cell_type": "code",
   "execution_count": null,
   "metadata": {
    "colab": {
     "base_uri": "https://localhost:8080/",
     "height": 1000
    },
    "id": "XQqDgBz0Z3VT",
    "outputId": "b447cee1-a9fa-42c7-c033-ad760e9c02c5"
   },
   "outputs": [],
   "source": [
    "# ★\n",
    "for i in range(0,17):\n",
    "  figure(i)"
   ]
  },
  {
   "cell_type": "code",
   "execution_count": null,
   "metadata": {
    "colab": {
     "base_uri": "https://localhost:8080/"
    },
    "id": "r7RtlG372LRY",
    "outputId": "c91c21fd-730b-445a-d0fc-6957fdabd705"
   },
   "outputs": [],
   "source": [
    "#  = df_g.loc[(df_g[\"class\"]=='JAVA_2月')]\n",
    "#  x=x[\"Q8\"].unique（）\n",
    "print(\"/jfkokjo/jojkl{}.png\".format(1))"
   ]
  },
  {
   "cell_type": "code",
   "execution_count": 39,
   "metadata": {
    "colab": {
     "base_uri": "https://localhost:8080/"
    },
    "id": "VF920tghQSDK",
    "outputId": "2581f331-8eae-4d06-a952-1ecb8a56d12b"
   },
   "outputs": [
    {
     "data": {
      "text/plain": [
       "class    0\n",
       "Q8       0\n",
       "dtype: int64"
      ]
     },
     "execution_count": 39,
     "metadata": {},
     "output_type": "execute_result"
    }
   ],
   "source": [
    "df_g.isnull().sum()"
   ]
  },
  {
   "cell_type": "code",
   "execution_count": 40,
   "metadata": {
    "colab": {
     "base_uri": "https://localhost:8080/"
    },
    "id": "LsLifyFaF67F",
    "outputId": "8f76f638-bab2-448d-f25d-9beb5ded7028"
   },
   "outputs": [
    {
     "data": {
      "text/plain": [
       "array(['応募書類の作成', '応募先の探索', 'エントリー', '面接', '自己分析', 'していない', '内定'],\n",
       "      dtype=object)"
      ]
     },
     "execution_count": 40,
     "metadata": {},
     "output_type": "execute_result"
    }
   ],
   "source": [
    "df_g[\"Q8\"].unique()"
   ]
  },
  {
   "cell_type": "code",
   "execution_count": 43,
   "metadata": {
    "id": "qYepWLOdhFMZ"
   },
   "outputs": [],
   "source": [
    "df_g[\"stage\"] = [0 if x==\"していない\" else 1 if x==\"自己分析\" else 2 if x==\"応募書類の作成\" else 3 if x ==\"応募先の探索\" else 4 if x==\"エントリー\" else 5 if x==\"面接\" else 6 for x in df_g[\"Q8\"]]"
   ]
  },
  {
   "cell_type": "code",
   "execution_count": null,
   "metadata": {
    "id": "FkSZUnc_RPKS"
   },
   "outputs": [],
   "source": []
  },
  {
   "cell_type": "code",
   "execution_count": 44,
   "metadata": {
    "id": "P9xW4oM3jdlD"
   },
   "outputs": [],
   "source": [
    "m = []\n",
    "for i in range(0,17):\n",
    "  data = df_g.loc[df_g[\"class\"]==clas[i],:]\n",
    "  x = round(data[\"stage\"].mean(),3)\n",
    "  m.append(x)"
   ]
  },
  {
   "cell_type": "code",
   "execution_count": 45,
   "metadata": {
    "colab": {
     "base_uri": "https://localhost:8080/"
    },
    "id": "KOPhtufkGyID",
    "outputId": "6d962739-99c4-45a5-835a-684beeb8a320"
   },
   "outputs": [
    {
     "data": {
      "text/plain": [
       "[3.0,\n",
       " 2.84,\n",
       " 3.167,\n",
       " 4.375,\n",
       " 3.25,\n",
       " 3.889,\n",
       " 2.833,\n",
       " 3.6,\n",
       " 4.154,\n",
       " 5.0,\n",
       " 3.615,\n",
       " 3.077,\n",
       " 3.0,\n",
       " 2.316,\n",
       " 2.167,\n",
       " 1.762,\n",
       " 1.667]"
      ]
     },
     "execution_count": 45,
     "metadata": {},
     "output_type": "execute_result"
    }
   ],
   "source": [
    "m"
   ]
  },
  {
   "cell_type": "code",
   "execution_count": 46,
   "metadata": {
    "id": "-c1U482GGyyc"
   },
   "outputs": [],
   "source": [
    "shukatu = pd.DataFrame(m)\n",
    "shukatu.index = labels\n",
    "#columns=clas\n",
    "shukatu_t = shukatu.T"
   ]
  },
  {
   "cell_type": "code",
   "execution_count": 47,
   "metadata": {
    "id": "kPuFwRezG_BL"
   },
   "outputs": [],
   "source": [
    "shukatu.rename(columns={0:\"shukatu\"},inplace=True)"
   ]
  },
  {
   "cell_type": "code",
   "execution_count": 48,
   "metadata": {
    "id": "20GJoIFdHfVd"
   },
   "outputs": [],
   "source": [
    "shukatu[\"bunsan\"] = b_sum"
   ]
  },
  {
   "cell_type": "code",
   "execution_count": 49,
   "metadata": {
    "colab": {
     "base_uri": "https://localhost:8080/",
     "height": 582
    },
    "id": "WaZqu1G6Img2",
    "outputId": "aa50672b-6525-4fa5-f91e-0cd145077163"
   },
   "outputs": [
    {
     "data": {
      "text/html": [
       "<div>\n",
       "<style scoped>\n",
       "    .dataframe tbody tr th:only-of-type {\n",
       "        vertical-align: middle;\n",
       "    }\n",
       "\n",
       "    .dataframe tbody tr th {\n",
       "        vertical-align: top;\n",
       "    }\n",
       "\n",
       "    .dataframe thead th {\n",
       "        text-align: right;\n",
       "    }\n",
       "</style>\n",
       "<table border=\"1\" class=\"dataframe\">\n",
       "  <thead>\n",
       "    <tr style=\"text-align: right;\">\n",
       "      <th></th>\n",
       "      <th>shukatu</th>\n",
       "      <th>bunsan</th>\n",
       "    </tr>\n",
       "  </thead>\n",
       "  <tbody>\n",
       "    <tr>\n",
       "      <th>JAVA_2月</th>\n",
       "      <td>3.000</td>\n",
       "      <td>2.891</td>\n",
       "    </tr>\n",
       "    <tr>\n",
       "      <th>WD開発基礎</th>\n",
       "      <td>2.840</td>\n",
       "      <td>3.728</td>\n",
       "    </tr>\n",
       "    <tr>\n",
       "      <th>Webアプリ</th>\n",
       "      <td>3.167</td>\n",
       "      <td>3.021</td>\n",
       "    </tr>\n",
       "    <tr>\n",
       "      <th>JAVA_1月</th>\n",
       "      <td>4.375</td>\n",
       "      <td>4.063</td>\n",
       "    </tr>\n",
       "    <tr>\n",
       "      <th>webデザイナー</th>\n",
       "      <td>3.250</td>\n",
       "      <td>3.461</td>\n",
       "    </tr>\n",
       "    <tr>\n",
       "      <th>クラウド</th>\n",
       "      <td>3.889</td>\n",
       "      <td>5.333</td>\n",
       "    </tr>\n",
       "    <tr>\n",
       "      <th>グラフィック</th>\n",
       "      <td>2.833</td>\n",
       "      <td>3.802</td>\n",
       "    </tr>\n",
       "    <tr>\n",
       "      <th>Web制作+動画</th>\n",
       "      <td>3.600</td>\n",
       "      <td>2.907</td>\n",
       "    </tr>\n",
       "    <tr>\n",
       "      <th>三)web動画HP</th>\n",
       "      <td>4.154</td>\n",
       "      <td>3.763</td>\n",
       "    </tr>\n",
       "    <tr>\n",
       "      <th>三)webクリ12月</th>\n",
       "      <td>5.000</td>\n",
       "      <td>3.045</td>\n",
       "    </tr>\n",
       "    <tr>\n",
       "      <th>三)webクリ1月</th>\n",
       "      <td>3.615</td>\n",
       "      <td>4.521</td>\n",
       "    </tr>\n",
       "    <tr>\n",
       "      <th>三)グラ/Webデザ</th>\n",
       "      <td>3.077</td>\n",
       "      <td>5.716</td>\n",
       "    </tr>\n",
       "    <tr>\n",
       "      <th>三)webデザ</th>\n",
       "      <td>3.000</td>\n",
       "      <td>4.321</td>\n",
       "    </tr>\n",
       "    <tr>\n",
       "      <th>三)web更新</th>\n",
       "      <td>2.316</td>\n",
       "      <td>5.590</td>\n",
       "    </tr>\n",
       "    <tr>\n",
       "      <th>三)webクリ</th>\n",
       "      <td>2.167</td>\n",
       "      <td>4.556</td>\n",
       "    </tr>\n",
       "    <tr>\n",
       "      <th>三)Web動画HP</th>\n",
       "      <td>1.762</td>\n",
       "      <td>3.383</td>\n",
       "    </tr>\n",
       "    <tr>\n",
       "      <th>三)Java+Python</th>\n",
       "      <td>1.667</td>\n",
       "      <td>5.405</td>\n",
       "    </tr>\n",
       "  </tbody>\n",
       "</table>\n",
       "</div>"
      ],
      "text/plain": [
       "               shukatu  bunsan\n",
       "JAVA_2月          3.000   2.891\n",
       "WD開発基礎           2.840   3.728\n",
       "Webアプリ           3.167   3.021\n",
       "JAVA_1月          4.375   4.063\n",
       "webデザイナー         3.250   3.461\n",
       "クラウド             3.889   5.333\n",
       "グラフィック           2.833   3.802\n",
       "Web制作+動画         3.600   2.907\n",
       "三)web動画HP        4.154   3.763\n",
       "三)webクリ12月       5.000   3.045\n",
       "三)webクリ1月        3.615   4.521\n",
       "三)グラ/Webデザ       3.077   5.716\n",
       "三)webデザ          3.000   4.321\n",
       "三)web更新          2.316   5.590\n",
       "三)webクリ          2.167   4.556\n",
       "三)Web動画HP        1.762   3.383\n",
       "三)Java+Python    1.667   5.405"
      ]
     },
     "execution_count": 49,
     "metadata": {},
     "output_type": "execute_result"
    }
   ],
   "source": [
    "shukatu"
   ]
  },
  {
   "cell_type": "code",
   "execution_count": 50,
   "metadata": {
    "colab": {
     "base_uri": "https://localhost:8080/",
     "height": 716
    },
    "id": "INJhcuesI6TR",
    "outputId": "520f5eef-7c3f-40d6-baf5-5b696fc2c2a2"
   },
   "outputs": [
    {
     "data": {
      "image/png": "[encoded data removed]",
      "text/plain": [
       "<Figure size 504x504 with 3 Axes>"
      ]
     },
     "metadata": {
      "needs_background": "light"
     },
     "output_type": "display_data"
    }
   ],
   "source": [
    "g = sns.jointplot(x=\"shukatu\", y=\"bunsan\", data=shukatu,\n",
    "                  kind=\"reg\", truncate=False,\n",
    "                  xlim=(0, 10), ylim=(0, 12),\n",
    "                  color=\"m\", height=7)"
   ]
  },
  {
   "cell_type": "code",
   "execution_count": 51,
   "metadata": {
    "colab": {
     "base_uri": "https://localhost:8080/",
     "height": 439
    },
    "id": "3bnn8PEbJWEv",
    "outputId": "a33d8739-f3f5-4bcd-ce21-ef11a88a26ea"
   },
   "outputs": [
    {
     "data": {
      "image/png": "[encoded data removed]",
      "text/plain": [
       "<Figure size 432x288 with 1 Axes>"
      ]
     },
     "metadata": {
      "needs_background": "light"
     },
     "output_type": "display_data"
    }
   ],
   "source": [
    "\n",
    "p = sns.regplot(x=\"shukatu\", y=\"bunsan\", data=shukatu, scatter=True, fit_reg=True)\n"
   ]
  },
  {
   "cell_type": "code",
   "execution_count": 54,
   "metadata": {
    "colab": {
     "base_uri": "https://localhost:8080/",
     "height": 439
    },
    "id": "WZJRSOCRLabX",
    "outputId": "9839f7b4-e782-4fb0-dea2-c415633225d1"
   },
   "outputs": [
    {
     "data": {
      "text/plain": [
       "<AxesSubplot:xlabel='shukatu', ylabel='bunsan'>"
      ]
     },
     "execution_count": 54,
     "metadata": {},
     "output_type": "execute_result"
    },
    {
     "data": {
      "image/png": "[encoded data removed]",
      "text/plain": [
       "<Figure size 432x288 with 1 Axes>"
      ]
     },
     "metadata": {
      "needs_background": "light"
     },
     "output_type": "display_data"
    }
   ],
   "source": [
    "sns.regplot(x=\"shukatu\", y=\"bunsan\", data=shukatu, scatter=True )\n"
   ]
  },
  {
   "cell_type": "code",
   "execution_count": 53,
   "metadata": {
    "colab": {
     "base_uri": "https://localhost:8080/",
     "height": 423
    },
    "id": "ofgi6O8JOWQt",
    "outputId": "72182a91-8bb8-42f3-9f43-4f52074005ad"
   },
   "outputs": [
    {
     "data": {
      "text/html": [
       "<div>\n",
       "<style scoped>\n",
       "    .dataframe tbody tr th:only-of-type {\n",
       "        vertical-align: middle;\n",
       "    }\n",
       "\n",
       "    .dataframe tbody tr th {\n",
       "        vertical-align: top;\n",
       "    }\n",
       "\n",
       "    .dataframe thead th {\n",
       "        text-align: right;\n",
       "    }\n",
       "</style>\n",
       "<table border=\"1\" class=\"dataframe\">\n",
       "  <thead>\n",
       "    <tr style=\"text-align: right;\">\n",
       "      <th></th>\n",
       "      <th>Q1</th>\n",
       "      <th>Q2</th>\n",
       "      <th>Q3</th>\n",
       "      <th>Q4</th>\n",
       "      <th>Q5</th>\n",
       "      <th>Q6</th>\n",
       "      <th>class</th>\n",
       "    </tr>\n",
       "  </thead>\n",
       "  <tbody>\n",
       "    <tr>\n",
       "      <th>0</th>\n",
       "      <td>3</td>\n",
       "      <td>3</td>\n",
       "      <td>3</td>\n",
       "      <td>3</td>\n",
       "      <td>1</td>\n",
       "      <td>3</td>\n",
       "      <td>JAVA_2月</td>\n",
       "    </tr>\n",
       "    <tr>\n",
       "      <th>1</th>\n",
       "      <td>3</td>\n",
       "      <td>3</td>\n",
       "      <td>3</td>\n",
       "      <td>3</td>\n",
       "      <td>1</td>\n",
       "      <td>3</td>\n",
       "      <td>JAVA_2月</td>\n",
       "    </tr>\n",
       "    <tr>\n",
       "      <th>2</th>\n",
       "      <td>4</td>\n",
       "      <td>3</td>\n",
       "      <td>3</td>\n",
       "      <td>5</td>\n",
       "      <td>1</td>\n",
       "      <td>3</td>\n",
       "      <td>JAVA_2月</td>\n",
       "    </tr>\n",
       "    <tr>\n",
       "      <th>3</th>\n",
       "      <td>3</td>\n",
       "      <td>3</td>\n",
       "      <td>3</td>\n",
       "      <td>3</td>\n",
       "      <td>1</td>\n",
       "      <td>3</td>\n",
       "      <td>JAVA_2月</td>\n",
       "    </tr>\n",
       "    <tr>\n",
       "      <th>4</th>\n",
       "      <td>3</td>\n",
       "      <td>3</td>\n",
       "      <td>3</td>\n",
       "      <td>5</td>\n",
       "      <td>3</td>\n",
       "      <td>4</td>\n",
       "      <td>JAVA_2月</td>\n",
       "    </tr>\n",
       "    <tr>\n",
       "      <th>...</th>\n",
       "      <td>...</td>\n",
       "      <td>...</td>\n",
       "      <td>...</td>\n",
       "      <td>...</td>\n",
       "      <td>...</td>\n",
       "      <td>...</td>\n",
       "      <td>...</td>\n",
       "    </tr>\n",
       "    <tr>\n",
       "      <th>242</th>\n",
       "      <td>4</td>\n",
       "      <td>3</td>\n",
       "      <td>2</td>\n",
       "      <td>5</td>\n",
       "      <td>1</td>\n",
       "      <td>4</td>\n",
       "      <td>三宮実践Java+Pythonプログラマー養成4月</td>\n",
       "    </tr>\n",
       "    <tr>\n",
       "      <th>243</th>\n",
       "      <td>4</td>\n",
       "      <td>3</td>\n",
       "      <td>1</td>\n",
       "      <td>6</td>\n",
       "      <td>3</td>\n",
       "      <td>4</td>\n",
       "      <td>三宮実践Java+Pythonプログラマー養成4月</td>\n",
       "    </tr>\n",
       "    <tr>\n",
       "      <th>244</th>\n",
       "      <td>3</td>\n",
       "      <td>3</td>\n",
       "      <td>2</td>\n",
       "      <td>1</td>\n",
       "      <td>2</td>\n",
       "      <td>4</td>\n",
       "      <td>三宮実践Java+Pythonプログラマー養成4月</td>\n",
       "    </tr>\n",
       "    <tr>\n",
       "      <th>245</th>\n",
       "      <td>2</td>\n",
       "      <td>2</td>\n",
       "      <td>1</td>\n",
       "      <td>3</td>\n",
       "      <td>3</td>\n",
       "      <td>4</td>\n",
       "      <td>三宮実践Java+Pythonプログラマー養成4月</td>\n",
       "    </tr>\n",
       "    <tr>\n",
       "      <th>246</th>\n",
       "      <td>2</td>\n",
       "      <td>2</td>\n",
       "      <td>3</td>\n",
       "      <td>2</td>\n",
       "      <td>2</td>\n",
       "      <td>3</td>\n",
       "      <td>三宮実践Java+Pythonプログラマー養成4月</td>\n",
       "    </tr>\n",
       "  </tbody>\n",
       "</table>\n",
       "<p>246 rows × 7 columns</p>\n",
       "</div>"
      ],
      "text/plain": [
       "     Q1  Q2  Q3  Q4  Q5  Q6                      class\n",
       "0     3   3   3   3   1   3                    JAVA_2月\n",
       "1     3   3   3   3   1   3                    JAVA_2月\n",
       "2     4   3   3   5   1   3                    JAVA_2月\n",
       "3     3   3   3   3   1   3                    JAVA_2月\n",
       "4     3   3   3   5   3   4                    JAVA_2月\n",
       "..   ..  ..  ..  ..  ..  ..                        ...\n",
       "242   4   3   2   5   1   4  三宮実践Java+Pythonプログラマー養成4月\n",
       "243   4   3   1   6   3   4  三宮実践Java+Pythonプログラマー養成4月\n",
       "244   3   3   2   1   2   4  三宮実践Java+Pythonプログラマー養成4月\n",
       "245   2   2   1   3   3   4  三宮実践Java+Pythonプログラマー養成4月\n",
       "246   2   2   3   2   2   3  三宮実践Java+Pythonプログラマー養成4月\n",
       "\n",
       "[246 rows x 7 columns]"
      ]
     },
     "execution_count": 53,
     "metadata": {},
     "output_type": "execute_result"
    }
   ],
   "source": [
    "df2"
   ]
  },
  {
   "cell_type": "code",
   "execution_count": null,
   "metadata": {
    "id": "kLCjZNBmTazv"
   },
   "outputs": [],
   "source": []
  },
  {
   "cell_type": "code",
   "execution_count": 55,
   "metadata": {
    "colab": {
     "base_uri": "https://localhost:8080/"
    },
    "id": "k-PAuKkpUHOP",
    "outputId": "ad3cf526-caa2-49d9-ebc6-d3a8674bfeb1"
   },
   "outputs": [
    {
     "name": "stdout",
     "output_type": "stream",
     "text": [
      "WD開発基礎                       25\n",
      "三宮Web動画HP                    21\n",
      "三宮webクリエーター12月               20\n",
      "三宮web更新                      19\n",
      "三宮webクリエーター3月                18\n",
      "webデザイナー実践                   16\n",
      "未経験からめざせるWeb制作+動画            15\n",
      "三宮webデザイン・プログラミング            14\n",
      "三宮web動画HP                    13\n",
      "三宮webクリエーター1月                13\n",
      "三宮グラフィック・Webデザイナー1月          13\n",
      "Webアプリ                       12\n",
      "三宮実践Java+Pythonプログラマー養成4月    11\n",
      "グラフィック                       11\n",
      "クラウド                          9\n",
      "JAVA_1月                       8\n",
      "JAVA_2月                       8\n",
      "Name: class, dtype: int64\n"
     ]
    }
   ],
   "source": [
    "classes  = df2['class'].value_counts()\n",
    "print(classes)"
   ]
  },
  {
   "cell_type": "code",
   "execution_count": 56,
   "metadata": {
    "colab": {
     "base_uri": "https://localhost:8080/",
     "height": 112
    },
    "id": "hJHYFmJaVFHK",
    "outputId": "d876b541-c5e2-48fd-ed02-8b08a29c30a1"
   },
   "outputs": [
    {
     "data": {
      "text/html": [
       "<div>\n",
       "<style scoped>\n",
       "    .dataframe tbody tr th:only-of-type {\n",
       "        vertical-align: middle;\n",
       "    }\n",
       "\n",
       "    .dataframe tbody tr th {\n",
       "        vertical-align: top;\n",
       "    }\n",
       "\n",
       "    .dataframe thead th {\n",
       "        text-align: right;\n",
       "    }\n",
       "</style>\n",
       "<table border=\"1\" class=\"dataframe\">\n",
       "  <thead>\n",
       "    <tr style=\"text-align: right;\">\n",
       "      <th></th>\n",
       "      <th>shukatu</th>\n",
       "      <th>bunsan</th>\n",
       "    </tr>\n",
       "  </thead>\n",
       "  <tbody>\n",
       "    <tr>\n",
       "      <th>shukatu</th>\n",
       "      <td>1.00000</td>\n",
       "      <td>-0.30499</td>\n",
       "    </tr>\n",
       "    <tr>\n",
       "      <th>bunsan</th>\n",
       "      <td>-0.30499</td>\n",
       "      <td>1.00000</td>\n",
       "    </tr>\n",
       "  </tbody>\n",
       "</table>\n",
       "</div>"
      ],
      "text/plain": [
       "         shukatu   bunsan\n",
       "shukatu  1.00000 -0.30499\n",
       "bunsan  -0.30499  1.00000"
      ]
     },
     "execution_count": 56,
     "metadata": {},
     "output_type": "execute_result"
    }
   ],
   "source": [
    "shukatu.corr()"
   ]
  },
  {
   "cell_type": "code",
   "execution_count": 57,
   "metadata": {
    "id": "mNvSd1kaaDJU"
   },
   "outputs": [],
   "source": [
    "n = []\n",
    "for i in range(0,17):\n",
    "  data = df2.loc[df2[\"class\"]==clas[i],:]\n",
    "  x = round(data[\"Q1\"].mean(),3)\n",
    "  n.append(x)"
   ]
  },
  {
   "cell_type": "code",
   "execution_count": 58,
   "metadata": {
    "colab": {
     "base_uri": "https://localhost:8080/"
    },
    "id": "SoEYUhjLce7v",
    "outputId": "ac84990c-e26b-4933-9fd1-2c2e198078ae"
   },
   "outputs": [
    {
     "data": {
      "text/plain": [
       "[3.25,\n",
       " 3.4,\n",
       " 3.583,\n",
       " 3.375,\n",
       " 3.25,\n",
       " 3.222,\n",
       " 2.364,\n",
       " 3.667,\n",
       " 4.0,\n",
       " 3.95,\n",
       " 4.0,\n",
       " 4.0,\n",
       " 3.5,\n",
       " 3.474,\n",
       " 3.889,\n",
       " 3.619,\n",
       " 3.091]"
      ]
     },
     "execution_count": 58,
     "metadata": {},
     "output_type": "execute_result"
    }
   ],
   "source": [
    "n"
   ]
  },
  {
   "cell_type": "code",
   "execution_count": 59,
   "metadata": {
    "colab": {
     "base_uri": "https://localhost:8080/",
     "height": 582
    },
    "id": "YIizjDX8cfxk",
    "outputId": "8a6bb500-e457-4bd5-c688-06657866a7e8"
   },
   "outputs": [
    {
     "data": {
      "text/html": [
       "<div>\n",
       "<style scoped>\n",
       "    .dataframe tbody tr th:only-of-type {\n",
       "        vertical-align: middle;\n",
       "    }\n",
       "\n",
       "    .dataframe tbody tr th {\n",
       "        vertical-align: top;\n",
       "    }\n",
       "\n",
       "    .dataframe thead th {\n",
       "        text-align: right;\n",
       "    }\n",
       "</style>\n",
       "<table border=\"1\" class=\"dataframe\">\n",
       "  <thead>\n",
       "    <tr style=\"text-align: right;\">\n",
       "      <th></th>\n",
       "      <th>shukatu</th>\n",
       "      <th>bunsan</th>\n",
       "      <th>akarusa</th>\n",
       "    </tr>\n",
       "  </thead>\n",
       "  <tbody>\n",
       "    <tr>\n",
       "      <th>JAVA_2月</th>\n",
       "      <td>3.000</td>\n",
       "      <td>2.891</td>\n",
       "      <td>3.250</td>\n",
       "    </tr>\n",
       "    <tr>\n",
       "      <th>WD開発基礎</th>\n",
       "      <td>2.840</td>\n",
       "      <td>3.728</td>\n",
       "      <td>3.400</td>\n",
       "    </tr>\n",
       "    <tr>\n",
       "      <th>Webアプリ</th>\n",
       "      <td>3.167</td>\n",
       "      <td>3.021</td>\n",
       "      <td>3.583</td>\n",
       "    </tr>\n",
       "    <tr>\n",
       "      <th>JAVA_1月</th>\n",
       "      <td>4.375</td>\n",
       "      <td>4.063</td>\n",
       "      <td>3.375</td>\n",
       "    </tr>\n",
       "    <tr>\n",
       "      <th>webデザイナー</th>\n",
       "      <td>3.250</td>\n",
       "      <td>3.461</td>\n",
       "      <td>3.250</td>\n",
       "    </tr>\n",
       "    <tr>\n",
       "      <th>クラウド</th>\n",
       "      <td>3.889</td>\n",
       "      <td>5.333</td>\n",
       "      <td>3.222</td>\n",
       "    </tr>\n",
       "    <tr>\n",
       "      <th>グラフィック</th>\n",
       "      <td>2.833</td>\n",
       "      <td>3.802</td>\n",
       "      <td>2.364</td>\n",
       "    </tr>\n",
       "    <tr>\n",
       "      <th>Web制作+動画</th>\n",
       "      <td>3.600</td>\n",
       "      <td>2.907</td>\n",
       "      <td>3.667</td>\n",
       "    </tr>\n",
       "    <tr>\n",
       "      <th>三)web動画HP</th>\n",
       "      <td>4.154</td>\n",
       "      <td>3.763</td>\n",
       "      <td>4.000</td>\n",
       "    </tr>\n",
       "    <tr>\n",
       "      <th>三)webクリ12月</th>\n",
       "      <td>5.000</td>\n",
       "      <td>3.045</td>\n",
       "      <td>3.950</td>\n",
       "    </tr>\n",
       "    <tr>\n",
       "      <th>三)webクリ1月</th>\n",
       "      <td>3.615</td>\n",
       "      <td>4.521</td>\n",
       "      <td>4.000</td>\n",
       "    </tr>\n",
       "    <tr>\n",
       "      <th>三)グラ/Webデザ</th>\n",
       "      <td>3.077</td>\n",
       "      <td>5.716</td>\n",
       "      <td>4.000</td>\n",
       "    </tr>\n",
       "    <tr>\n",
       "      <th>三)webデザ</th>\n",
       "      <td>3.000</td>\n",
       "      <td>4.321</td>\n",
       "      <td>3.500</td>\n",
       "    </tr>\n",
       "    <tr>\n",
       "      <th>三)web更新</th>\n",
       "      <td>2.316</td>\n",
       "      <td>5.590</td>\n",
       "      <td>3.474</td>\n",
       "    </tr>\n",
       "    <tr>\n",
       "      <th>三)webクリ</th>\n",
       "      <td>2.167</td>\n",
       "      <td>4.556</td>\n",
       "      <td>3.889</td>\n",
       "    </tr>\n",
       "    <tr>\n",
       "      <th>三)Web動画HP</th>\n",
       "      <td>1.762</td>\n",
       "      <td>3.383</td>\n",
       "      <td>3.619</td>\n",
       "    </tr>\n",
       "    <tr>\n",
       "      <th>三)Java+Python</th>\n",
       "      <td>1.667</td>\n",
       "      <td>5.405</td>\n",
       "      <td>3.091</td>\n",
       "    </tr>\n",
       "  </tbody>\n",
       "</table>\n",
       "</div>"
      ],
      "text/plain": [
       "               shukatu  bunsan  akarusa\n",
       "JAVA_2月          3.000   2.891    3.250\n",
       "WD開発基礎           2.840   3.728    3.400\n",
       "Webアプリ           3.167   3.021    3.583\n",
       "JAVA_1月          4.375   4.063    3.375\n",
       "webデザイナー         3.250   3.461    3.250\n",
       "クラウド             3.889   5.333    3.222\n",
       "グラフィック           2.833   3.802    2.364\n",
       "Web制作+動画         3.600   2.907    3.667\n",
       "三)web動画HP        4.154   3.763    4.000\n",
       "三)webクリ12月       5.000   3.045    3.950\n",
       "三)webクリ1月        3.615   4.521    4.000\n",
       "三)グラ/Webデザ       3.077   5.716    4.000\n",
       "三)webデザ          3.000   4.321    3.500\n",
       "三)web更新          2.316   5.590    3.474\n",
       "三)webクリ          2.167   4.556    3.889\n",
       "三)Web動画HP        1.762   3.383    3.619\n",
       "三)Java+Python    1.667   5.405    3.091"
      ]
     },
     "execution_count": 59,
     "metadata": {},
     "output_type": "execute_result"
    }
   ],
   "source": [
    "shukatu[\"akarusa\"] = n\n",
    "shukatu"
   ]
  },
  {
   "cell_type": "code",
   "execution_count": 60,
   "metadata": {
    "colab": {
     "base_uri": "https://localhost:8080/",
     "height": 582
    },
    "id": "3rMTBIizgqls",
    "outputId": "64e436b9-1613-4365-cab6-6fa90142d3ff"
   },
   "outputs": [
    {
     "data": {
      "text/html": [
       "<div>\n",
       "<style scoped>\n",
       "    .dataframe tbody tr th:only-of-type {\n",
       "        vertical-align: middle;\n",
       "    }\n",
       "\n",
       "    .dataframe tbody tr th {\n",
       "        vertical-align: top;\n",
       "    }\n",
       "\n",
       "    .dataframe thead th {\n",
       "        text-align: right;\n",
       "    }\n",
       "</style>\n",
       "<table border=\"1\" class=\"dataframe\">\n",
       "  <thead>\n",
       "    <tr style=\"text-align: right;\">\n",
       "      <th></th>\n",
       "      <th>bunsan</th>\n",
       "      <th>akarusa</th>\n",
       "    </tr>\n",
       "  </thead>\n",
       "  <tbody>\n",
       "    <tr>\n",
       "      <th>JAVA_2月</th>\n",
       "      <td>2.891</td>\n",
       "      <td>3.250</td>\n",
       "    </tr>\n",
       "    <tr>\n",
       "      <th>WD開発基礎</th>\n",
       "      <td>3.728</td>\n",
       "      <td>3.400</td>\n",
       "    </tr>\n",
       "    <tr>\n",
       "      <th>Webアプリ</th>\n",
       "      <td>3.021</td>\n",
       "      <td>3.583</td>\n",
       "    </tr>\n",
       "    <tr>\n",
       "      <th>JAVA_1月</th>\n",
       "      <td>4.063</td>\n",
       "      <td>3.375</td>\n",
       "    </tr>\n",
       "    <tr>\n",
       "      <th>webデザイナー</th>\n",
       "      <td>3.461</td>\n",
       "      <td>3.250</td>\n",
       "    </tr>\n",
       "    <tr>\n",
       "      <th>クラウド</th>\n",
       "      <td>5.333</td>\n",
       "      <td>3.222</td>\n",
       "    </tr>\n",
       "    <tr>\n",
       "      <th>グラフィック</th>\n",
       "      <td>3.802</td>\n",
       "      <td>2.364</td>\n",
       "    </tr>\n",
       "    <tr>\n",
       "      <th>Web制作+動画</th>\n",
       "      <td>2.907</td>\n",
       "      <td>3.667</td>\n",
       "    </tr>\n",
       "    <tr>\n",
       "      <th>三)web動画HP</th>\n",
       "      <td>3.763</td>\n",
       "      <td>4.000</td>\n",
       "    </tr>\n",
       "    <tr>\n",
       "      <th>三)webクリ12月</th>\n",
       "      <td>3.045</td>\n",
       "      <td>3.950</td>\n",
       "    </tr>\n",
       "    <tr>\n",
       "      <th>三)webクリ1月</th>\n",
       "      <td>4.521</td>\n",
       "      <td>4.000</td>\n",
       "    </tr>\n",
       "    <tr>\n",
       "      <th>三)グラ/Webデザ</th>\n",
       "      <td>5.716</td>\n",
       "      <td>4.000</td>\n",
       "    </tr>\n",
       "    <tr>\n",
       "      <th>三)webデザ</th>\n",
       "      <td>4.321</td>\n",
       "      <td>3.500</td>\n",
       "    </tr>\n",
       "    <tr>\n",
       "      <th>三)web更新</th>\n",
       "      <td>5.590</td>\n",
       "      <td>3.474</td>\n",
       "    </tr>\n",
       "    <tr>\n",
       "      <th>三)webクリ</th>\n",
       "      <td>4.556</td>\n",
       "      <td>3.889</td>\n",
       "    </tr>\n",
       "    <tr>\n",
       "      <th>三)Web動画HP</th>\n",
       "      <td>3.383</td>\n",
       "      <td>3.619</td>\n",
       "    </tr>\n",
       "    <tr>\n",
       "      <th>三)Java+Python</th>\n",
       "      <td>5.405</td>\n",
       "      <td>3.091</td>\n",
       "    </tr>\n",
       "  </tbody>\n",
       "</table>\n",
       "</div>"
      ],
      "text/plain": [
       "               bunsan  akarusa\n",
       "JAVA_2月         2.891    3.250\n",
       "WD開発基礎          3.728    3.400\n",
       "Webアプリ          3.021    3.583\n",
       "JAVA_1月         4.063    3.375\n",
       "webデザイナー        3.461    3.250\n",
       "クラウド            5.333    3.222\n",
       "グラフィック          3.802    2.364\n",
       "Web制作+動画        2.907    3.667\n",
       "三)web動画HP       3.763    4.000\n",
       "三)webクリ12月      3.045    3.950\n",
       "三)webクリ1月       4.521    4.000\n",
       "三)グラ/Webデザ      5.716    4.000\n",
       "三)webデザ         4.321    3.500\n",
       "三)web更新         5.590    3.474\n",
       "三)webクリ         4.556    3.889\n",
       "三)Web動画HP       3.383    3.619\n",
       "三)Java+Python   5.405    3.091"
      ]
     },
     "execution_count": 60,
     "metadata": {},
     "output_type": "execute_result"
    }
   ],
   "source": [
    "shukatu1 = shukatu.iloc[:,1:3]\n",
    "shukatu1"
   ]
  },
  {
   "cell_type": "code",
   "execution_count": 61,
   "metadata": {
    "colab": {
     "base_uri": "https://localhost:8080/",
     "height": 112
    },
    "id": "gqOBbeqgmvpE",
    "outputId": "cc94e993-4f2c-4673-9448-691b090f0833"
   },
   "outputs": [
    {
     "data": {
      "text/html": [
       "<div>\n",
       "<style scoped>\n",
       "    .dataframe tbody tr th:only-of-type {\n",
       "        vertical-align: middle;\n",
       "    }\n",
       "\n",
       "    .dataframe tbody tr th {\n",
       "        vertical-align: top;\n",
       "    }\n",
       "\n",
       "    .dataframe thead th {\n",
       "        text-align: right;\n",
       "    }\n",
       "</style>\n",
       "<table border=\"1\" class=\"dataframe\">\n",
       "  <thead>\n",
       "    <tr style=\"text-align: right;\">\n",
       "      <th></th>\n",
       "      <th>bunsan</th>\n",
       "      <th>akarusa</th>\n",
       "    </tr>\n",
       "  </thead>\n",
       "  <tbody>\n",
       "    <tr>\n",
       "      <th>bunsan</th>\n",
       "      <td>1.000000</td>\n",
       "      <td>0.016469</td>\n",
       "    </tr>\n",
       "    <tr>\n",
       "      <th>akarusa</th>\n",
       "      <td>0.016469</td>\n",
       "      <td>1.000000</td>\n",
       "    </tr>\n",
       "  </tbody>\n",
       "</table>\n",
       "</div>"
      ],
      "text/plain": [
       "           bunsan   akarusa\n",
       "bunsan   1.000000  0.016469\n",
       "akarusa  0.016469  1.000000"
      ]
     },
     "execution_count": 61,
     "metadata": {},
     "output_type": "execute_result"
    }
   ],
   "source": [
    "shukatu1.corr()"
   ]
  },
  {
   "cell_type": "code",
   "execution_count": 62,
   "metadata": {
    "colab": {
     "base_uri": "https://localhost:8080/",
     "height": 143
    },
    "id": "Zl1Y4WsPcxsY",
    "outputId": "69553387-2273-497e-d606-c0067d2d2d4c"
   },
   "outputs": [
    {
     "data": {
      "text/html": [
       "<div>\n",
       "<style scoped>\n",
       "    .dataframe tbody tr th:only-of-type {\n",
       "        vertical-align: middle;\n",
       "    }\n",
       "\n",
       "    .dataframe tbody tr th {\n",
       "        vertical-align: top;\n",
       "    }\n",
       "\n",
       "    .dataframe thead th {\n",
       "        text-align: right;\n",
       "    }\n",
       "</style>\n",
       "<table border=\"1\" class=\"dataframe\">\n",
       "  <thead>\n",
       "    <tr style=\"text-align: right;\">\n",
       "      <th></th>\n",
       "      <th>shukatu</th>\n",
       "      <th>bunsan</th>\n",
       "      <th>akarusa</th>\n",
       "    </tr>\n",
       "  </thead>\n",
       "  <tbody>\n",
       "    <tr>\n",
       "      <th>shukatu</th>\n",
       "      <td>1.00000</td>\n",
       "      <td>-0.304990</td>\n",
       "      <td>0.285730</td>\n",
       "    </tr>\n",
       "    <tr>\n",
       "      <th>bunsan</th>\n",
       "      <td>-0.30499</td>\n",
       "      <td>1.000000</td>\n",
       "      <td>0.016469</td>\n",
       "    </tr>\n",
       "    <tr>\n",
       "      <th>akarusa</th>\n",
       "      <td>0.28573</td>\n",
       "      <td>0.016469</td>\n",
       "      <td>1.000000</td>\n",
       "    </tr>\n",
       "  </tbody>\n",
       "</table>\n",
       "</div>"
      ],
      "text/plain": [
       "         shukatu    bunsan   akarusa\n",
       "shukatu  1.00000 -0.304990  0.285730\n",
       "bunsan  -0.30499  1.000000  0.016469\n",
       "akarusa  0.28573  0.016469  1.000000"
      ]
     },
     "execution_count": 62,
     "metadata": {},
     "output_type": "execute_result"
    }
   ],
   "source": [
    "shukatu.corr()"
   ]
  },
  {
   "cell_type": "markdown",
   "metadata": {
    "id": "4UkwfoMAdmoz"
   },
   "source": []
  },
  {
   "cell_type": "code",
   "execution_count": 63,
   "metadata": {
    "id": "S_wDWv3hc07N"
   },
   "outputs": [],
   "source": [
    "#似たもの（分散が低い）が集まってもクラスの明るさが明るい傾向にはないかもしれんね"
   ]
  },
  {
   "cell_type": "code",
   "execution_count": 64,
   "metadata": {
    "colab": {
     "base_uri": "https://localhost:8080/",
     "height": 439
    },
    "id": "Cm4zurnCdBVG",
    "outputId": "db26ec72-8397-4d33-b39b-15d86e83abe0"
   },
   "outputs": [
    {
     "data": {
      "text/plain": [
       "<AxesSubplot:xlabel='bunsan', ylabel='akarusa'>"
      ]
     },
     "execution_count": 64,
     "metadata": {},
     "output_type": "execute_result"
    },
    {
     "data": {
      "image/png": "[encoded data removed]",
      "text/plain": [
       "<Figure size 432x288 with 1 Axes>"
      ]
     },
     "metadata": {
      "needs_background": "light"
     },
     "output_type": "display_data"
    }
   ],
   "source": [
    "sns.regplot(x=\"bunsan\", y=\"akarusa\", data=shukatu, scatter=True )\n",
    "\n",
    "#分散と明るさの相関図"
   ]
  },
  {
   "cell_type": "code",
   "execution_count": 65,
   "metadata": {
    "id": "WRbxRBN7dOuX"
   },
   "outputs": [],
   "source": [
    "n = []\n",
    "for i in range(0,17):\n",
    "  data = df2.loc[df2[\"class\"]==clas[i],:]\n",
    "  x = data[\"Q1\"].sum()\n",
    "  n.append(x)"
   ]
  },
  {
   "cell_type": "code",
   "execution_count": 66,
   "metadata": {
    "id": "hlxNSNxZew5g"
   },
   "outputs": [],
   "source": [
    "shukatu[\"akarusa_sum\"] = n"
   ]
  },
  {
   "cell_type": "code",
   "execution_count": 67,
   "metadata": {
    "colab": {
     "base_uri": "https://localhost:8080/",
     "height": 175
    },
    "id": "9WyK9q1Ke1QG",
    "outputId": "ea374916-b75f-4bf1-f061-bc7bc2303626"
   },
   "outputs": [
    {
     "data": {
      "text/html": [
       "<div>\n",
       "<style scoped>\n",
       "    .dataframe tbody tr th:only-of-type {\n",
       "        vertical-align: middle;\n",
       "    }\n",
       "\n",
       "    .dataframe tbody tr th {\n",
       "        vertical-align: top;\n",
       "    }\n",
       "\n",
       "    .dataframe thead th {\n",
       "        text-align: right;\n",
       "    }\n",
       "</style>\n",
       "<table border=\"1\" class=\"dataframe\">\n",
       "  <thead>\n",
       "    <tr style=\"text-align: right;\">\n",
       "      <th></th>\n",
       "      <th>shukatu</th>\n",
       "      <th>bunsan</th>\n",
       "      <th>akarusa</th>\n",
       "      <th>akarusa_sum</th>\n",
       "    </tr>\n",
       "  </thead>\n",
       "  <tbody>\n",
       "    <tr>\n",
       "      <th>shukatu</th>\n",
       "      <td>1.000000</td>\n",
       "      <td>-0.304990</td>\n",
       "      <td>0.285730</td>\n",
       "      <td>-0.109158</td>\n",
       "    </tr>\n",
       "    <tr>\n",
       "      <th>bunsan</th>\n",
       "      <td>-0.304990</td>\n",
       "      <td>1.000000</td>\n",
       "      <td>0.016469</td>\n",
       "      <td>-0.119654</td>\n",
       "    </tr>\n",
       "    <tr>\n",
       "      <th>akarusa</th>\n",
       "      <td>0.285730</td>\n",
       "      <td>0.016469</td>\n",
       "      <td>1.000000</td>\n",
       "      <td>0.552479</td>\n",
       "    </tr>\n",
       "    <tr>\n",
       "      <th>akarusa_sum</th>\n",
       "      <td>-0.109158</td>\n",
       "      <td>-0.119654</td>\n",
       "      <td>0.552479</td>\n",
       "      <td>1.000000</td>\n",
       "    </tr>\n",
       "  </tbody>\n",
       "</table>\n",
       "</div>"
      ],
      "text/plain": [
       "              shukatu    bunsan   akarusa  akarusa_sum\n",
       "shukatu      1.000000 -0.304990  0.285730    -0.109158\n",
       "bunsan      -0.304990  1.000000  0.016469    -0.119654\n",
       "akarusa      0.285730  0.016469  1.000000     0.552479\n",
       "akarusa_sum -0.109158 -0.119654  0.552479     1.000000"
      ]
     },
     "execution_count": 67,
     "metadata": {},
     "output_type": "execute_result"
    }
   ],
   "source": [
    "shukatu.corr()"
   ]
  },
  {
   "cell_type": "code",
   "execution_count": 68,
   "metadata": {
    "id": "vj8VS60Ce4nw"
   },
   "outputs": [],
   "source": [
    "a = [\n",
    "    [8,8],\n",
    "     [28,25],\n",
    "     [12,12],\n",
    "     [9,8],\n",
    "     [17,16],\n",
    "     [9,9],\n",
    "     [12,12],\n",
    "     [17,15],\n",
    "     [13,13],\n",
    "     [18,18],\n",
    "     [17,15],\n",
    "     [13,13],\n",
    "     [14,14],\n",
    "     [19,19],\n",
    "     [18,18],\n",
    "     [24,21],\n",
    "     [12,12],\n",
    "     [275,248],\n",
    "     [\"\",90.2]\n",
    "     ]\n",
    "utiwake = pd.DataFrame(a)"
   ]
  },
  {
   "cell_type": "code",
   "execution_count": 69,
   "metadata": {
    "id": "MLzLjnVXokny"
   },
   "outputs": [],
   "source": [
    "labels1 = ['JAVA_2月', 'WD開発基礎', 'Webアプリ', 'JAVA_1月', 'webデザイナー', 'クラウド',\n",
    "        'グラフィック', 'Web制作+動画', '三)web動画HP',\n",
    "        '三)webクリ12月', '三)webクリ1月',\n",
    "        '三)グラ/Webデザ', '三)webデザ',\n",
    "        '三)web更新', '三)webクリ', '三)Web動画HP','三)Java+Python',\"合計\",\"回答率\"]"
   ]
  },
  {
   "cell_type": "code",
   "execution_count": 70,
   "metadata": {
    "colab": {
     "base_uri": "https://localhost:8080/",
     "height": 645
    },
    "id": "806VdBWzfSTG",
    "outputId": "6ab0aeed-57f8-488d-c4c6-22df77ec5558"
   },
   "outputs": [
    {
     "data": {
      "text/html": [
       "<div>\n",
       "<style scoped>\n",
       "    .dataframe tbody tr th:only-of-type {\n",
       "        vertical-align: middle;\n",
       "    }\n",
       "\n",
       "    .dataframe tbody tr th {\n",
       "        vertical-align: top;\n",
       "    }\n",
       "\n",
       "    .dataframe thead th {\n",
       "        text-align: right;\n",
       "    }\n",
       "</style>\n",
       "<table border=\"1\" class=\"dataframe\">\n",
       "  <thead>\n",
       "    <tr style=\"text-align: right;\">\n",
       "      <th></th>\n",
       "      <th>在籍人数</th>\n",
       "      <th>回答数</th>\n",
       "    </tr>\n",
       "  </thead>\n",
       "  <tbody>\n",
       "    <tr>\n",
       "      <th>JAVA_2月</th>\n",
       "      <td>8</td>\n",
       "      <td>8.0</td>\n",
       "    </tr>\n",
       "    <tr>\n",
       "      <th>WD開発基礎</th>\n",
       "      <td>28</td>\n",
       "      <td>25.0</td>\n",
       "    </tr>\n",
       "    <tr>\n",
       "      <th>Webアプリ</th>\n",
       "      <td>12</td>\n",
       "      <td>12.0</td>\n",
       "    </tr>\n",
       "    <tr>\n",
       "      <th>JAVA_1月</th>\n",
       "      <td>9</td>\n",
       "      <td>8.0</td>\n",
       "    </tr>\n",
       "    <tr>\n",
       "      <th>webデザイナー</th>\n",
       "      <td>17</td>\n",
       "      <td>16.0</td>\n",
       "    </tr>\n",
       "    <tr>\n",
       "      <th>クラウド</th>\n",
       "      <td>9</td>\n",
       "      <td>9.0</td>\n",
       "    </tr>\n",
       "    <tr>\n",
       "      <th>グラフィック</th>\n",
       "      <td>12</td>\n",
       "      <td>12.0</td>\n",
       "    </tr>\n",
       "    <tr>\n",
       "      <th>Web制作+動画</th>\n",
       "      <td>17</td>\n",
       "      <td>15.0</td>\n",
       "    </tr>\n",
       "    <tr>\n",
       "      <th>三)web動画HP</th>\n",
       "      <td>13</td>\n",
       "      <td>13.0</td>\n",
       "    </tr>\n",
       "    <tr>\n",
       "      <th>三)webクリ12月</th>\n",
       "      <td>18</td>\n",
       "      <td>18.0</td>\n",
       "    </tr>\n",
       "    <tr>\n",
       "      <th>三)webクリ1月</th>\n",
       "      <td>17</td>\n",
       "      <td>15.0</td>\n",
       "    </tr>\n",
       "    <tr>\n",
       "      <th>三)グラ/Webデザ</th>\n",
       "      <td>13</td>\n",
       "      <td>13.0</td>\n",
       "    </tr>\n",
       "    <tr>\n",
       "      <th>三)webデザ</th>\n",
       "      <td>14</td>\n",
       "      <td>14.0</td>\n",
       "    </tr>\n",
       "    <tr>\n",
       "      <th>三)web更新</th>\n",
       "      <td>19</td>\n",
       "      <td>19.0</td>\n",
       "    </tr>\n",
       "    <tr>\n",
       "      <th>三)webクリ</th>\n",
       "      <td>18</td>\n",
       "      <td>18.0</td>\n",
       "    </tr>\n",
       "    <tr>\n",
       "      <th>三)Web動画HP</th>\n",
       "      <td>24</td>\n",
       "      <td>21.0</td>\n",
       "    </tr>\n",
       "    <tr>\n",
       "      <th>三)Java+Python</th>\n",
       "      <td>12</td>\n",
       "      <td>12.0</td>\n",
       "    </tr>\n",
       "    <tr>\n",
       "      <th>合計</th>\n",
       "      <td>275</td>\n",
       "      <td>248.0</td>\n",
       "    </tr>\n",
       "    <tr>\n",
       "      <th>回答率</th>\n",
       "      <td></td>\n",
       "      <td>90.2</td>\n",
       "    </tr>\n",
       "  </tbody>\n",
       "</table>\n",
       "</div>"
      ],
      "text/plain": [
       "              在籍人数    回答数\n",
       "JAVA_2月          8    8.0\n",
       "WD開発基礎          28   25.0\n",
       "Webアプリ          12   12.0\n",
       "JAVA_1月          9    8.0\n",
       "webデザイナー        17   16.0\n",
       "クラウド             9    9.0\n",
       "グラフィック          12   12.0\n",
       "Web制作+動画        17   15.0\n",
       "三)web動画HP       13   13.0\n",
       "三)webクリ12月      18   18.0\n",
       "三)webクリ1月       17   15.0\n",
       "三)グラ/Webデザ      13   13.0\n",
       "三)webデザ         14   14.0\n",
       "三)web更新         19   19.0\n",
       "三)webクリ         18   18.0\n",
       "三)Web動画HP       24   21.0\n",
       "三)Java+Python   12   12.0\n",
       "合計             275  248.0\n",
       "回答率                  90.2"
      ]
     },
     "execution_count": 70,
     "metadata": {},
     "output_type": "execute_result"
    }
   ],
   "source": [
    "utiwake.columns = [\"在籍人数\", \"回答数\"]\n",
    "utiwake.index = labels1\n",
    "utiwake"
   ]
  },
  {
   "cell_type": "code",
   "execution_count": 71,
   "metadata": {
    "colab": {
     "base_uri": "https://localhost:8080/"
    },
    "id": "YopkxcrjgXf7",
    "outputId": "03d6a21a-e832-402b-99fc-f0c8467a6b61"
   },
   "outputs": [
    {
     "data": {
      "text/plain": [
       "[0.25,\n",
       " 1.334,\n",
       " 0.472,\n",
       " 1.234,\n",
       " 0.812,\n",
       " 2.099,\n",
       " 1.139,\n",
       " 0.907,\n",
       " 0.746,\n",
       " 0.6,\n",
       " 1.314,\n",
       " 0.379,\n",
       " 0.286,\n",
       " 0.848,\n",
       " 1.806,\n",
       " 2.562,\n",
       " 1.556]"
      ]
     },
     "execution_count": 71,
     "metadata": {},
     "output_type": "execute_result"
    }
   ],
   "source": [
    "n = []\n",
    "\n",
    "for i in range(0,17):\n",
    "  data = df_g.loc[df_g[\"class\"]==clas[i],:]\n",
    "  x = round(np.var(data[\"stage\"]),3)\n",
    "  n.append(x)\n",
    "n"
   ]
  },
  {
   "cell_type": "code",
   "execution_count": 72,
   "metadata": {
    "id": "oy4lgnM_DLdx"
   },
   "outputs": [],
   "source": [
    "shukatu[\"s_bunsan\"] = n"
   ]
  },
  {
   "cell_type": "code",
   "execution_count": 73,
   "metadata": {
    "colab": {
     "base_uri": "https://localhost:8080/",
     "height": 206
    },
    "id": "iQrRAUckDZDE",
    "outputId": "21e0dbfd-15c9-499c-a5d8-b2ab0199ff52"
   },
   "outputs": [
    {
     "data": {
      "text/html": [
       "<div>\n",
       "<style scoped>\n",
       "    .dataframe tbody tr th:only-of-type {\n",
       "        vertical-align: middle;\n",
       "    }\n",
       "\n",
       "    .dataframe tbody tr th {\n",
       "        vertical-align: top;\n",
       "    }\n",
       "\n",
       "    .dataframe thead th {\n",
       "        text-align: right;\n",
       "    }\n",
       "</style>\n",
       "<table border=\"1\" class=\"dataframe\">\n",
       "  <thead>\n",
       "    <tr style=\"text-align: right;\">\n",
       "      <th></th>\n",
       "      <th>shukatu</th>\n",
       "      <th>bunsan</th>\n",
       "      <th>akarusa</th>\n",
       "      <th>akarusa_sum</th>\n",
       "      <th>s_bunsan</th>\n",
       "    </tr>\n",
       "  </thead>\n",
       "  <tbody>\n",
       "    <tr>\n",
       "      <th>shukatu</th>\n",
       "      <td>1.000000</td>\n",
       "      <td>-0.304990</td>\n",
       "      <td>0.285730</td>\n",
       "      <td>-0.109158</td>\n",
       "      <td>-0.359299</td>\n",
       "    </tr>\n",
       "    <tr>\n",
       "      <th>bunsan</th>\n",
       "      <td>-0.304990</td>\n",
       "      <td>1.000000</td>\n",
       "      <td>0.016469</td>\n",
       "      <td>-0.119654</td>\n",
       "      <td>0.211193</td>\n",
       "    </tr>\n",
       "    <tr>\n",
       "      <th>akarusa</th>\n",
       "      <td>0.285730</td>\n",
       "      <td>0.016469</td>\n",
       "      <td>1.000000</td>\n",
       "      <td>0.552479</td>\n",
       "      <td>-0.124186</td>\n",
       "    </tr>\n",
       "    <tr>\n",
       "      <th>akarusa_sum</th>\n",
       "      <td>-0.109158</td>\n",
       "      <td>-0.119654</td>\n",
       "      <td>0.552479</td>\n",
       "      <td>1.000000</td>\n",
       "      <td>0.162119</td>\n",
       "    </tr>\n",
       "    <tr>\n",
       "      <th>s_bunsan</th>\n",
       "      <td>-0.359299</td>\n",
       "      <td>0.211193</td>\n",
       "      <td>-0.124186</td>\n",
       "      <td>0.162119</td>\n",
       "      <td>1.000000</td>\n",
       "    </tr>\n",
       "  </tbody>\n",
       "</table>\n",
       "</div>"
      ],
      "text/plain": [
       "              shukatu    bunsan   akarusa  akarusa_sum  s_bunsan\n",
       "shukatu      1.000000 -0.304990  0.285730    -0.109158 -0.359299\n",
       "bunsan      -0.304990  1.000000  0.016469    -0.119654  0.211193\n",
       "akarusa      0.285730  0.016469  1.000000     0.552479 -0.124186\n",
       "akarusa_sum -0.109158 -0.119654  0.552479     1.000000  0.162119\n",
       "s_bunsan    -0.359299  0.211193 -0.124186     0.162119  1.000000"
      ]
     },
     "execution_count": 73,
     "metadata": {},
     "output_type": "execute_result"
    }
   ],
   "source": [
    "shukatu.corr()"
   ]
  }
 ],
 "metadata": {
  "colab": {
   "provenance": []
  },
  "kernelspec": {
   "display_name": "Python 3 (ipykernel)",
   "language": "python",
   "name": "python3"
  },
  "language_info": {
   "codemirror_mode": {
    "name": "ipython",
    "version": 3
   },
   "file_extension": ".py",
   "mimetype": "text/x-python",
   "name": "python",
   "nbconvert_exporter": "python",
   "pygments_lexer": "ipython3",
   "version": "3.9.12"
  }
 },
 "nbformat": 4,
 "nbformat_minor": 4
}
